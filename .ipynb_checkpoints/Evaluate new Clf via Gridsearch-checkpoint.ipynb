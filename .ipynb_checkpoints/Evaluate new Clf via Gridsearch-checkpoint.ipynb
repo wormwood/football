{
 "cells": [
  {
   "cell_type": "code",
   "execution_count": 10,
   "metadata": {
    "collapsed": true
   },
   "outputs": [],
   "source": [
    "from sklearn.datasets import load_boston\n",
    "from sklearn.model_selection import KFold\n",
    "from sklearn.metrics import mean_squared_error\n",
    "from sklearn.model_selection import GridSearchCV\n",
    "from sklearn.ensemble import RandomForestRegressor\n",
    "from sklearn.ensemble import RandomForestClassifier\n",
    "from sklearn.svm import SVR\n",
    "import numpy as np\n",
    "from sklearn.model_selection import train_test_split\n",
    "from sklearn.metrics import classification_report"
   ]
  },
  {
   "cell_type": "code",
   "execution_count": 2,
   "metadata": {
    "collapsed": true
   },
   "outputs": [],
   "source": [
    "from FixturesOdds import FixturesOdds\n",
    "import matplotlib.pyplot as plt"
   ]
  },
  {
   "cell_type": "code",
   "execution_count": 124,
   "metadata": {
    "collapsed": true
   },
   "outputs": [],
   "source": [
    "import FootballClf"
   ]
  },
  {
   "cell_type": "code",
   "execution_count": 168,
   "metadata": {
    "collapsed": false
   },
   "outputs": [],
   "source": [
    "import warnings\n",
    "warnings.simplefilter(\"ignore\")"
   ]
  },
  {
   "cell_type": "code",
   "execution_count": 65,
   "metadata": {
    "collapsed": true
   },
   "outputs": [],
   "source": [
    "def filter_by_date_range(fix, start_date, end_date):\n",
    "    fix.df = fix.df[fix.df.FixtureDateAsDate > start_date]\n",
    "    fix.df = fix.df[fix.df.FixtureDateAsDate < end_date]\n",
    "    return fix"
   ]
  },
  {
   "cell_type": "code",
   "execution_count": 161,
   "metadata": {
    "collapsed": false
   },
   "outputs": [],
   "source": [
    "n_estimators = [int(x) for x in np.linspace(start=10, stop=100, num=5)]\n",
    "max_features = ['auto', 'sqrt']\n",
    "min_samples_leaf = [2,5,10,20]\n",
    "criterion = ['gini']\n",
    "min_samples_split=[200,400, 500,600,800]\n",
    "param_grid = [{'n_estimators' : n_estimators, 'max_features' : max_features, 'criterion' : criterion, \n",
    "                      'min_samples_split' : min_samples_split, 'min_samples_leaf' : min_samples_leaf}]"
   ]
  },
  {
   "cell_type": "code",
   "execution_count": 162,
   "metadata": {
    "collapsed": false
   },
   "outputs": [
    {
     "data": {
      "text/plain": [
       "<FixturesOdds.FixturesOdds at 0x11c666ba8>"
      ]
     },
     "execution_count": 162,
     "metadata": {},
     "output_type": "execute_result"
    }
   ],
   "source": [
    "fo=FixturesOdds()\n",
    "fo.fix_load('vwCSV_3','vwCSV_3.csv', True)\n",
    "fo.do_calcs()\n",
    "fo.clean()"
   ]
  },
  {
   "cell_type": "code",
   "execution_count": 163,
   "metadata": {
    "collapsed": true
   },
   "outputs": [],
   "source": [
    "fo = filter_by_date_range(fo, '2000-01-01', '2018-08-01')"
   ]
  },
  {
   "cell_type": "code",
   "execution_count": 164,
   "metadata": {
    "collapsed": true
   },
   "outputs": [],
   "source": [
    "clf =  RandomForestClassifier(random_state=0)\n",
    "X,y=fo.X(),fo.y()\n",
    "X_train, X_test, y_train, y_test = train_test_split(X, y, test_size=0.3, random_state=0)"
   ]
  },
  {
   "cell_type": "code",
   "execution_count": 169,
   "metadata": {
    "collapsed": false
   },
   "outputs": [],
   "source": [
    "gs=GridSearchCV(clf, param_grid, cv=5, scoring='precision_weighted')\n",
    "gs.fit(X_train, y_train)\n",
    "\n",
    "y_pred = gs.best_estimator_.fit(X_train, y_train).predict(X_test)"
   ]
  },
  {
   "cell_type": "code",
   "execution_count": 170,
   "metadata": {
    "collapsed": false
   },
   "outputs": [
    {
     "name": "stdout",
     "output_type": "stream",
     "text": [
      "              precision    recall  f1-score   support\n",
      "\n",
      "           D       0.00      0.00      0.00       652\n",
      "           L       0.44      0.47      0.46       789\n",
      "           W       0.50      0.76      0.61      1127\n",
      "\n",
      "   micro avg       0.48      0.48      0.48      2568\n",
      "   macro avg       0.31      0.41      0.35      2568\n",
      "weighted avg       0.36      0.48      0.41      2568\n",
      "\n"
     ]
    }
   ],
   "source": [
    "print(classification_report(y_test, y_pred))"
   ]
  },
  {
   "cell_type": "code",
   "execution_count": 171,
   "metadata": {
    "collapsed": false
   },
   "outputs": [
    {
     "data": {
      "text/plain": [
       "{'bootstrap': True,\n",
       " 'class_weight': None,\n",
       " 'criterion': 'gini',\n",
       " 'max_depth': None,\n",
       " 'max_features': 'auto',\n",
       " 'max_leaf_nodes': None,\n",
       " 'min_impurity_decrease': 0.0,\n",
       " 'min_impurity_split': None,\n",
       " 'min_samples_leaf': 2,\n",
       " 'min_samples_split': 600,\n",
       " 'min_weight_fraction_leaf': 0.0,\n",
       " 'n_estimators': 55,\n",
       " 'n_jobs': None,\n",
       " 'oob_score': False,\n",
       " 'random_state': 0,\n",
       " 'verbose': 0,\n",
       " 'warm_start': False}"
      ]
     },
     "execution_count": 171,
     "metadata": {},
     "output_type": "execute_result"
    }
   ],
   "source": [
    "gs.best_estimator_.get_params()"
   ]
  },
  {
   "cell_type": "code",
   "execution_count": 156,
   "metadata": {
    "collapsed": false
   },
   "outputs": [
    {
     "data": {
      "text/plain": [
       "<FixturesOdds.FixturesOdds at 0x11cce8278>"
      ]
     },
     "execution_count": 156,
     "metadata": {},
     "output_type": "execute_result"
    }
   ],
   "source": [
    "fix_pred=FixturesOdds()\n",
    "fix_pred.fix_load('vwCSV_3','vwCSV_3.csv', False) # no reresh\n",
    "fix_pred.do_calcs()\n",
    "fix_pred.clean_predict()"
   ]
  },
  {
   "cell_type": "code",
   "execution_count": 157,
   "metadata": {
    "collapsed": false
   },
   "outputs": [
    {
     "data": {
      "text/plain": [
       "<FixturesOdds.FixturesOdds at 0x11cce8278>"
      ]
     },
     "execution_count": 157,
     "metadata": {},
     "output_type": "execute_result"
    }
   ],
   "source": [
    "#see how we would have done in the 2018 season\n",
    "fix_pred = filter_by_date_range(fix_pred, '2018-08-02', '2018-11-15')\n",
    "fix_pred.filter_by_col('leagueid', int(1))"
   ]
  },
  {
   "cell_type": "code",
   "execution_count": 158,
   "metadata": {
    "collapsed": true
   },
   "outputs": [],
   "source": [
    "X_pred=fix_pred.X()\n",
    "y_pred=fix_pred.y()"
   ]
  },
  {
   "cell_type": "code",
   "execution_count": 159,
   "metadata": {
    "collapsed": false
   },
   "outputs": [],
   "source": [
    "y_test = gs.best_estimator_.predict(X_pred)"
   ]
  },
  {
   "cell_type": "code",
   "execution_count": 160,
   "metadata": {
    "collapsed": false
   },
   "outputs": [
    {
     "name": "stdout",
     "output_type": "stream",
     "text": [
      "              precision    recall  f1-score   support\n",
      "\n",
      "           D       0.00      0.00      0.00         0\n",
      "           L       0.63      0.62      0.62        39\n",
      "           W       0.81      0.54      0.65        70\n",
      "\n",
      "   micro avg       0.57      0.57      0.57       109\n",
      "   macro avg       0.48      0.39      0.42       109\n",
      "weighted avg       0.75      0.57      0.64       109\n",
      "\n"
     ]
    },
    {
     "name": "stderr",
     "output_type": "stream",
     "text": [
      "/Library/Frameworks/Python.framework/Versions/3.5/lib/python3.5/site-packages/sklearn/metrics/classification.py:1145: UndefinedMetricWarning: Recall and F-score are ill-defined and being set to 0.0 in labels with no true samples.\n",
      "  'recall', 'true', average, warn_for)\n"
     ]
    }
   ],
   "source": [
    "print(classification_report(y_test, y_pred))"
   ]
  },
  {
   "cell_type": "code",
   "execution_count": 180,
   "metadata": {
    "collapsed": true
   },
   "outputs": [],
   "source": [
    "c=FootballClf.FootballClf()\n",
    "c.save(gs.best_estimator_, 'betting clf_2.1', 1, 'fixed AVG goal records', 'odds_clf_dev2', ['ExpectedResult', 'FTG_3', 'FTG_5', 'HomeOdds', 'DrawOdds', 'AwayOdds'])\n"
   ]
  },
  {
   "cell_type": "code",
   "execution_count": 133,
   "metadata": {
    "collapsed": true
   },
   "outputs": [],
   "source": [
    "import pandas as pd"
   ]
  },
  {
   "cell_type": "code",
   "execution_count": 138,
   "metadata": {
    "collapsed": true
   },
   "outputs": [],
   "source": [
    "predictday='2018-11-24'\n",
    "leagueid=1\n",
    "refresh=False"
   ]
  },
  {
   "cell_type": "code",
   "execution_count": 134,
   "metadata": {
    "collapsed": false
   },
   "outputs": [],
   "source": [
    "pd.set_option('display.max_colwidth', 18)\n",
    "pd.set_option('colheader_justify', 'left')\n",
    "pd.set_option('display.expand_frame_repr', False)"
   ]
  },
  {
   "cell_type": "code",
   "execution_count": 181,
   "metadata": {
    "collapsed": false
   },
   "outputs": [],
   "source": [
    "fix_pred=FixturesOdds()\n",
    "fix_pred.fix_load('vwCSV_3','vwCSV_3.csv', refresh) # no reresh\n",
    "fix_pred.do_calcs()\n",
    "\n",
    "fix_pred.add_live_odds('skybet', int(leagueid),predictday)\n",
    "fix_pred.clean_predict()\n",
    "\n",
    "fix_pred.filter_by_col('FixtureDateAsDate', predictday).filter_by_col('leagueid', int(leagueid))\n",
    "X=fix_pred.X()"
   ]
  },
  {
   "cell_type": "code",
   "execution_count": 176,
   "metadata": {
    "collapsed": false
   },
   "outputs": [],
   "source": [
    "clf=gs.best_estimator_"
   ]
  },
  {
   "cell_type": "code",
   "execution_count": 182,
   "metadata": {
    "collapsed": true
   },
   "outputs": [],
   "source": [
    "c=FootballClf.FootballClf()\n",
    "clf=c.load_by_name('betting clf_2.1')"
   ]
  },
  {
   "cell_type": "code",
   "execution_count": 183,
   "metadata": {
    "collapsed": false
   },
   "outputs": [
    {
     "name": "stdout",
     "output_type": "stream",
     "text": [
      "    FixtureDateAsDate HomeTeam           AwayTeam         prediction  HomeOdds  DrawOdds  AwayOdds\n",
      "116 2018-11-24         Brighton & Hov...   Leicester City  L           2.90     3.20      2.50    \n",
      "467 2018-11-24                   Everton     Cardiff City  W           1.44     4.33      7.00    \n",
      "597 2018-11-24                    Fulham      Southampton  L           2.50     3.40      2.70    \n",
      "825 2018-11-24         Manchester United   Crystal Palace  W           1.40     4.50      8.00    \n",
      "710 2018-11-24         Tottenham Hotspur          Chelsea  L           2.70     3.40      2.50    \n",
      "239 2018-11-24                   Watford        Liverpool  L           6.00     4.20      1.53    \n",
      "353 2018-11-24           West Ham United  Manchester City  L          11.00     6.00      1.25    \n"
     ]
    }
   ],
   "source": [
    "fix_pred.df['prediction']=clf.predict(X)\n",
    "fix_pred.df.sort_values('HomeTeam', inplace=True)\n",
    "\n",
    "print(fix_pred.df[['FixtureDateAsDate','HomeTeam', 'AwayTeam', 'prediction', 'HomeOdds', 'DrawOdds', 'AwayOdds']])"
   ]
  },
  {
   "cell_type": "code",
   "execution_count": 178,
   "metadata": {
    "collapsed": true
   },
   "outputs": [],
   "source": [
    "#existing classifier\n",
    "c=FootballClf.FootballClf()\n",
    "clf=c.load_by_name('betting clf_1.1')"
   ]
  },
  {
   "cell_type": "code",
   "execution_count": 179,
   "metadata": {
    "collapsed": false
   },
   "outputs": [
    {
     "name": "stdout",
     "output_type": "stream",
     "text": [
      "    FixtureDateAsDate HomeTeam           AwayTeam         prediction  HomeOdds  DrawOdds  AwayOdds\n",
      "116 2018-11-24         Brighton & Hov...   Leicester City  W           2.90     3.20      2.50    \n",
      "598 2018-11-24                   Everton     Cardiff City  L           1.44     4.33      7.00    \n",
      "483 2018-11-24                    Fulham      Southampton  L           2.50     3.40      2.70    \n",
      "825 2018-11-24         Manchester United   Crystal Palace  W           1.40     4.50      8.00    \n",
      "710 2018-11-24         Tottenham Hotspur          Chelsea  W           2.70     3.40      2.50    \n",
      "239 2018-11-24                   Watford        Liverpool  L           6.00     4.20      1.53    \n",
      "353 2018-11-24           West Ham United  Manchester City  W          11.00     6.00      1.25    \n"
     ]
    }
   ],
   "source": [
    "fix_pred.df['prediction']=clf.predict(X)\n",
    "fix_pred.df.sort_values('HomeTeam', inplace=True)\n",
    "\n",
    "print(fix_pred.df[['FixtureDateAsDate','HomeTeam', 'AwayTeam', 'prediction', 'HomeOdds', 'DrawOdds', 'AwayOdds']])"
   ]
  },
  {
   "cell_type": "code",
   "execution_count": null,
   "metadata": {
    "collapsed": true
   },
   "outputs": [],
   "source": []
  }
 ],
 "metadata": {
  "kernelspec": {
   "display_name": "Python 3",
   "language": "python",
   "name": "python3"
  },
  "language_info": {
   "codemirror_mode": {
    "name": "ipython",
    "version": 3
   },
   "file_extension": ".py",
   "mimetype": "text/x-python",
   "name": "python",
   "nbconvert_exporter": "python",
   "pygments_lexer": "ipython3",
   "version": "3.5.1"
  }
 },
 "nbformat": 4,
 "nbformat_minor": 0
}
