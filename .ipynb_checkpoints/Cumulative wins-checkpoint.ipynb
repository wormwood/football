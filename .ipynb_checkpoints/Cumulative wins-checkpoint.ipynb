{
 "cells": [
  {
   "cell_type": "code",
   "execution_count": 37,
   "metadata": {
    "collapsed": false
   },
   "outputs": [],
   "source": [
    "import pandas as pd\n",
    "from FixturesOdds import FixturesOdds\n",
    "import numpy as np\n",
    "import matplotlib.pyplot as plt"
   ]
  },
  {
   "cell_type": "code",
   "execution_count": 138,
   "metadata": {
    "collapsed": true
   },
   "outputs": [],
   "source": [
    "import FootballClf"
   ]
  },
  {
   "cell_type": "code",
   "execution_count": 38,
   "metadata": {
    "collapsed": false
   },
   "outputs": [
    {
     "name": "stdout",
     "output_type": "stream",
     "text": [
      "The autoreload extension is already loaded. To reload it, use:\n",
      "  %reload_ext autoreload\n"
     ]
    }
   ],
   "source": [
    "%load_ext autoreload \n",
    "%autoreload 2"
   ]
  },
  {
   "cell_type": "code",
   "execution_count": null,
   "metadata": {
    "collapsed": true
   },
   "outputs": [],
   "source": [
    "%matplotlib inline"
   ]
  },
  {
   "cell_type": "code",
   "execution_count": 39,
   "metadata": {
    "collapsed": true
   },
   "outputs": [],
   "source": [
    "filename = 'vwCSV_3.csv'"
   ]
  },
  {
   "cell_type": "code",
   "execution_count": 40,
   "metadata": {
    "collapsed": false
   },
   "outputs": [],
   "source": [
    "fix=FixturesOdds()\n",
    "fix.fix_load('vwCSV_3','vwCSV_3.csv', True) # no reresh\n",
    "fix.do_calcs()"
   ]
  },
  {
   "cell_type": "code",
   "execution_count": 26,
   "metadata": {
    "collapsed": false
   },
   "outputs": [
    {
     "data": {
      "text/plain": [
       "leagueid\n",
       "1    2019-05-11 00:00:00.000\n",
       "2    2019-05-05 00:00:00.000\n",
       "3    2018-10-20 00:00:00.000\n",
       "4    2018-10-20 00:00:00.000\n",
       "5    2018-08-25 00:00:00.000\n",
       "Name: fixDate, dtype: object"
      ]
     },
     "execution_count": 26,
     "metadata": {},
     "output_type": "execute_result"
    }
   ],
   "source": [
    "#last fixture with a result by league\n",
    "df['fixDate'].groupby(df['leagueid']).max()"
   ]
  },
  {
   "cell_type": "code",
   "execution_count": 35,
   "metadata": {
    "collapsed": false
   },
   "outputs": [
    {
     "data": {
      "text/plain": [
       "leagueid\n",
       "1    2018-10-22 00:00:00.000\n",
       "2    2018-10-24 00:00:00.000\n",
       "3    2018-10-20 00:00:00.000\n",
       "4    2018-10-20 00:00:00.000\n",
       "Name: fixDate, dtype: object"
      ]
     },
     "execution_count": 35,
     "metadata": {},
     "output_type": "execute_result"
    }
   ],
   "source": [
    "df[df.FTHG.notnull()].fixDate.groupby(df['leagueid']).max()"
   ]
  },
  {
   "cell_type": "code",
   "execution_count": 131,
   "metadata": {
    "collapsed": false
   },
   "outputs": [
    {
     "data": {
      "text/plain": [
       "Index(['FixtureID', 'season', 'leagueid', 'fixDate', 'HomeTeamID', 'FTHG',\n",
       "       'AwayTeamID', 'FTAG', 'HomeELO_prev', 'AwayELO_prev', 'HomeTeamResult',\n",
       "       'AwayTeamResult', 'HomeTeam', 'AwayTeam', 'FTHG_3', 'FTAG_3', 'FTHG_5',\n",
       "       'FTAG_5', 'HomeOdds', 'DrawOdds', 'AwayOdds', 'FixtureDateAsDate',\n",
       "       'Target', 'HTRecord', 'ATRecord', 'ExpectedResult', 'FTG_3', 'FTG_5'],\n",
       "      dtype='object')"
      ]
     },
     "execution_count": 131,
     "metadata": {},
     "output_type": "execute_result"
    }
   ],
   "source": [
    "# what are the returns if just bet on short odds\n",
    "fix=FixturesOdds()\n",
    "fix.fix_load('vwCSV_3','vwCSV_3.csv', False) # no reresh\n",
    "fix.do_calcs()"
   ]
  },
  {
   "cell_type": "code",
   "execution_count": 93,
   "metadata": {
    "collapsed": true
   },
   "outputs": [],
   "source": []
  },
  {
   "cell_type": "code",
   "execution_count": 283,
   "metadata": {
    "collapsed": true
   },
   "outputs": [],
   "source": [
    "def applic_odds(row):\n",
    "    \n",
    "    if row['prediction'] != row['HomeTeamResult']:\n",
    "        return 0\n",
    "    elif row['HomeTeamResult'] == 'W' :\n",
    "        return row['HomeOdds']\n",
    "    elif row['HomeTeamResult'] =='D':\n",
    "        return row['DrawOdds']\n",
    "    else:\n",
    "        return row['AwayOdds']\n",
    "\n",
    "def gen_report(fix):\n",
    "\n",
    "    grouper = fix.df.groupby(fix.df.FixtureDateAsDate.dt.strftime('%Y-%W'))\n",
    "    df = pd.DataFrame(grouper.applic_odds.sum())\n",
    "    df['stake'] = grouper.stake.sum()\n",
    "    df['weeklyprofit']=df.applic_odds + df.stake\n",
    "    df['betting_account'] = df.weeklyprofit.cumsum()\n",
    "    return df"
   ]
  },
  {
   "cell_type": "code",
   "execution_count": 268,
   "metadata": {
    "collapsed": false
   },
   "outputs": [
    {
     "data": {
      "text/plain": [
       "<FixturesOdds.FixturesOdds at 0x1076210f0>"
      ]
     },
     "execution_count": 268,
     "metadata": {},
     "output_type": "execute_result"
    }
   ],
   "source": [
    "fix_pred=FixturesOdds()\n",
    "fix_pred.fix_load('vwCSV_3','vwCSV_3.csv', False) # no reresh\n",
    "fix_pred.do_calcs()\n",
    "fix_pred.clean_predict()\n",
    "fix_pred.filter_by_col('season',2018).filter_by_col('leagueid',1)"
   ]
  },
  {
   "cell_type": "code",
   "execution_count": 271,
   "metadata": {
    "collapsed": false
   },
   "outputs": [],
   "source": [
    "X=fix_pred.X()\n",
    "c=FootballClf.FootballClf()\n",
    "clf=c.load_by_name('betting clf')"
   ]
  },
  {
   "cell_type": "code",
   "execution_count": 272,
   "metadata": {
    "collapsed": true
   },
   "outputs": [],
   "source": [
    "disp_cols=['FixtureDateAsDate','HomeTeam', 'AwayTeam', 'prediction', 'HomeOdds', \n",
    "           'DrawOdds', 'AwayOdds', 'HomeTeamResult', 'stake', 'applic_odds']"
   ]
  },
  {
   "cell_type": "code",
   "execution_count": 273,
   "metadata": {
    "collapsed": false
   },
   "outputs": [],
   "source": [
    "fix_pred.df['prediction'] = clf.predict(X)\n",
    "fix_pred.df['stake']=-1\n",
    "fix_pred.df['applic_odds'] = fix_pred.df.apply(applic_odds, axis=1) #decide on payout"
   ]
  },
  {
   "cell_type": "code",
   "execution_count": 284,
   "metadata": {
    "collapsed": false
   },
   "outputs": [
    {
     "data": {
      "text/plain": [
       "<matplotlib.axes._subplots.AxesSubplot at 0x13c842390>"
      ]
     },
     "execution_count": 284,
     "metadata": {},
     "output_type": "execute_result"
    },
    {
     "data": {
      "image/png": "[encoded data removed]",
      "text/plain": [
       "<matplotlib.figure.Figure at 0x13ca10390>"
      ]
     },
     "metadata": {},
     "output_type": "display_data"
    }
   ],
   "source": [
    "gen_report(fix_pred).betting_account.plot()"
   ]
  },
  {
   "cell_type": "code",
   "execution_count": 282,
   "metadata": {
    "collapsed": false
   },
   "outputs": [
    {
     "data": {
      "text/plain": [
       "HomeOdds    2.470499\n",
       "DrawOdds    3.528682\n",
       "AwayOdds    3.713422\n",
       "dtype: float64"
      ]
     },
     "execution_count": 282,
     "metadata": {},
     "output_type": "execute_result"
    }
   ],
   "source": [
    "oddslist=['HomeOdds','DrawOdds', 'AwayOdds']\n",
    "fix.df[oddslist].mean()"
   ]
  },
  {
   "cell_type": "code",
   "execution_count": null,
   "metadata": {
    "collapsed": true
   },
   "outputs": [],
   "source": []
  },
  {
   "cell_type": "code",
   "execution_count": 114,
   "metadata": {
    "collapsed": false
   },
   "outputs": [
    {
     "data": {
      "text/html": [
       "<div>\n",
       "<style>\n",
       "    .dataframe thead tr:only-child th {\n",
       "        text-align: right;\n",
       "    }\n",
       "\n",
       "    .dataframe thead th {\n",
       "        text-align: left;\n",
       "    }\n",
       "\n",
       "    .dataframe tbody tr th {\n",
       "        vertical-align: top;\n",
       "    }\n",
       "</style>\n",
       "<table border=\"1\" class=\"dataframe\">\n",
       "  <thead>\n",
       "    <tr style=\"text-align: right;\">\n",
       "      <th></th>\n",
       "      <th>fixdate</th>\n",
       "      <th>HomeOdds</th>\n",
       "      <th>DrawOdds</th>\n",
       "      <th>AwayOdds</th>\n",
       "      <th>Result</th>\n",
       "      <th>prediction</th>\n",
       "      <th>min_odds</th>\n",
       "      <th>stake</th>\n",
       "      <th>payoff</th>\n",
       "    </tr>\n",
       "  </thead>\n",
       "  <tbody>\n",
       "    <tr>\n",
       "      <th>0</th>\n",
       "      <td>2018-01-01</td>\n",
       "      <td>1.538369</td>\n",
       "      <td>2.366103</td>\n",
       "      <td>2.297300</td>\n",
       "      <td>L</td>\n",
       "      <td>W</td>\n",
       "      <td>1.538369</td>\n",
       "      <td>-1</td>\n",
       "      <td>0.000000</td>\n",
       "    </tr>\n",
       "    <tr>\n",
       "      <th>1</th>\n",
       "      <td>2018-01-02</td>\n",
       "      <td>1.593540</td>\n",
       "      <td>4.062548</td>\n",
       "      <td>2.403764</td>\n",
       "      <td>L</td>\n",
       "      <td>W</td>\n",
       "      <td>1.593540</td>\n",
       "      <td>-1</td>\n",
       "      <td>0.000000</td>\n",
       "    </tr>\n",
       "    <tr>\n",
       "      <th>2</th>\n",
       "      <td>2018-01-03</td>\n",
       "      <td>1.989621</td>\n",
       "      <td>3.613715</td>\n",
       "      <td>2.228707</td>\n",
       "      <td>W</td>\n",
       "      <td>W</td>\n",
       "      <td>1.989621</td>\n",
       "      <td>-1</td>\n",
       "      <td>1.989621</td>\n",
       "    </tr>\n",
       "    <tr>\n",
       "      <th>3</th>\n",
       "      <td>2018-01-04</td>\n",
       "      <td>1.475949</td>\n",
       "      <td>2.623604</td>\n",
       "      <td>3.107861</td>\n",
       "      <td>L</td>\n",
       "      <td>W</td>\n",
       "      <td>1.475949</td>\n",
       "      <td>-1</td>\n",
       "      <td>0.000000</td>\n",
       "    </tr>\n",
       "    <tr>\n",
       "      <th>4</th>\n",
       "      <td>2018-01-05</td>\n",
       "      <td>1.786615</td>\n",
       "      <td>2.139673</td>\n",
       "      <td>2.420279</td>\n",
       "      <td>D</td>\n",
       "      <td>W</td>\n",
       "      <td>1.786615</td>\n",
       "      <td>-1</td>\n",
       "      <td>0.000000</td>\n",
       "    </tr>\n",
       "    <tr>\n",
       "      <th>5</th>\n",
       "      <td>2018-01-06</td>\n",
       "      <td>1.858807</td>\n",
       "      <td>3.493159</td>\n",
       "      <td>2.403025</td>\n",
       "      <td>D</td>\n",
       "      <td>W</td>\n",
       "      <td>1.858807</td>\n",
       "      <td>-1</td>\n",
       "      <td>0.000000</td>\n",
       "    </tr>\n",
       "    <tr>\n",
       "      <th>6</th>\n",
       "      <td>2018-01-07</td>\n",
       "      <td>1.616708</td>\n",
       "      <td>2.846147</td>\n",
       "      <td>4.231335</td>\n",
       "      <td>W</td>\n",
       "      <td>W</td>\n",
       "      <td>1.616708</td>\n",
       "      <td>-1</td>\n",
       "      <td>1.616708</td>\n",
       "    </tr>\n",
       "    <tr>\n",
       "      <th>7</th>\n",
       "      <td>2018-01-08</td>\n",
       "      <td>1.522520</td>\n",
       "      <td>2.848603</td>\n",
       "      <td>2.365399</td>\n",
       "      <td>W</td>\n",
       "      <td>W</td>\n",
       "      <td>1.522520</td>\n",
       "      <td>-1</td>\n",
       "      <td>1.522520</td>\n",
       "    </tr>\n",
       "    <tr>\n",
       "      <th>8</th>\n",
       "      <td>2018-01-09</td>\n",
       "      <td>1.735599</td>\n",
       "      <td>3.015244</td>\n",
       "      <td>1.713221</td>\n",
       "      <td>L</td>\n",
       "      <td>L</td>\n",
       "      <td>1.713221</td>\n",
       "      <td>-1</td>\n",
       "      <td>1.713221</td>\n",
       "    </tr>\n",
       "    <tr>\n",
       "      <th>9</th>\n",
       "      <td>2018-01-10</td>\n",
       "      <td>2.092888</td>\n",
       "      <td>3.722471</td>\n",
       "      <td>1.076603</td>\n",
       "      <td>L</td>\n",
       "      <td>L</td>\n",
       "      <td>1.076603</td>\n",
       "      <td>-1</td>\n",
       "      <td>1.076603</td>\n",
       "    </tr>\n",
       "  </tbody>\n",
       "</table>\n",
       "</div>"
      ],
      "text/plain": [
       "     fixdate  HomeOdds  DrawOdds  AwayOdds Result prediction  min_odds  stake  \\\n",
       "0 2018-01-01  1.538369  2.366103  2.297300      L          W  1.538369     -1   \n",
       "1 2018-01-02  1.593540  4.062548  2.403764      L          W  1.593540     -1   \n",
       "2 2018-01-03  1.989621  3.613715  2.228707      W          W  1.989621     -1   \n",
       "3 2018-01-04  1.475949  2.623604  3.107861      L          W  1.475949     -1   \n",
       "4 2018-01-05  1.786615  2.139673  2.420279      D          W  1.786615     -1   \n",
       "5 2018-01-06  1.858807  3.493159  2.403025      D          W  1.858807     -1   \n",
       "6 2018-01-07  1.616708  2.846147  4.231335      W          W  1.616708     -1   \n",
       "7 2018-01-08  1.522520  2.848603  2.365399      W          W  1.522520     -1   \n",
       "8 2018-01-09  1.735599  3.015244  1.713221      L          L  1.713221     -1   \n",
       "9 2018-01-10  2.092888  3.722471  1.076603      L          L  1.076603     -1   \n",
       "\n",
       "     payoff  \n",
       "0  0.000000  \n",
       "1  0.000000  \n",
       "2  1.989621  \n",
       "3  0.000000  \n",
       "4  0.000000  \n",
       "5  0.000000  \n",
       "6  1.616708  \n",
       "7  1.522520  \n",
       "8  1.713221  \n",
       "9  1.076603  "
      ]
     },
     "execution_count": 114,
     "metadata": {},
     "output_type": "execute_result"
    }
   ],
   "source": [
    "size=400\n",
    "df2=pd.DataFrame()\n",
    "df2['fixdate']=pd.date_range(start='1/1/2018', periods=size)\n",
    "df2['HomeOdds']=np.random.normal(1.8, 0.3,size=size)\n",
    "df2['DrawOdds']=np.random.normal(3.1, 0.6,size=size)\n",
    "df2['AwayOdds']=np.random.normal(2.2, 0.8,size=size)\n",
    "df2['Result']=np.random.choice(['W','D','L'], size)\n",
    "df2['prediction']=df2[oddslist].idxmin(axis=1).map({'HomeOdds':'W', 'DrawOdds':'D', 'AwayOdds':'L'})\n",
    "\n",
    "df2['min_odds']=df2[oddslist].min(axis=1)\n",
    "df2['stake']=-1\n",
    "df2['payoff'] = np.where(df2['Result']==df2['prediction'],df2['min_odds'] , 0)\n",
    "df2.head(10)"
   ]
  }
 ],
 "metadata": {
  "kernelspec": {
   "display_name": "Python 3",
   "language": "python",
   "name": "python3"
  },
  "language_info": {
   "codemirror_mode": {
    "name": "ipython",
    "version": 3
   },
   "file_extension": ".py",
   "mimetype": "text/x-python",
   "name": "python",
   "nbconvert_exporter": "python",
   "pygments_lexer": "ipython3",
   "version": "3.5.1"
  }
 },
 "nbformat": 4,
 "nbformat_minor": 0
}
