{
 "cells": [
  {
   "cell_type": "code",
   "execution_count": 65,
   "metadata": {
    "collapsed": true
   },
   "outputs": [],
   "source": [
    "from Fixtures import Fixtures"
   ]
  },
  {
   "cell_type": "code",
   "execution_count": 66,
   "metadata": {
    "collapsed": true
   },
   "outputs": [],
   "source": [
    "from sklearn.cross_validation import train_test_split\n",
    "from sklearn.ensemble import RandomForestClassifier\n",
    "from sklearn.metrics import classification_report"
   ]
  },
  {
   "cell_type": "code",
   "execution_count": 67,
   "metadata": {
    "collapsed": true
   },
   "outputs": [],
   "source": [
    "\n",
    "from sklearn.metrics import accuracy_score\n",
    "from sklearn.metrics import confusion_matrix\n",
    "\n",
    "import matplotlib.pyplot as plt\n",
    "import numpy as np\n",
    "from sklearn.ensemble import AdaBoostClassifier\n",
    "from sklearn.grid_search import GridSearchCV"
   ]
  },
  {
   "cell_type": "code",
   "execution_count": 68,
   "metadata": {
    "collapsed": false
   },
   "outputs": [
    {
     "name": "stdout",
     "output_type": "stream",
     "text": [
      "The autoreload extension is already loaded. To reload it, use:\n",
      "  %reload_ext autoreload\n"
     ]
    }
   ],
   "source": [
    "%load_ext autoreload \n",
    "%autoreload 2"
   ]
  },
  {
   "cell_type": "code",
   "execution_count": 69,
   "metadata": {
    "collapsed": false
   },
   "outputs": [
    {
     "data": {
      "text/plain": [
       "<Fixtures.Fixtures at 0x1198c6710>"
      ]
     },
     "execution_count": 69,
     "metadata": {},
     "output_type": "execute_result"
    }
   ],
   "source": [
    "fixs = Fixtures()\n",
    "fixs.fix_load('vwCSV_2','vwCSV_2.csv', True)"
   ]
  },
  {
   "cell_type": "code",
   "execution_count": 70,
   "metadata": {
    "collapsed": false
   },
   "outputs": [
    {
     "data": {
      "text/plain": [
       "<Fixtures.Fixtures at 0x1198c6710>"
      ]
     },
     "execution_count": 70,
     "metadata": {},
     "output_type": "execute_result"
    }
   ],
   "source": [
    "fixs.do_calcs()\n",
    "fixs.clean()"
   ]
  },
  {
   "cell_type": "code",
   "execution_count": 71,
   "metadata": {
    "collapsed": false
   },
   "outputs": [],
   "source": [
    "X,y=fixs.X(),fixs.y()\n",
    "X_train, X_test, y_train, y_test = train_test_split(X, y, test_size=0.3, random_state=0)"
   ]
  },
  {
   "cell_type": "code",
   "execution_count": 72,
   "metadata": {
    "collapsed": true
   },
   "outputs": [],
   "source": [
    "clf =  RandomForestClassifier(max_depth=10, n_estimators=2000, min_samples_leaf=10, random_state=0)"
   ]
  },
  {
   "cell_type": "code",
   "execution_count": 13,
   "metadata": {
    "collapsed": false
   },
   "outputs": [],
   "source": [
    "n_estimators = [int(x) for x in np.linspace(start=10, stop=100, num=10)]\n",
    "max_features = ['auto', 'sqrt']\n",
    "criterion = ['gini']\n",
    "min_samples_split=[2,5,10]\n",
    "param_grid = [{'n_estimators' : n_estimators, 'max_features' : max_features, 'criterion' : criterion, \n",
    "                      'min_samples_split' : min_samples_split}]"
   ]
  },
  {
   "cell_type": "code",
   "execution_count": 14,
   "metadata": {
    "collapsed": false
   },
   "outputs": [],
   "source": [
    "gs=GridSearchCV(clf, param_grid, cv=5, scoring='f1_weighted')"
   ]
  },
  {
   "cell_type": "code",
   "execution_count": 15,
   "metadata": {
    "collapsed": false
   },
   "outputs": [
    {
     "data": {
      "text/plain": [
       "GridSearchCV(cv=5, error_score='raise',\n",
       "       estimator=RandomForestClassifier(bootstrap=True, class_weight=None, criterion='gini',\n",
       "            max_depth=10, max_features='auto', max_leaf_nodes=None,\n",
       "            min_samples_leaf=10, min_samples_split=2,\n",
       "            min_weight_fraction_leaf=0.0, n_estimators=2000, n_jobs=1,\n",
       "            oob_score=False, random_state=0, verbose=0, warm_start=False),\n",
       "       fit_params={}, iid=True, n_jobs=1,\n",
       "       param_grid=[{'criterion': ['gini'], 'n_estimators': [10, 20, 30, 40, 50, 60, 70, 80, 90, 100], 'min_samples_split': [2, 5, 10], 'max_features': ['auto', 'sqrt']}],\n",
       "       pre_dispatch='2*n_jobs', refit=True, scoring='f1_weighted',\n",
       "       verbose=0)"
      ]
     },
     "execution_count": 15,
     "metadata": {},
     "output_type": "execute_result"
    }
   ],
   "source": [
    "gs.fit(X_train, y_train)"
   ]
  },
  {
   "cell_type": "code",
   "execution_count": 17,
   "metadata": {
    "collapsed": false
   },
   "outputs": [
    {
     "name": "stdout",
     "output_type": "stream",
     "text": [
      "             precision    recall  f1-score   support\n",
      "\n",
      "          D       0.29      0.03      0.05       697\n",
      "          L       0.37      0.26      0.31       810\n",
      "          W       0.46      0.81      0.59      1160\n",
      "\n",
      "avg / total       0.39      0.44      0.36      2667\n",
      "\n"
     ]
    }
   ],
   "source": [
    "y_pred = gs.best_estimator_.fit(X_train, y_train).predict(X_test)\n",
    "print(classification_report(y_test, y_pred))"
   ]
  },
  {
   "cell_type": "code",
   "execution_count": 19,
   "metadata": {
    "collapsed": false
   },
   "outputs": [
    {
     "data": {
      "text/plain": [
       "{'criterion': 'gini',\n",
       " 'max_features': 'auto',\n",
       " 'min_samples_split': 2,\n",
       " 'n_estimators': 30}"
      ]
     },
     "execution_count": 19,
     "metadata": {},
     "output_type": "execute_result"
    }
   ],
   "source": [
    "gs.best_params_"
   ]
  },
  {
   "cell_type": "code",
   "execution_count": 24,
   "metadata": {
    "collapsed": false
   },
   "outputs": [
    {
     "ename": "AttributeError",
     "evalue": "'RandomForestClassifier' object has no attribute 'n_features'",
     "output_type": "error",
     "traceback": [
      "\u001b[0;31m---------------------------------------------------------------------------\u001b[0m",
      "\u001b[0;31mAttributeError\u001b[0m                            Traceback (most recent call last)",
      "\u001b[0;32m<ipython-input-24-67da430f4359>\u001b[0m in \u001b[0;36m<module>\u001b[0;34m()\u001b[0m\n\u001b[0;32m----> 1\u001b[0;31m \u001b[0mtype\u001b[0m\u001b[0;34m(\u001b[0m\u001b[0mgs\u001b[0m\u001b[0;34m.\u001b[0m\u001b[0mbest_estimator_\u001b[0m\u001b[0;34m.\u001b[0m\u001b[0mn_features\u001b[0m\u001b[0;34m)\u001b[0m\u001b[0;34m\u001b[0m\u001b[0m\n\u001b[0m",
      "\u001b[0;31mAttributeError\u001b[0m: 'RandomForestClassifier' object has no attribute 'n_features'"
     ]
    }
   ],
   "source": [
    "type(gs.best_estimator_.n_features)"
   ]
  },
  {
   "cell_type": "code",
   "execution_count": 297,
   "metadata": {
    "collapsed": false
   },
   "outputs": [],
   "source": [
    "class FixturesOdds(Fixtures):\n",
    "    \n",
    "    def __init__(self):\n",
    "        self.names=['FixtureID', 'season', 'leagueid', 'fixDate','HomeTeamID', 'FTHG', 'AwayTeamID' , 'FTAG', \n",
    "         'HomeELO_prev', 'AwayELO_prev', 'HomeTeamResult', 'AwayTeamResult',\n",
    "         'HomeTeam', 'AwayTeam', 'FTHG_3', 'FTAG_3', 'FTHG_5', 'FTAG_5', 'HomeOdds', 'DrawOdds', 'AwayOdds']\n",
    "\n",
    "        self.agg_cols=[]\n",
    "    \n",
    "    def X(self):\n",
    "        return self.df[['ExpectedResult', 'FTG_3', 'FTG_5', 'HomeOdds', 'DrawOdds', 'AwayOdds']].values\n",
    "    \n",
    "    def add_odds(self, df_odds):\n",
    "        self.df.drop(['HomeOdds', 'DrawOdds', 'AwayOdds'], axis=1, inplace=True)\n",
    "        self.df = self.df.merge(df_odds, left_on='HomeTeam', right_on='HomeTeam')\n",
    "        return self\n",
    "    "
   ]
  },
  {
   "cell_type": "code",
   "execution_count": 91,
   "metadata": {
    "collapsed": false
   },
   "outputs": [],
   "source": [
    "fo=FixturesOdds()\n",
    "fo.fix_load('vwCSV_3','vwCSV_3.csv', True)\n",
    "fo.do_calcs()"
   ]
  },
  {
   "cell_type": "code",
   "execution_count": 100,
   "metadata": {
    "collapsed": false
   },
   "outputs": [
    {
     "data": {
      "text/plain": [
       "<__main__.FixturesOdds at 0x1198d1f98>"
      ]
     },
     "execution_count": 100,
     "metadata": {},
     "output_type": "execute_result"
    }
   ],
   "source": [
    "fo.clean()"
   ]
  },
  {
   "cell_type": "code",
   "execution_count": 101,
   "metadata": {
    "collapsed": true
   },
   "outputs": [],
   "source": [
    "X,y=fo.X(),fo.y()\n",
    "X_train, X_test, y_train, y_test = train_test_split(X, y, test_size=0.3, random_state=0)"
   ]
  },
  {
   "cell_type": "code",
   "execution_count": 106,
   "metadata": {
    "collapsed": false
   },
   "outputs": [
    {
     "data": {
      "text/plain": [
       "GridSearchCV(cv=5, error_score='raise',\n",
       "       estimator=RandomForestClassifier(bootstrap=True, class_weight=None, criterion='gini',\n",
       "            max_depth=10, max_features='auto', max_leaf_nodes=None,\n",
       "            min_samples_leaf=10, min_samples_split=2,\n",
       "            min_weight_fraction_leaf=0.0, n_estimators=2000, n_jobs=1,\n",
       "            oob_score=False, random_state=0, verbose=0, warm_start=False),\n",
       "       fit_params={}, iid=True, n_jobs=1,\n",
       "       param_grid=[{'criterion': ['gini'], 'n_estimators': [10, 20, 30, 40, 50, 60, 70, 80, 90, 100], 'min_samples_split': [2, 5, 10], 'max_features': ['auto', 'sqrt']}],\n",
       "       pre_dispatch='2*n_jobs', refit=True, scoring='recall_weighted',\n",
       "       verbose=0)"
      ]
     },
     "execution_count": 106,
     "metadata": {},
     "output_type": "execute_result"
    }
   ],
   "source": [
    "gs=GridSearchCV(clf, param_grid, cv=5, scoring='recall_weighted')\n",
    "gs.fit(X_train, y_train)"
   ]
  },
  {
   "cell_type": "code",
   "execution_count": 107,
   "metadata": {
    "collapsed": false
   },
   "outputs": [
    {
     "name": "stdout",
     "output_type": "stream",
     "text": [
      "             precision    recall  f1-score   support\n",
      "\n",
      "          D       0.33      0.02      0.05       723\n",
      "          L       0.43      0.44      0.43       819\n",
      "          W       0.49      0.79      0.61      1122\n",
      "\n",
      "avg / total       0.43      0.47      0.40      2664\n",
      "\n"
     ]
    }
   ],
   "source": [
    "y_pred = gs.best_estimator_.fit(X_train, y_train).predict(X_test)\n",
    "print(classification_report(y_test, y_pred))"
   ]
  },
  {
   "cell_type": "code",
   "execution_count": 98,
   "metadata": {
    "collapsed": false
   },
   "outputs": [
    {
     "name": "stdout",
     "output_type": "stream",
     "text": [
      "0.43726937269372695\n"
     ]
    }
   ],
   "source": [
    "print(237/542)"
   ]
  },
  {
   "cell_type": "code",
   "execution_count": 110,
   "metadata": {
    "collapsed": false
   },
   "outputs": [
    {
     "data": {
      "text/plain": [
       "<__main__.FixturesOdds at 0x1198d1f98>"
      ]
     },
     "execution_count": 110,
     "metadata": {},
     "output_type": "execute_result"
    }
   ],
   "source": [
    "fo.fix_load('vwCSV_3','vwCSV_3.csv', True)\n",
    "fo.do_calcs()\n",
    "fo.filter_by_col('FixtureDateAsDate', '2018-10-20').filter_by_col('leagueid', 1)"
   ]
  },
  {
   "cell_type": "code",
   "execution_count": 135,
   "metadata": {
    "collapsed": true
   },
   "outputs": [],
   "source": [
    "url=\"https://api.the-odds-api.com/v3/odds/?sport=UPCOMING&region=uk&apiKey=fc3fa79ee130aa6427d2d86743b794fc\"\n",
    "url=\"https://api.the-odds-api.com/v3/odds/?sport=soccer_epl&region=uk&apiKey=fc3fa79ee130aa6427d2d86743b794fc\""
   ]
  },
  {
   "cell_type": "code",
   "execution_count": 138,
   "metadata": {
    "collapsed": false
   },
   "outputs": [],
   "source": [
    "import requests\n",
    "r = requests.get(url=url)\n",
    "json=r.json()\n"
   ]
  },
  {
   "cell_type": "code",
   "execution_count": 166,
   "metadata": {
    "collapsed": false
   },
   "outputs": [],
   "source": [
    "def get_game(games, home_team, bookie_key):\n",
    "    game=filter(lambda games: games['home_team']==home_team, games)\n",
    "    return game"
   ]
  },
  {
   "cell_type": "code",
   "execution_count": 371,
   "metadata": {
    "collapsed": false
   },
   "outputs": [],
   "source": [
    "x=list(get_game(json['data'],'Newcastle United', 'ladbrokes'))"
   ]
  },
  {
   "cell_type": "code",
   "execution_count": 374,
   "metadata": {
    "collapsed": false
   },
   "outputs": [],
   "source": [
    "teams=x[0]['teams']"
   ]
  },
  {
   "cell_type": "code",
   "execution_count": 375,
   "metadata": {
    "collapsed": false
   },
   "outputs": [
    {
     "data": {
      "text/plain": [
       "'Newcastle United'"
      ]
     },
     "execution_count": 375,
     "metadata": {},
     "output_type": "execute_result"
    }
   ],
   "source": [
    "teams[1]"
   ]
  },
  {
   "cell_type": "code",
   "execution_count": 393,
   "metadata": {
    "collapsed": false
   },
   "outputs": [],
   "source": [
    "    url=\"https://api.the-odds-api.com/v3/odds/?sport=soccer_epl&region=uk&apiKey=fc3fa79ee130aa6427d2d86743b794fc\"\n",
    "    r = requests.get(url=url)\n",
    "    json=r.json()\n",
    "    games = json['data']\n",
    "\n",
    "    home_teams = [game['home_team'] for game in games]\n",
    "    odds=[s['odds']['h2h'] for site in sites for s in site if s['site_key']=='skybet']\n",
    "    \n",
    "    first_team = [game['teams'][0] for game in games]\n",
    "    x =  list(zip(home_teams,odds,first_team))\n",
    "    \n",
    "    df1=pd.DataFrame(x)\n",
    "    df1[['AwayOdds', 'HomeOdds', 'DrawOdds']]=pd.DataFrame(df1[1].values.tolist(), index=df1.index)\n",
    "    \n",
    "    saved_away=df1['AwayOdds']\n",
    "    swapindex=df1[0]!=df1[2]\n",
    "    df1.loc[swapindex, 'AwayOdds']=df1['HomeOdds']\n",
    "    df1.loc[swapindex, 'HomeOdds']=saved_away\n",
    "    "
   ]
  },
  {
   "cell_type": "code",
   "execution_count": 426,
   "metadata": {
    "collapsed": false
   },
   "outputs": [
    {
     "data": {
      "text/plain": [
       "[[{'last_update': 1539175729,\n",
       "   'odds': {'h2h': [1.66, 5, 4]},\n",
       "   'site_key': 'unibet',\n",
       "   'site_nice': 'Unibet'},\n",
       "  {'last_update': 1539175580,\n",
       "   'odds': {'h2h': [1.73, 5, 4.1]},\n",
       "   'site_key': 'marathonbet',\n",
       "   'site_nice': 'Marathon Bet'},\n",
       "  {'last_update': 1539175805,\n",
       "   'odds': {'h2h': [1.73, 5.25, 3.9]},\n",
       "   'site_key': 'betvictor',\n",
       "   'site_nice': 'Bet Victor'},\n",
       "  {'last_update': 1539175732,\n",
       "   'odds': {'h2h': [1.67, 5, 3.75]},\n",
       "   'site_key': 'paddypower',\n",
       "   'site_nice': 'Paddy Power'},\n",
       "  {'last_update': 1539175695,\n",
       "   'odds': {'h2h': [1.7, 4.8, 3.9]},\n",
       "   'site_key': 'williamhill',\n",
       "   'site_nice': 'William Hill'},\n",
       "  {'last_update': 1539175645,\n",
       "   'odds': {'h2h': [1.75, 5.4, 4]},\n",
       "   'site_key': 'betfair',\n",
       "   'site_nice': 'Betfair'},\n",
       "  {'last_update': 1539175737,\n",
       "   'odds': {'h2h': [1.67, 5, 3.8]},\n",
       "   'site_key': 'skybet',\n",
       "   'site_nice': 'Sky Bet'},\n",
       "  {'last_update': 1539175959,\n",
       "   'odds': {'h2h': [1.75, 4.9, 4.1]},\n",
       "   'site_key': 'onexbet',\n",
       "   'site_nice': '1xBet'},\n",
       "  {'last_update': 1539175969,\n",
       "   'odds': {'h2h': [1.7, 5, 3.7]},\n",
       "   'site_key': 'ladbrokes',\n",
       "   'site_nice': 'Ladbrokes'},\n",
       "  {'last_update': 1539175828,\n",
       "   'odds': {'h2h': [1.72, 5.1, 4.1]},\n",
       "   'site_key': 'nordicbet',\n",
       "   'site_nice': 'Nordic Bet'}],\n",
       " [{'last_update': 1539175729,\n",
       "   'odds': {'h2h': [2.35, 3, 3.4]},\n",
       "   'site_key': 'unibet',\n",
       "   'site_nice': 'Unibet'},\n",
       "  {'last_update': 1539175580,\n",
       "   'odds': {'h2h': [2.44, 3.1, 3.45]},\n",
       "   'site_key': 'marathonbet',\n",
       "   'site_nice': 'Marathon Bet'},\n",
       "  {'last_update': 1539175805,\n",
       "   'odds': {'h2h': [2.45, 3, 3.5]},\n",
       "   'site_key': 'betvictor',\n",
       "   'site_nice': 'Bet Victor'},\n",
       "  {'last_update': 1539175732,\n",
       "   'odds': {'h2h': [2.38, 2.88, 3.3]},\n",
       "   'site_key': 'paddypower',\n",
       "   'site_nice': 'Paddy Power'},\n",
       "  {'last_update': 1539175695,\n",
       "   'odds': {'h2h': [2.45, 2.87, 3.4]},\n",
       "   'site_key': 'williamhill',\n",
       "   'site_nice': 'William Hill'},\n",
       "  {'last_update': 1539175645,\n",
       "   'odds': {'h2h': [2.48, 3.1, 3.5]},\n",
       "   'site_key': 'betfair',\n",
       "   'site_nice': 'Betfair'},\n",
       "  {'last_update': 1539175737,\n",
       "   'odds': {'h2h': [2.3, 2.9, 3.5]},\n",
       "   'site_key': 'skybet',\n",
       "   'site_nice': 'Sky Bet'},\n",
       "  {'last_update': 1539175959,\n",
       "   'odds': {'h2h': [2.46, 3.1, 3.44]},\n",
       "   'site_key': 'onexbet',\n",
       "   'site_nice': '1xBet'},\n",
       "  {'last_update': 1539175969,\n",
       "   'odds': {'h2h': [2.3, 3, 3.2]},\n",
       "   'site_key': 'ladbrokes',\n",
       "   'site_nice': 'Ladbrokes'},\n",
       "  {'last_update': 1539175828,\n",
       "   'odds': {'h2h': [2.45, 3, 3.45]},\n",
       "   'site_key': 'nordicbet',\n",
       "   'site_nice': 'Nordic Bet'}],\n",
       " [{'last_update': 1539175729,\n",
       "   'odds': {'h2h': [3.5, 2.2, 3.2]},\n",
       "   'site_key': 'unibet',\n",
       "   'site_nice': 'Unibet'},\n",
       "  {'last_update': 1539175580,\n",
       "   'odds': {'h2h': [3.68, 2.27, 3.22]},\n",
       "   'site_key': 'marathonbet',\n",
       "   'site_nice': 'Marathon Bet'},\n",
       "  {'last_update': 1539175805,\n",
       "   'odds': {'h2h': [3.7, 2.25, 3.2]},\n",
       "   'site_key': 'betvictor',\n",
       "   'site_nice': 'Bet Victor'},\n",
       "  {'last_update': 1539175732,\n",
       "   'odds': {'h2h': [3.5, 2.2, 3.1]},\n",
       "   'site_key': 'paddypower',\n",
       "   'site_nice': 'Paddy Power'},\n",
       "  {'last_update': 1539175695,\n",
       "   'odds': {'h2h': [3.5, 2.25, 3.1]},\n",
       "   'site_key': 'williamhill',\n",
       "   'site_nice': 'William Hill'},\n",
       "  {'last_update': 1539175645,\n",
       "   'odds': {'h2h': [3.65, 2.28, 3.3]},\n",
       "   'site_key': 'betfair',\n",
       "   'site_nice': 'Betfair'},\n",
       "  {'last_update': 1539175737,\n",
       "   'odds': {'h2h': [3.5, 2.2, 3.1]},\n",
       "   'site_key': 'skybet',\n",
       "   'site_nice': 'Sky Bet'},\n",
       "  {'last_update': 1539175959,\n",
       "   'odds': {'h2h': [3.66, 2.29, 3.22]},\n",
       "   'site_key': 'onexbet',\n",
       "   'site_nice': '1xBet'},\n",
       "  {'last_update': 1539175969,\n",
       "   'odds': {'h2h': [3.2, 2.2, 3.2]},\n",
       "   'site_key': 'ladbrokes',\n",
       "   'site_nice': 'Ladbrokes'},\n",
       "  {'last_update': 1539175828,\n",
       "   'odds': {'h2h': [3.6, 2.29, 3.25]},\n",
       "   'site_key': 'nordicbet',\n",
       "   'site_nice': 'Nordic Bet'}],\n",
       " [{'last_update': 1539175729,\n",
       "   'odds': {'h2h': [2.15, 3.4, 3.45]},\n",
       "   'site_key': 'unibet',\n",
       "   'site_nice': 'Unibet'},\n",
       "  {'last_update': 1539175580,\n",
       "   'odds': {'h2h': [2.16, 3.68, 3.48]},\n",
       "   'site_key': 'marathonbet',\n",
       "   'site_nice': 'Marathon Bet'},\n",
       "  {'last_update': 1539175805,\n",
       "   'odds': {'h2h': [2.1, 3.7, 3.5]},\n",
       "   'site_key': 'betvictor',\n",
       "   'site_nice': 'Bet Victor'},\n",
       "  {'last_update': 1539175732,\n",
       "   'odds': {'h2h': [2.1, 3.4, 3.4]},\n",
       "   'site_key': 'paddypower',\n",
       "   'site_nice': 'Paddy Power'},\n",
       "  {'last_update': 1539175645,\n",
       "   'odds': {'h2h': [2.2, 3.75, 3.55]},\n",
       "   'site_key': 'betfair',\n",
       "   'site_nice': 'Betfair'},\n",
       "  {'last_update': 1539175737,\n",
       "   'odds': {'h2h': [2.05, 3.5, 3.5]},\n",
       "   'site_key': 'skybet',\n",
       "   'site_nice': 'Sky Bet'},\n",
       "  {'last_update': 1539175959,\n",
       "   'odds': {'h2h': [2.18, 3.66, 3.48]},\n",
       "   'site_key': 'onexbet',\n",
       "   'site_nice': '1xBet'},\n",
       "  {'last_update': 1539175969,\n",
       "   'odds': {'h2h': [2, 3.5, 3.5]},\n",
       "   'site_key': 'ladbrokes',\n",
       "   'site_nice': 'Ladbrokes'},\n",
       "  {'last_update': 1539175828,\n",
       "   'odds': {'h2h': [2.17, 3.65, 3.5]},\n",
       "   'site_key': 'nordicbet',\n",
       "   'site_nice': 'Nordic Bet'}],\n",
       " [{'last_update': 1539175729,\n",
       "   'odds': {'h2h': [29, 1.08, 12]},\n",
       "   'site_key': 'unibet',\n",
       "   'site_nice': 'Unibet'},\n",
       "  {'last_update': 1539175580,\n",
       "   'odds': {'h2h': [33, 1.09, 12.75]},\n",
       "   'site_key': 'marathonbet',\n",
       "   'site_nice': 'Marathon Bet'},\n",
       "  {'last_update': 1539175695,\n",
       "   'odds': {'h2h': [36, 1.06, 12]},\n",
       "   'site_key': 'williamhill',\n",
       "   'site_nice': 'William Hill'},\n",
       "  {'last_update': 1539175805,\n",
       "   'odds': {'h2h': [31, 1.05, 13]},\n",
       "   'site_key': 'betvictor',\n",
       "   'site_nice': 'Bet Victor'},\n",
       "  {'last_update': 1539175732,\n",
       "   'odds': {'h2h': [41, 1.06, 13]},\n",
       "   'site_key': 'paddypower',\n",
       "   'site_nice': 'Paddy Power'},\n",
       "  {'last_update': 1539175737,\n",
       "   'odds': {'h2h': [26, 1.07, 11]},\n",
       "   'site_key': 'skybet',\n",
       "   'site_nice': 'Sky Bet'},\n",
       "  {'last_update': 1539175645,\n",
       "   'odds': {'h2h': [36, 1.1, 13.5]},\n",
       "   'site_key': 'betfair',\n",
       "   'site_nice': 'Betfair'},\n",
       "  {'last_update': 1539175959,\n",
       "   'odds': {'h2h': [36, 1.1, 12.5]},\n",
       "   'site_key': 'onexbet',\n",
       "   'site_nice': '1xBet'},\n",
       "  {'last_update': 1539175969,\n",
       "   'odds': {'h2h': [21, 1.06, 10]},\n",
       "   'site_key': 'ladbrokes',\n",
       "   'site_nice': 'Ladbrokes'},\n",
       "  {'last_update': 1539175828,\n",
       "   'odds': {'h2h': [29, 1.11, 11.5]},\n",
       "   'site_key': 'nordicbet',\n",
       "   'site_nice': 'Nordic Bet'}],\n",
       " [{'last_update': 1539175729,\n",
       "   'odds': {'h2h': [4.25, 1.83, 3.7]},\n",
       "   'site_key': 'unibet',\n",
       "   'site_nice': 'Unibet'},\n",
       "  {'last_update': 1539175580,\n",
       "   'odds': {'h2h': [4.65, 1.85, 3.75]},\n",
       "   'site_key': 'marathonbet',\n",
       "   'site_nice': 'Marathon Bet'},\n",
       "  {'last_update': 1539175805,\n",
       "   'odds': {'h2h': [4.75, 1.87, 3.5]},\n",
       "   'site_key': 'betvictor',\n",
       "   'site_nice': 'Bet Victor'},\n",
       "  {'last_update': 1539175732,\n",
       "   'odds': {'h2h': [4.5, 1.8, 3.5]},\n",
       "   'site_key': 'paddypower',\n",
       "   'site_nice': 'Paddy Power'},\n",
       "  {'last_update': 1539175645,\n",
       "   'odds': {'h2h': [4.7, 1.89, 3.75]},\n",
       "   'site_key': 'betfair',\n",
       "   'site_nice': 'Betfair'},\n",
       "  {'last_update': 1539175695,\n",
       "   'odds': {'h2h': [4.4, 1.83, 3.6]},\n",
       "   'site_key': 'williamhill',\n",
       "   'site_nice': 'William Hill'},\n",
       "  {'last_update': 1539175737,\n",
       "   'odds': {'h2h': [4.33, 1.83, 3.5]},\n",
       "   'site_key': 'skybet',\n",
       "   'site_nice': 'Sky Bet'},\n",
       "  {'last_update': 1539175959,\n",
       "   'odds': {'h2h': [4.6, 1.87, 3.74]},\n",
       "   'site_key': 'onexbet',\n",
       "   'site_nice': '1xBet'},\n",
       "  {'last_update': 1539175969,\n",
       "   'odds': {'h2h': [4, 1.8, 3.5]},\n",
       "   'site_key': 'ladbrokes',\n",
       "   'site_nice': 'Ladbrokes'},\n",
       "  {'last_update': 1539175828,\n",
       "   'odds': {'h2h': [4.6, 1.86, 3.7]},\n",
       "   'site_key': 'nordicbet',\n",
       "   'site_nice': 'Nordic Bet'}],\n",
       " [{'last_update': 1539175729,\n",
       "   'odds': {'h2h': [1.8, 4.25, 3.85]},\n",
       "   'site_key': 'unibet',\n",
       "   'site_nice': 'Unibet'},\n",
       "  {'last_update': 1539175580,\n",
       "   'odds': {'h2h': [1.83, 4.5, 3.94]},\n",
       "   'site_key': 'marathonbet',\n",
       "   'site_nice': 'Marathon Bet'},\n",
       "  {'last_update': 1539175805,\n",
       "   'odds': {'h2h': [1.83, 4.5, 3.8]},\n",
       "   'site_key': 'betvictor',\n",
       "   'site_nice': 'Bet Victor'},\n",
       "  {'last_update': 1539175732,\n",
       "   'odds': {'h2h': [1.73, 4.2, 3.75]},\n",
       "   'site_key': 'paddypower',\n",
       "   'site_nice': 'Paddy Power'},\n",
       "  {'last_update': 1539175645,\n",
       "   'odds': {'h2h': [1.86, 4.6, 3.95]},\n",
       "   'site_key': 'betfair',\n",
       "   'site_nice': 'Betfair'},\n",
       "  {'last_update': 1539175695,\n",
       "   'odds': {'h2h': [1.85, 4, 3.8]},\n",
       "   'site_key': 'williamhill',\n",
       "   'site_nice': 'William Hill'},\n",
       "  {'last_update': 1539175737,\n",
       "   'odds': {'h2h': [1.83, 4, 3.8]},\n",
       "   'site_key': 'skybet',\n",
       "   'site_nice': 'Sky Bet'},\n",
       "  {'last_update': 1539175959,\n",
       "   'odds': {'h2h': [1.85, 4.44, 3.94]},\n",
       "   'site_key': 'onexbet',\n",
       "   'site_nice': '1xBet'},\n",
       "  {'last_update': 1539175969,\n",
       "   'odds': {'h2h': [1.8, 4, 3.5]},\n",
       "   'site_key': 'ladbrokes',\n",
       "   'site_nice': 'Ladbrokes'},\n",
       "  {'last_update': 1539175828,\n",
       "   'odds': {'h2h': [1.85, 4.6, 3.8]},\n",
       "   'site_key': 'nordicbet',\n",
       "   'site_nice': 'Nordic Bet'}],\n",
       " [{'last_update': 1539175729,\n",
       "   'odds': {'h2h': [12.5, 1.25, 5.9]},\n",
       "   'site_key': 'unibet',\n",
       "   'site_nice': 'Unibet'},\n",
       "  {'last_update': 1539175580,\n",
       "   'odds': {'h2h': [13.75, 1.25, 6.7]},\n",
       "   'site_key': 'marathonbet',\n",
       "   'site_nice': 'Marathon Bet'},\n",
       "  {'last_update': 1539175805,\n",
       "   'odds': {'h2h': [17, 1.22, 6]},\n",
       "   'site_key': 'betvictor',\n",
       "   'site_nice': 'Bet Victor'},\n",
       "  {'last_update': 1539175732,\n",
       "   'odds': {'h2h': [14, 1.2, 6]},\n",
       "   'site_key': 'paddypower',\n",
       "   'site_nice': 'Paddy Power'},\n",
       "  {'last_update': 1539175645,\n",
       "   'odds': {'h2h': [16, 1.26, 6.6]},\n",
       "   'site_key': 'betfair',\n",
       "   'site_nice': 'Betfair'},\n",
       "  {'last_update': 1539175695,\n",
       "   'odds': {'h2h': [15, 1.22, 6]},\n",
       "   'site_key': 'williamhill',\n",
       "   'site_nice': 'William Hill'},\n",
       "  {'last_update': 1539175737,\n",
       "   'odds': {'h2h': [13, 1.25, 5.5]},\n",
       "   'site_key': 'skybet',\n",
       "   'site_nice': 'Sky Bet'},\n",
       "  {'last_update': 1539175959,\n",
       "   'odds': {'h2h': [13, 1.26, 6.7]},\n",
       "   'site_key': 'onexbet',\n",
       "   'site_nice': '1xBet'},\n",
       "  {'last_update': 1539175969,\n",
       "   'odds': {'h2h': [13, 1.2, 5]},\n",
       "   'site_key': 'ladbrokes',\n",
       "   'site_nice': 'Ladbrokes'},\n",
       "  {'last_update': 1539175828,\n",
       "   'odds': {'h2h': [14, 1.26, 6.4]},\n",
       "   'site_key': 'nordicbet',\n",
       "   'site_nice': 'Nordic Bet'}],\n",
       " [{'last_update': 1539175729,\n",
       "   'odds': {'h2h': [4, 1.9, 3.6]},\n",
       "   'site_key': 'unibet',\n",
       "   'site_nice': 'Unibet'},\n",
       "  {'last_update': 1539175580,\n",
       "   'odds': {'h2h': [4.33, 1.94, 3.62]},\n",
       "   'site_key': 'marathonbet',\n",
       "   'site_nice': 'Marathon Bet'},\n",
       "  {'last_update': 1539175805,\n",
       "   'odds': {'h2h': [4.3, 1.95, 3.5]},\n",
       "   'site_key': 'betvictor',\n",
       "   'site_nice': 'Bet Victor'},\n",
       "  {'last_update': 1539175695,\n",
       "   'odds': {'h2h': [4, 1.91, 3.6]},\n",
       "   'site_key': 'williamhill',\n",
       "   'site_nice': 'William Hill'},\n",
       "  {'last_update': 1539175732,\n",
       "   'odds': {'h2h': [4, 1.83, 3.5]},\n",
       "   'site_key': 'paddypower',\n",
       "   'site_nice': 'Paddy Power'},\n",
       "  {'last_update': 1539175737,\n",
       "   'odds': {'h2h': [4, 1.91, 3.5]},\n",
       "   'site_key': 'skybet',\n",
       "   'site_nice': 'Sky Bet'},\n",
       "  {'last_update': 1539175645,\n",
       "   'odds': {'h2h': [4.5, 1.95, 3.65]},\n",
       "   'site_key': 'betfair',\n",
       "   'site_nice': 'Betfair'},\n",
       "  {'last_update': 1539175959,\n",
       "   'odds': {'h2h': [4.28, 1.96, 3.62]},\n",
       "   'site_key': 'onexbet',\n",
       "   'site_nice': '1xBet'},\n",
       "  {'last_update': 1539175969,\n",
       "   'odds': {'h2h': [4, 1.83, 3.4]},\n",
       "   'site_key': 'ladbrokes',\n",
       "   'site_nice': 'Ladbrokes'},\n",
       "  {'last_update': 1539175828,\n",
       "   'odds': {'h2h': [4.3, 1.94, 3.65]},\n",
       "   'site_key': 'nordicbet',\n",
       "   'site_nice': 'Nordic Bet'}],\n",
       " [{'last_update': 1539175729,\n",
       "   'odds': {'h2h': [1.47, 6.5, 4.65]},\n",
       "   'site_key': 'unibet',\n",
       "   'site_nice': 'Unibet'},\n",
       "  {'last_update': 1539175580,\n",
       "   'odds': {'h2h': [1.52, 6.6, 4.7]},\n",
       "   'site_key': 'marathonbet',\n",
       "   'site_nice': 'Marathon Bet'},\n",
       "  {'last_update': 1539175805,\n",
       "   'odds': {'h2h': [1.53, 6.5, 4.5]},\n",
       "   'site_key': 'betvictor',\n",
       "   'site_nice': 'Bet Victor'},\n",
       "  {'last_update': 1539175695,\n",
       "   'odds': {'h2h': [1.53, 5.8, 4.5]},\n",
       "   'site_key': 'williamhill',\n",
       "   'site_nice': 'William Hill'},\n",
       "  {'last_update': 1539175732,\n",
       "   'odds': {'h2h': [1.44, 6, 4.5]},\n",
       "   'site_key': 'paddypower',\n",
       "   'site_nice': 'Paddy Power'},\n",
       "  {'last_update': 1539175737,\n",
       "   'odds': {'h2h': [1.5, 6, 4.33]},\n",
       "   'site_key': 'skybet',\n",
       "   'site_nice': 'Sky Bet'},\n",
       "  {'last_update': 1539175645,\n",
       "   'odds': {'h2h': [1.55, 6.8, 4.7]},\n",
       "   'site_key': 'betfair',\n",
       "   'site_nice': 'Betfair'},\n",
       "  {'last_update': 1539175959,\n",
       "   'odds': {'h2h': [1.54, 6.35, 4.7]},\n",
       "   'site_key': 'onexbet',\n",
       "   'site_nice': '1xBet'},\n",
       "  {'last_update': 1539175969,\n",
       "   'odds': {'h2h': [1.4, 6, 4.33]},\n",
       "   'site_key': 'ladbrokes',\n",
       "   'site_nice': 'Ladbrokes'},\n",
       "  {'last_update': 1539175828,\n",
       "   'odds': {'h2h': [1.53, 6.6, 4.6]},\n",
       "   'site_key': 'nordicbet',\n",
       "   'site_nice': 'Nordic Bet'}],\n",
       " [{'last_update': 1539175729,\n",
       "   'odds': {'h2h': [3.5, 2.1, 3.35]},\n",
       "   'site_key': 'unibet',\n",
       "   'site_nice': 'Unibet'},\n",
       "  {'last_update': 1539175959,\n",
       "   'odds': {'h2h': [3.88, 2.16, 3.34]},\n",
       "   'site_key': 'onexbet',\n",
       "   'site_nice': '1xBet'},\n",
       "  {'last_update': 1539175580,\n",
       "   'odds': {'h2h': [3.9, 2.14, 3.35]},\n",
       "   'site_key': 'marathonbet',\n",
       "   'site_nice': 'Marathon Bet'},\n",
       "  {'last_update': 1539175805,\n",
       "   'odds': {'h2h': [4.1, 2.05, 3.3]},\n",
       "   'site_key': 'betvictor',\n",
       "   'site_nice': 'Bet Victor'},\n",
       "  {'last_update': 1539175695,\n",
       "   'odds': {'h2h': [3.6, 2.15, 3.25]},\n",
       "   'site_key': 'williamhill',\n",
       "   'site_nice': 'William Hill'},\n",
       "  {'last_update': 1539175732,\n",
       "   'odds': {'h2h': [3.6, 2, 3.25]},\n",
       "   'site_key': 'paddypower',\n",
       "   'site_nice': 'Paddy Power'},\n",
       "  {'last_update': 1539175645,\n",
       "   'odds': {'h2h': [3.05, 1.04, 3.05]},\n",
       "   'site_key': 'betfair',\n",
       "   'site_nice': 'Betfair'},\n",
       "  {'last_update': 1539175737,\n",
       "   'odds': {'h2h': [3.9, 2, 3.25]},\n",
       "   'site_key': 'skybet',\n",
       "   'site_nice': 'Sky Bet'}],\n",
       " [{'last_update': 1539175729,\n",
       "   'odds': {'h2h': [26, 1.1, 9.5]},\n",
       "   'site_key': 'unibet',\n",
       "   'site_nice': 'Unibet'},\n",
       "  {'last_update': 1539175959,\n",
       "   'odds': {'h2h': [36, 1.1, 12]},\n",
       "   'site_key': 'onexbet',\n",
       "   'site_nice': '1xBet'},\n",
       "  {'last_update': 1539175580,\n",
       "   'odds': {'h2h': [33, 1.1, 12.25]},\n",
       "   'site_key': 'marathonbet',\n",
       "   'site_nice': 'Marathon Bet'},\n",
       "  {'last_update': 1539175805,\n",
       "   'odds': {'h2h': [31, 1.06, 10.5]},\n",
       "   'site_key': 'betvictor',\n",
       "   'site_nice': 'Bet Victor'},\n",
       "  {'last_update': 1539175695,\n",
       "   'odds': {'h2h': [29, 1.07, 12]},\n",
       "   'site_key': 'williamhill',\n",
       "   'site_nice': 'William Hill'},\n",
       "  {'last_update': 1539175732,\n",
       "   'odds': {'h2h': [26, 1.08, 10]},\n",
       "   'site_key': 'paddypower',\n",
       "   'site_nice': 'Paddy Power'},\n",
       "  {'last_update': 1539175645,\n",
       "   'odds': {'h2h': [24, 1.13, 10.5]},\n",
       "   'site_key': 'betfair',\n",
       "   'site_nice': 'Betfair'},\n",
       "  {'last_update': 1539175737,\n",
       "   'odds': {'h2h': [23, 1.1, 9.5]},\n",
       "   'site_key': 'skybet',\n",
       "   'site_nice': 'Sky Bet'}],\n",
       " [{'last_update': 1539175729,\n",
       "   'odds': {'h2h': [2.45, 2.75, 3.5]},\n",
       "   'site_key': 'unibet',\n",
       "   'site_nice': 'Unibet'},\n",
       "  {'last_update': 1539175959,\n",
       "   'odds': {'h2h': [2.53, 2.74, 3.86]},\n",
       "   'site_key': 'onexbet',\n",
       "   'site_nice': '1xBet'},\n",
       "  {'last_update': 1539175580,\n",
       "   'odds': {'h2h': [2.51, 2.74, 3.86]},\n",
       "   'site_key': 'marathonbet',\n",
       "   'site_nice': 'Marathon Bet'},\n",
       "  {'last_update': 1539175805,\n",
       "   'odds': {'h2h': [2.5, 2.75, 3.75]},\n",
       "   'site_key': 'betvictor',\n",
       "   'site_nice': 'Bet Victor'},\n",
       "  {'last_update': 1539175732,\n",
       "   'odds': {'h2h': [2.4, 2.63, 3.6]},\n",
       "   'site_key': 'paddypower',\n",
       "   'site_nice': 'Paddy Power'},\n",
       "  {'last_update': 1539175737,\n",
       "   'odds': {'h2h': [2.4, 2.63, 3.75]},\n",
       "   'site_key': 'skybet',\n",
       "   'site_nice': 'Sky Bet'}],\n",
       " [{'last_update': 1539175729,\n",
       "   'odds': {'h2h': [3, 2.4, 3.25]},\n",
       "   'site_key': 'unibet',\n",
       "   'site_nice': 'Unibet'},\n",
       "  {'last_update': 1539175959,\n",
       "   'odds': {'h2h': [3.24, 2.47, 3.26]},\n",
       "   'site_key': 'onexbet',\n",
       "   'site_nice': '1xBet'},\n",
       "  {'last_update': 1539175580,\n",
       "   'odds': {'h2h': [3.25, 2.45, 3.26]},\n",
       "   'site_key': 'marathonbet',\n",
       "   'site_nice': 'Marathon Bet'},\n",
       "  {'last_update': 1539175805,\n",
       "   'odds': {'h2h': [3.2, 2.45, 3.25]},\n",
       "   'site_key': 'betvictor',\n",
       "   'site_nice': 'Bet Victor'},\n",
       "  {'last_update': 1539175695,\n",
       "   'odds': {'h2h': [3.1, 2.4, 3.2]},\n",
       "   'site_key': 'williamhill',\n",
       "   'site_nice': 'William Hill'},\n",
       "  {'last_update': 1539175732,\n",
       "   'odds': {'h2h': [3.1, 2.4, 3.1]},\n",
       "   'site_key': 'paddypower',\n",
       "   'site_nice': 'Paddy Power'},\n",
       "  {'last_update': 1539175737,\n",
       "   'odds': {'h2h': [3, 2.4, 3.25]},\n",
       "   'site_key': 'skybet',\n",
       "   'site_nice': 'Sky Bet'}],\n",
       " [{'last_update': 1539175729,\n",
       "   'odds': {'h2h': [4.5, 1.75, 3.75]},\n",
       "   'site_key': 'unibet',\n",
       "   'site_nice': 'Unibet'},\n",
       "  {'last_update': 1539175959,\n",
       "   'odds': {'h2h': [4.92, 1.82, 3.74]},\n",
       "   'site_key': 'onexbet',\n",
       "   'site_nice': '1xBet'},\n",
       "  {'last_update': 1539175580,\n",
       "   'odds': {'h2h': [5, 1.8, 3.75]},\n",
       "   'site_key': 'marathonbet',\n",
       "   'site_nice': 'Marathon Bet'},\n",
       "  {'last_update': 1539175805,\n",
       "   'odds': {'h2h': [5, 1.83, 3.5]},\n",
       "   'site_key': 'betvictor',\n",
       "   'site_nice': 'Bet Victor'},\n",
       "  {'last_update': 1539175695,\n",
       "   'odds': {'h2h': [4.6, 1.8, 3.6]},\n",
       "   'site_key': 'williamhill',\n",
       "   'site_nice': 'William Hill'},\n",
       "  {'last_update': 1539175732,\n",
       "   'odds': {'h2h': [4.5, 1.8, 3.4]},\n",
       "   'site_key': 'paddypower',\n",
       "   'site_nice': 'Paddy Power'},\n",
       "  {'last_update': 1539175645,\n",
       "   'odds': {'h2h': [1.04, 1.41, 3.05]},\n",
       "   'site_key': 'betfair',\n",
       "   'site_nice': 'Betfair'},\n",
       "  {'last_update': 1539175737,\n",
       "   'odds': {'h2h': [4.6, 1.8, 3.5]},\n",
       "   'site_key': 'skybet',\n",
       "   'site_nice': 'Sky Bet'}],\n",
       " [{'last_update': 1539175729,\n",
       "   'odds': {'h2h': [2.15, 3.4, 3.3]},\n",
       "   'site_key': 'unibet',\n",
       "   'site_nice': 'Unibet'},\n",
       "  {'last_update': 1539175959,\n",
       "   'odds': {'h2h': [2.2, 3.54, 3.54]},\n",
       "   'site_key': 'onexbet',\n",
       "   'site_nice': '1xBet'},\n",
       "  {'last_update': 1539175580,\n",
       "   'odds': {'h2h': [2.18, 3.56, 3.54]},\n",
       "   'site_key': 'marathonbet',\n",
       "   'site_nice': 'Marathon Bet'},\n",
       "  {'last_update': 1539175805,\n",
       "   'odds': {'h2h': [2.2, 3.5, 3.4]},\n",
       "   'site_key': 'betvictor',\n",
       "   'site_nice': 'Bet Victor'},\n",
       "  {'last_update': 1539175695,\n",
       "   'odds': {'h2h': [2.15, 3.4, 3.4]},\n",
       "   'site_key': 'williamhill',\n",
       "   'site_nice': 'William Hill'},\n",
       "  {'last_update': 1539175732,\n",
       "   'odds': {'h2h': [2.1, 3.3, 3.3]},\n",
       "   'site_key': 'paddypower',\n",
       "   'site_nice': 'Paddy Power'},\n",
       "  {'last_update': 1539175645,\n",
       "   'odds': {'h2h': [2.16, 3.5, 3.1]},\n",
       "   'site_key': 'betfair',\n",
       "   'site_nice': 'Betfair'},\n",
       "  {'last_update': 1539175737,\n",
       "   'odds': {'h2h': [2.2, 3.25, 3.4]},\n",
       "   'site_key': 'skybet',\n",
       "   'site_nice': 'Sky Bet'}],\n",
       " [{'last_update': 1539175729,\n",
       "   'odds': {'h2h': [1.7, 4.5, 4]},\n",
       "   'site_key': 'unibet',\n",
       "   'site_nice': 'Unibet'},\n",
       "  {'last_update': 1539175959,\n",
       "   'odds': {'h2h': [1.89, 4.2, 3.96]},\n",
       "   'site_key': 'onexbet',\n",
       "   'site_nice': '1xBet'},\n",
       "  {'last_update': 1539175580,\n",
       "   'odds': {'h2h': [1.87, 4.25, 3.96]},\n",
       "   'site_key': 'marathonbet',\n",
       "   'site_nice': 'Marathon Bet'},\n",
       "  {'last_update': 1539175805,\n",
       "   'odds': {'h2h': [1.85, 4.4, 3.8]},\n",
       "   'site_key': 'betvictor',\n",
       "   'site_nice': 'Bet Victor'},\n",
       "  {'last_update': 1539175695,\n",
       "   'odds': {'h2h': [1.85, 4, 3.9]},\n",
       "   'site_key': 'williamhill',\n",
       "   'site_nice': 'William Hill'},\n",
       "  {'last_update': 1539175732,\n",
       "   'odds': {'h2h': [1.73, 4.33, 3.75]},\n",
       "   'site_key': 'paddypower',\n",
       "   'site_nice': 'Paddy Power'},\n",
       "  {'last_update': 1539175645,\n",
       "   'odds': {'h2h': [1.8, 4.1, 3.8]},\n",
       "   'site_key': 'betfair',\n",
       "   'site_nice': 'Betfair'},\n",
       "  {'last_update': 1539175737,\n",
       "   'odds': {'h2h': [1.85, 4, 3.75]},\n",
       "   'site_key': 'skybet',\n",
       "   'site_nice': 'Sky Bet'}],\n",
       " [{'last_update': 1539175729,\n",
       "   'odds': {'h2h': [12, 1.32, 4.75]},\n",
       "   'site_key': 'unibet',\n",
       "   'site_nice': 'Unibet'},\n",
       "  {'last_update': 1539175959,\n",
       "   'odds': {'h2h': [11.5, 1.35, 5.25]},\n",
       "   'site_key': 'onexbet',\n",
       "   'site_nice': '1xBet'},\n",
       "  {'last_update': 1539175580,\n",
       "   'odds': {'h2h': [11.75, 1.34, 5.25]},\n",
       "   'site_key': 'marathonbet',\n",
       "   'site_nice': 'Marathon Bet'},\n",
       "  {'last_update': 1539175805,\n",
       "   'odds': {'h2h': [12, 1.33, 5]},\n",
       "   'site_key': 'betvictor',\n",
       "   'site_nice': 'Bet Victor'},\n",
       "  {'last_update': 1539175695,\n",
       "   'odds': {'h2h': [10, 1.32, 5.25]},\n",
       "   'site_key': 'williamhill',\n",
       "   'site_nice': 'William Hill'},\n",
       "  {'last_update': 1539175732,\n",
       "   'odds': {'h2h': [11, 1.29, 5]},\n",
       "   'site_key': 'paddypower',\n",
       "   'site_nice': 'Paddy Power'},\n",
       "  {'last_update': 1539175645,\n",
       "   'odds': {'h2h': [4.8, 1.19, 3.1]},\n",
       "   'site_key': 'betfair',\n",
       "   'site_nice': 'Betfair'},\n",
       "  {'last_update': 1539175737,\n",
       "   'odds': {'h2h': [10, 1.33, 4.8]},\n",
       "   'site_key': 'skybet',\n",
       "   'site_nice': 'Sky Bet'}],\n",
       " [{'last_update': 1539175729,\n",
       "   'odds': {'h2h': [5.75, 1.57, 4]},\n",
       "   'site_key': 'unibet',\n",
       "   'site_nice': 'Unibet'},\n",
       "  {'last_update': 1539175959,\n",
       "   'odds': {'h2h': [5.45, 1.7, 4.04]},\n",
       "   'site_key': 'onexbet',\n",
       "   'site_nice': '1xBet'},\n",
       "  {'last_update': 1539175580,\n",
       "   'odds': {'h2h': [5.55, 1.68, 4.05]},\n",
       "   'site_key': 'marathonbet',\n",
       "   'site_nice': 'Marathon Bet'},\n",
       "  {'last_update': 1539175805,\n",
       "   'odds': {'h2h': [5.75, 1.67, 3.9]},\n",
       "   'site_key': 'betvictor',\n",
       "   'site_nice': 'Bet Victor'},\n",
       "  {'last_update': 1539175695,\n",
       "   'odds': {'h2h': [5, 1.67, 4]},\n",
       "   'site_key': 'williamhill',\n",
       "   'site_nice': 'William Hill'},\n",
       "  {'last_update': 1539175732,\n",
       "   'odds': {'h2h': [5.5, 1.62, 3.75]},\n",
       "   'site_key': 'paddypower',\n",
       "   'site_nice': 'Paddy Power'},\n",
       "  {'last_update': 1539175737,\n",
       "   'odds': {'h2h': [5.5, 1.62, 3.9]},\n",
       "   'site_key': 'skybet',\n",
       "   'site_nice': 'Sky Bet'},\n",
       "  {'last_update': 1539175645,\n",
       "   'odds': {'h2h': [1.04, 1.04, 2.92]},\n",
       "   'site_key': 'betfair',\n",
       "   'site_nice': 'Betfair'}],\n",
       " [{'last_update': 1539175729,\n",
       "   'odds': {'h2h': [1.8, 3.9, 4.1]},\n",
       "   'site_key': 'unibet',\n",
       "   'site_nice': 'Unibet'},\n",
       "  {'last_update': 1539175959,\n",
       "   'odds': {'h2h': [1.89, 4.04, 4.1]},\n",
       "   'site_key': 'onexbet',\n",
       "   'site_nice': '1xBet'},\n",
       "  {'last_update': 1539175580,\n",
       "   'odds': {'h2h': [1.87, 4.1, 4.1]},\n",
       "   'site_key': 'marathonbet',\n",
       "   'site_nice': 'Marathon Bet'},\n",
       "  {'last_update': 1539175805,\n",
       "   'odds': {'h2h': [1.9, 4.2, 3.8]},\n",
       "   'site_key': 'betvictor',\n",
       "   'site_nice': 'Bet Victor'},\n",
       "  {'last_update': 1539175695,\n",
       "   'odds': {'h2h': [1.85, 3.9, 4]},\n",
       "   'site_key': 'williamhill',\n",
       "   'site_nice': 'William Hill'},\n",
       "  {'last_update': 1539175732,\n",
       "   'odds': {'h2h': [1.83, 3.75, 3.75]},\n",
       "   'site_key': 'paddypower',\n",
       "   'site_nice': 'Paddy Power'},\n",
       "  {'last_update': 1539175645,\n",
       "   'odds': {'h2h': [1.86, 4.1, 4]},\n",
       "   'site_key': 'betfair',\n",
       "   'site_nice': 'Betfair'},\n",
       "  {'last_update': 1539175737,\n",
       "   'odds': {'h2h': [1.85, 3.9, 3.8]},\n",
       "   'site_key': 'skybet',\n",
       "   'site_nice': 'Sky Bet'}]]"
      ]
     },
     "execution_count": 426,
     "metadata": {},
     "output_type": "execute_result"
    }
   ],
   "source": [
    "[game['sites'] for game in games]"
   ]
  },
  {
   "cell_type": "code",
   "execution_count": 395,
   "metadata": {
    "collapsed": false
   },
   "outputs": [
    {
     "data": {
      "text/html": [
       "<div>\n",
       "<style>\n",
       "    .dataframe thead tr:only-child th {\n",
       "        text-align: right;\n",
       "    }\n",
       "\n",
       "    .dataframe thead th {\n",
       "        text-align: left;\n",
       "    }\n",
       "\n",
       "    .dataframe tbody tr th {\n",
       "        vertical-align: top;\n",
       "    }\n",
       "</style>\n",
       "<table border=\"1\" class=\"dataframe\">\n",
       "  <thead>\n",
       "    <tr style=\"text-align: right;\">\n",
       "      <th></th>\n",
       "      <th>0</th>\n",
       "      <th>1</th>\n",
       "      <th>2</th>\n",
       "      <th>AwayOdds</th>\n",
       "      <th>HomeOdds</th>\n",
       "      <th>DrawOdds</th>\n",
       "    </tr>\n",
       "  </thead>\n",
       "  <tbody>\n",
       "    <tr>\n",
       "      <th>0</th>\n",
       "      <td>Chelsea</td>\n",
       "      <td>[1.73, 4.8, 3.6]</td>\n",
       "      <td>Chelsea</td>\n",
       "      <td>1.73</td>\n",
       "      <td>4.80</td>\n",
       "      <td>3.60</td>\n",
       "    </tr>\n",
       "    <tr>\n",
       "      <th>1</th>\n",
       "      <td>Cardiff City</td>\n",
       "      <td>[2.3, 3, 3.4]</td>\n",
       "      <td>Cardiff City</td>\n",
       "      <td>2.30</td>\n",
       "      <td>3.00</td>\n",
       "      <td>3.40</td>\n",
       "    </tr>\n",
       "    <tr>\n",
       "      <th>2</th>\n",
       "      <td>Newcastle United</td>\n",
       "      <td>[3.5, 2.15, 3.2]</td>\n",
       "      <td>Brighton and Hove Albion</td>\n",
       "      <td>2.15</td>\n",
       "      <td>3.50</td>\n",
       "      <td>3.20</td>\n",
       "    </tr>\n",
       "    <tr>\n",
       "      <th>3</th>\n",
       "      <td>Bournemouth</td>\n",
       "      <td>[2.1, 3.4, 3.4]</td>\n",
       "      <td>Bournemouth</td>\n",
       "      <td>2.10</td>\n",
       "      <td>3.40</td>\n",
       "      <td>3.40</td>\n",
       "    </tr>\n",
       "    <tr>\n",
       "      <th>4</th>\n",
       "      <td>Manchester City</td>\n",
       "      <td>[26, 1.07, 11]</td>\n",
       "      <td>Burnley</td>\n",
       "      <td>1.07</td>\n",
       "      <td>26.00</td>\n",
       "      <td>11.00</td>\n",
       "    </tr>\n",
       "    <tr>\n",
       "      <th>5</th>\n",
       "      <td>Wolverhampton Wanderers</td>\n",
       "      <td>[4.33, 1.85, 3.5]</td>\n",
       "      <td>Watford</td>\n",
       "      <td>1.85</td>\n",
       "      <td>4.33</td>\n",
       "      <td>3.50</td>\n",
       "    </tr>\n",
       "    <tr>\n",
       "      <th>6</th>\n",
       "      <td>West Ham United</td>\n",
       "      <td>[1.8, 4, 3.8]</td>\n",
       "      <td>Tottenham Hotspur</td>\n",
       "      <td>4.00</td>\n",
       "      <td>1.80</td>\n",
       "      <td>3.80</td>\n",
       "    </tr>\n",
       "    <tr>\n",
       "      <th>7</th>\n",
       "      <td>Huddersfield Town</td>\n",
       "      <td>[13, 1.25, 5.5]</td>\n",
       "      <td>Huddersfield Town</td>\n",
       "      <td>13.00</td>\n",
       "      <td>1.25</td>\n",
       "      <td>5.50</td>\n",
       "    </tr>\n",
       "    <tr>\n",
       "      <th>8</th>\n",
       "      <td>Everton</td>\n",
       "      <td>[4, 1.91, 3.5]</td>\n",
       "      <td>Crystal Palace</td>\n",
       "      <td>1.91</td>\n",
       "      <td>4.00</td>\n",
       "      <td>3.50</td>\n",
       "    </tr>\n",
       "    <tr>\n",
       "      <th>9</th>\n",
       "      <td>Arsenal</td>\n",
       "      <td>[1.5, 6, 4.33]</td>\n",
       "      <td>Arsenal</td>\n",
       "      <td>1.50</td>\n",
       "      <td>6.00</td>\n",
       "      <td>4.33</td>\n",
       "    </tr>\n",
       "    <tr>\n",
       "      <th>10</th>\n",
       "      <td>Southampton</td>\n",
       "      <td>[3.8, 2.05, 3.25]</td>\n",
       "      <td>Newcastle United</td>\n",
       "      <td>2.05</td>\n",
       "      <td>3.80</td>\n",
       "      <td>3.25</td>\n",
       "    </tr>\n",
       "    <tr>\n",
       "      <th>11</th>\n",
       "      <td>Liverpool</td>\n",
       "      <td>[23, 1.1, 9.5]</td>\n",
       "      <td>Cardiff City</td>\n",
       "      <td>1.10</td>\n",
       "      <td>23.00</td>\n",
       "      <td>9.50</td>\n",
       "    </tr>\n",
       "    <tr>\n",
       "      <th>12</th>\n",
       "      <td>Fulham</td>\n",
       "      <td>[2.5, 2.63, 3.6]</td>\n",
       "      <td>Bournemouth</td>\n",
       "      <td>2.63</td>\n",
       "      <td>2.50</td>\n",
       "      <td>3.60</td>\n",
       "    </tr>\n",
       "    <tr>\n",
       "      <th>13</th>\n",
       "      <td>Brighton and Hove Albion</td>\n",
       "      <td>[2.9, 2.4, 3.2]</td>\n",
       "      <td>Brighton and Hove Albion</td>\n",
       "      <td>2.90</td>\n",
       "      <td>2.40</td>\n",
       "      <td>3.20</td>\n",
       "    </tr>\n",
       "    <tr>\n",
       "      <th>14</th>\n",
       "      <td>Watford</td>\n",
       "      <td>[4.6, 1.8, 3.5]</td>\n",
       "      <td>Huddersfield Town</td>\n",
       "      <td>1.80</td>\n",
       "      <td>4.60</td>\n",
       "      <td>3.50</td>\n",
       "    </tr>\n",
       "    <tr>\n",
       "      <th>15</th>\n",
       "      <td>Leicester City</td>\n",
       "      <td>[2.15, 3.3, 3.4]</td>\n",
       "      <td>Leicester City</td>\n",
       "      <td>2.15</td>\n",
       "      <td>3.30</td>\n",
       "      <td>3.40</td>\n",
       "    </tr>\n",
       "    <tr>\n",
       "      <th>16</th>\n",
       "      <td>Crystal Palace</td>\n",
       "      <td>[1.83, 4, 3.75]</td>\n",
       "      <td>Arsenal</td>\n",
       "      <td>4.00</td>\n",
       "      <td>1.83</td>\n",
       "      <td>3.75</td>\n",
       "    </tr>\n",
       "    <tr>\n",
       "      <th>17</th>\n",
       "      <td>Burnley</td>\n",
       "      <td>[10, 1.33, 4.8]</td>\n",
       "      <td>Burnley</td>\n",
       "      <td>10.00</td>\n",
       "      <td>1.33</td>\n",
       "      <td>4.80</td>\n",
       "    </tr>\n",
       "    <tr>\n",
       "      <th>18</th>\n",
       "      <td>Manchester United</td>\n",
       "      <td>[5.25, 1.62, 3.9]</td>\n",
       "      <td>Everton</td>\n",
       "      <td>1.62</td>\n",
       "      <td>5.25</td>\n",
       "      <td>3.90</td>\n",
       "    </tr>\n",
       "    <tr>\n",
       "      <th>19</th>\n",
       "      <td>Tottenham Hotspur</td>\n",
       "      <td>[1.83, 4, 3.75]</td>\n",
       "      <td>Manchester City</td>\n",
       "      <td>4.00</td>\n",
       "      <td>1.83</td>\n",
       "      <td>3.75</td>\n",
       "    </tr>\n",
       "  </tbody>\n",
       "</table>\n",
       "</div>"
      ],
      "text/plain": [
       "                           0                  1                         2  \\\n",
       "0                    Chelsea   [1.73, 4.8, 3.6]                   Chelsea   \n",
       "1               Cardiff City      [2.3, 3, 3.4]              Cardiff City   \n",
       "2           Newcastle United   [3.5, 2.15, 3.2]  Brighton and Hove Albion   \n",
       "3                Bournemouth    [2.1, 3.4, 3.4]               Bournemouth   \n",
       "4            Manchester City     [26, 1.07, 11]                   Burnley   \n",
       "5    Wolverhampton Wanderers  [4.33, 1.85, 3.5]                   Watford   \n",
       "6            West Ham United      [1.8, 4, 3.8]         Tottenham Hotspur   \n",
       "7          Huddersfield Town    [13, 1.25, 5.5]         Huddersfield Town   \n",
       "8                    Everton     [4, 1.91, 3.5]            Crystal Palace   \n",
       "9                    Arsenal     [1.5, 6, 4.33]                   Arsenal   \n",
       "10               Southampton  [3.8, 2.05, 3.25]          Newcastle United   \n",
       "11                 Liverpool     [23, 1.1, 9.5]              Cardiff City   \n",
       "12                    Fulham   [2.5, 2.63, 3.6]               Bournemouth   \n",
       "13  Brighton and Hove Albion    [2.9, 2.4, 3.2]  Brighton and Hove Albion   \n",
       "14                   Watford    [4.6, 1.8, 3.5]         Huddersfield Town   \n",
       "15            Leicester City   [2.15, 3.3, 3.4]            Leicester City   \n",
       "16            Crystal Palace    [1.83, 4, 3.75]                   Arsenal   \n",
       "17                   Burnley    [10, 1.33, 4.8]                   Burnley   \n",
       "18         Manchester United  [5.25, 1.62, 3.9]                   Everton   \n",
       "19         Tottenham Hotspur    [1.83, 4, 3.75]           Manchester City   \n",
       "\n",
       "    AwayOdds  HomeOdds  DrawOdds  \n",
       "0       1.73      4.80      3.60  \n",
       "1       2.30      3.00      3.40  \n",
       "2       2.15      3.50      3.20  \n",
       "3       2.10      3.40      3.40  \n",
       "4       1.07     26.00     11.00  \n",
       "5       1.85      4.33      3.50  \n",
       "6       4.00      1.80      3.80  \n",
       "7      13.00      1.25      5.50  \n",
       "8       1.91      4.00      3.50  \n",
       "9       1.50      6.00      4.33  \n",
       "10      2.05      3.80      3.25  \n",
       "11      1.10     23.00      9.50  \n",
       "12      2.63      2.50      3.60  \n",
       "13      2.90      2.40      3.20  \n",
       "14      1.80      4.60      3.50  \n",
       "15      2.15      3.30      3.40  \n",
       "16      4.00      1.83      3.75  \n",
       "17     10.00      1.33      4.80  \n",
       "18      1.62      5.25      3.90  \n",
       "19      4.00      1.83      3.75  "
      ]
     },
     "execution_count": 395,
     "metadata": {},
     "output_type": "execute_result"
    }
   ],
   "source": [
    "df1"
   ]
  },
  {
   "cell_type": "code",
   "execution_count": 381,
   "metadata": {
    "collapsed": false
   },
   "outputs": [
    {
     "data": {
      "text/plain": [
       "[(['Chelsea', 'Manchester United'], [1.73, 4.8, 3.6], 'Chelsea'),\n",
       " (['Cardiff City', 'Fulham'], [2.3, 3, 3.4], 'Cardiff City'),\n",
       " (['Brighton and Hove Albion', 'Newcastle United'],\n",
       "  [3.5, 2.15, 3.2],\n",
       "  'Brighton and Hove Albion'),\n",
       " (['Bournemouth', 'Southampton'], [2.1, 3.4, 3.4], 'Bournemouth'),\n",
       " (['Burnley', 'Manchester City'], [26, 1.07, 11], 'Burnley'),\n",
       " (['Watford', 'Wolverhampton Wanderers'], [4.33, 1.85, 3.5], 'Watford'),\n",
       " (['Tottenham Hotspur', 'West Ham United'],\n",
       "  [1.8, 4, 3.8],\n",
       "  'Tottenham Hotspur'),\n",
       " (['Huddersfield Town', 'Liverpool'], [13, 1.25, 5.5], 'Huddersfield Town'),\n",
       " (['Crystal Palace', 'Everton'], [4, 1.91, 3.5], 'Crystal Palace'),\n",
       " (['Arsenal', 'Leicester City'], [1.5, 6, 4.33], 'Arsenal'),\n",
       " (['Newcastle United', 'Southampton'], [3.8, 2.05, 3.25], 'Newcastle United'),\n",
       " (['Cardiff City', 'Liverpool'], [23, 1.1, 9.5], 'Cardiff City'),\n",
       " (['Bournemouth', 'Fulham'], [2.5, 2.63, 3.6], 'Bournemouth'),\n",
       " (['Brighton and Hove Albion', 'Wolverhampton Wanderers'],\n",
       "  [2.9, 2.4, 3.2],\n",
       "  'Brighton and Hove Albion'),\n",
       " (['Huddersfield Town', 'Watford'], [4.6, 1.8, 3.5], 'Huddersfield Town'),\n",
       " (['Leicester City', 'West Ham United'], [2.15, 3.3, 3.4], 'Leicester City'),\n",
       " (['Arsenal', 'Crystal Palace'], [1.83, 4, 3.75], 'Arsenal'),\n",
       " (['Burnley', 'Chelsea'], [10, 1.33, 4.8], 'Burnley'),\n",
       " (['Everton', 'Manchester United'], [5.25, 1.62, 3.9], 'Everton'),\n",
       " (['Manchester City', 'Tottenham Hotspur'],\n",
       "  [1.83, 4, 3.75],\n",
       "  'Manchester City')]"
      ]
     },
     "execution_count": 381,
     "metadata": {},
     "output_type": "execute_result"
    }
   ],
   "source": [
    "first_team = [game['teams'][0] for game in games]\n",
    "list(zip(teams,odds, first_team))"
   ]
  },
  {
   "cell_type": "code",
   "execution_count": 412,
   "metadata": {
    "collapsed": false
   },
   "outputs": [],
   "source": [
    "import requests\n",
    "def get_odds(games, bookie_key):\n",
    "    \n",
    "    url=\"https://api.the-odds-api.com/v3/odds/?sport=soccer_epl&region=uk&apiKey=fc3fa79ee130aa6427d2d86743b794fc\"\n",
    "    r = requests.get(url=url)\n",
    "    json=r.json()\n",
    "    games = json['data']\n",
    "\n",
    "    teams = [game['home_team'] for game in games]\n",
    "    odds=[s['odds']['h2h'] for site in sites for s in site if s['site_key']==bookie_key]\n",
    "    \n",
    "    first_team = [game['teams'][0] for game in games]\n",
    "    x =  list(zip(home_teams,odds,first_team))\n",
    "    \n",
    "    df1=pd.DataFrame(x)\n",
    "    df1[['AwayOdds', 'HomeOdds', 'DrawOdds']]=pd.DataFrame(df1[1].values.tolist(), index=df1.index)\n",
    "    \n",
    "    saved_away=df1['AwayOdds']\n",
    "    swapindex=df1[0]!=df1[2]\n",
    "    df1.loc[swapindex, 'AwayOdds']=df1['HomeOdds']\n",
    "    df1.loc[swapindex, 'HomeOdds']=saved_away\n",
    "    \n",
    "    \n",
    "    df1=pd.DataFrame(x, columns=['HomeTeam',1,2])\n",
    "    df1[['AwayOdds', 'HomeOdds', 'DrawOdds']]=pd.DataFrame(df1[1].values.tolist(), index=df1.index)\n",
    "    \n",
    "    return df1[['HomeTeam','HomeOdds', 'DrawOdds', 'AwayOdds']]\n",
    "\n"
   ]
  },
  {
   "cell_type": "code",
   "execution_count": 415,
   "metadata": {
    "collapsed": true
   },
   "outputs": [],
   "source": [
    "fo=FixturesOdds()\n",
    "fo.fix_load('vwCSV_3','vwCSV_3.csv', False) # no reresh\n",
    "fo.do_calcs()"
   ]
  },
  {
   "cell_type": "code",
   "execution_count": 416,
   "metadata": {
    "collapsed": false
   },
   "outputs": [],
   "source": [
    "x =get_odds(games, 'skybet')"
   ]
  },
  {
   "cell_type": "code",
   "execution_count": 417,
   "metadata": {
    "collapsed": false
   },
   "outputs": [
    {
     "data": {
      "text/plain": [
       "<__main__.FixturesOdds at 0x113a611d0>"
      ]
     },
     "execution_count": 417,
     "metadata": {},
     "output_type": "execute_result"
    }
   ],
   "source": [
    "fo.add_odds(x)"
   ]
  },
  {
   "cell_type": "code",
   "execution_count": 418,
   "metadata": {
    "collapsed": false
   },
   "outputs": [
    {
     "data": {
      "text/plain": [
       "<__main__.FixturesOdds at 0x113a611d0>"
      ]
     },
     "execution_count": 418,
     "metadata": {},
     "output_type": "execute_result"
    }
   ],
   "source": [
    "fo.filter_by_col('FixtureDateAsDate', '2018-10-20').filter_by_col('leagueid', 1)"
   ]
  },
  {
   "cell_type": "code",
   "execution_count": 419,
   "metadata": {
    "collapsed": false
   },
   "outputs": [],
   "source": [
    "X_fix=fo.X()"
   ]
  },
  {
   "cell_type": "code",
   "execution_count": 420,
   "metadata": {
    "collapsed": false
   },
   "outputs": [
    {
     "data": {
      "text/html": [
       "<div>\n",
       "<style>\n",
       "    .dataframe thead tr:only-child th {\n",
       "        text-align: right;\n",
       "    }\n",
       "\n",
       "    .dataframe thead th {\n",
       "        text-align: left;\n",
       "    }\n",
       "\n",
       "    .dataframe tbody tr th {\n",
       "        vertical-align: top;\n",
       "    }\n",
       "</style>\n",
       "<table border=\"1\" class=\"dataframe\">\n",
       "  <thead>\n",
       "    <tr style=\"text-align: right;\">\n",
       "      <th></th>\n",
       "      <th>FixtureDateAsDate</th>\n",
       "      <th>HomeTeam</th>\n",
       "      <th>AwayTeam</th>\n",
       "      <th>prediction</th>\n",
       "      <th>HomeOdds</th>\n",
       "      <th>AwayOdds</th>\n",
       "      <th>DrawOdds</th>\n",
       "    </tr>\n",
       "  </thead>\n",
       "  <tbody>\n",
       "    <tr>\n",
       "      <th>237</th>\n",
       "      <td>2018-10-20</td>\n",
       "      <td>Huddersfield Town</td>\n",
       "      <td>Liverpool</td>\n",
       "      <td>W</td>\n",
       "      <td>1.25</td>\n",
       "      <td>13.00</td>\n",
       "      <td>5.5</td>\n",
       "    </tr>\n",
       "    <tr>\n",
       "      <th>370</th>\n",
       "      <td>2018-10-20</td>\n",
       "      <td>Wolverhampton Wanderers</td>\n",
       "      <td>Watford</td>\n",
       "      <td>W</td>\n",
       "      <td>1.85</td>\n",
       "      <td>4.33</td>\n",
       "      <td>3.5</td>\n",
       "    </tr>\n",
       "    <tr>\n",
       "      <th>838</th>\n",
       "      <td>2018-10-20</td>\n",
       "      <td>West Ham United</td>\n",
       "      <td>Tottenham Hotspur</td>\n",
       "      <td>L</td>\n",
       "      <td>4.00</td>\n",
       "      <td>1.80</td>\n",
       "      <td>3.8</td>\n",
       "    </tr>\n",
       "    <tr>\n",
       "      <th>1180</th>\n",
       "      <td>2018-10-20</td>\n",
       "      <td>Chelsea</td>\n",
       "      <td>Manchester United</td>\n",
       "      <td>L</td>\n",
       "      <td>4.80</td>\n",
       "      <td>1.73</td>\n",
       "      <td>3.6</td>\n",
       "    </tr>\n",
       "    <tr>\n",
       "      <th>1294</th>\n",
       "      <td>2018-10-20</td>\n",
       "      <td>Manchester City</td>\n",
       "      <td>Burnley</td>\n",
       "      <td>W</td>\n",
       "      <td>1.07</td>\n",
       "      <td>26.00</td>\n",
       "      <td>11.0</td>\n",
       "    </tr>\n",
       "    <tr>\n",
       "      <th>1526</th>\n",
       "      <td>2018-10-20</td>\n",
       "      <td>Newcastle United</td>\n",
       "      <td>Brighton &amp; Hove Albion</td>\n",
       "      <td>W</td>\n",
       "      <td>2.15</td>\n",
       "      <td>3.50</td>\n",
       "      <td>3.2</td>\n",
       "    </tr>\n",
       "    <tr>\n",
       "      <th>2015</th>\n",
       "      <td>2018-10-20</td>\n",
       "      <td>Cardiff City</td>\n",
       "      <td>Fulham</td>\n",
       "      <td>L</td>\n",
       "      <td>3.00</td>\n",
       "      <td>2.30</td>\n",
       "      <td>3.4</td>\n",
       "    </tr>\n",
       "  </tbody>\n",
       "</table>\n",
       "</div>"
      ],
      "text/plain": [
       "     FixtureDateAsDate                 HomeTeam                AwayTeam  \\\n",
       "237         2018-10-20        Huddersfield Town               Liverpool   \n",
       "370         2018-10-20  Wolverhampton Wanderers                 Watford   \n",
       "838         2018-10-20          West Ham United       Tottenham Hotspur   \n",
       "1180        2018-10-20                  Chelsea       Manchester United   \n",
       "1294        2018-10-20          Manchester City                 Burnley   \n",
       "1526        2018-10-20         Newcastle United  Brighton & Hove Albion   \n",
       "2015        2018-10-20             Cardiff City                  Fulham   \n",
       "\n",
       "     prediction  HomeOdds  AwayOdds  DrawOdds  \n",
       "237           W      1.25     13.00       5.5  \n",
       "370           W      1.85      4.33       3.5  \n",
       "838           L      4.00      1.80       3.8  \n",
       "1180          L      4.80      1.73       3.6  \n",
       "1294          W      1.07     26.00      11.0  \n",
       "1526          W      2.15      3.50       3.2  \n",
       "2015          L      3.00      2.30       3.4  "
      ]
     },
     "execution_count": 420,
     "metadata": {},
     "output_type": "execute_result"
    }
   ],
   "source": [
    "fo.df['prediction'] = gs.predict(fo.X())\n",
    "fo.df[['FixtureDateAsDate','HomeTeam', 'AwayTeam', 'prediction', 'HomeOdds', 'AwayOdds', 'DrawOdds']]"
   ]
  },
  {
   "cell_type": "code",
   "execution_count": 338,
   "metadata": {
    "collapsed": false
   },
   "outputs": [],
   "source": [
    "X=fo.X()\n",
    "y_pred=gs.predict(fo.X())"
   ]
  },
  {
   "cell_type": "code",
   "execution_count": 352,
   "metadata": {
    "collapsed": false
   },
   "outputs": [
    {
     "data": {
      "text/plain": [
       "array(['L', 'L', 'W', 'W', 'L', 'L', 'D'], dtype=object)"
      ]
     },
     "execution_count": 352,
     "metadata": {},
     "output_type": "execute_result"
    }
   ],
   "source": [
    "np.reshape(y_pred, (7,1))\n",
    "y_pred"
   ]
  },
  {
   "cell_type": "code",
   "execution_count": 354,
   "metadata": {
    "collapsed": false
   },
   "outputs": [
    {
     "ename": "ValueError",
     "evalue": "could not convert string to float: 'D'",
     "output_type": "error",
     "traceback": [
      "\u001b[0;31m---------------------------------------------------------------------------\u001b[0m",
      "\u001b[0;31mValueError\u001b[0m                                Traceback (most recent call last)",
      "\u001b[0;32m<ipython-input-354-715df99b06fb>\u001b[0m in \u001b[0;36m<module>\u001b[0;34m()\u001b[0m\n\u001b[0;32m----> 1\u001b[0;31m \u001b[0mX\u001b[0m\u001b[0;34m[\u001b[0m\u001b[0;34m:\u001b[0m\u001b[0;34m,\u001b[0m\u001b[0;34m:\u001b[0m\u001b[0;34m-\u001b[0m\u001b[0;36m1\u001b[0m\u001b[0;34m]\u001b[0m\u001b[0;34m=\u001b[0m\u001b[0mnp\u001b[0m\u001b[0;34m.\u001b[0m\u001b[0mreshape\u001b[0m\u001b[0;34m(\u001b[0m\u001b[0my_pred\u001b[0m\u001b[0;34m,\u001b[0m \u001b[0;34m(\u001b[0m\u001b[0;36m7\u001b[0m\u001b[0;34m,\u001b[0m\u001b[0;36m1\u001b[0m\u001b[0;34m)\u001b[0m\u001b[0;34m)\u001b[0m\u001b[0;34m\u001b[0m\u001b[0m\n\u001b[0m\u001b[1;32m      2\u001b[0m \u001b[0mX\u001b[0m\u001b[0;34m\u001b[0m\u001b[0m\n",
      "\u001b[0;31mValueError\u001b[0m: could not convert string to float: 'D'"
     ]
    }
   ],
   "source": []
  },
  {
   "cell_type": "code",
   "execution_count": 288,
   "metadata": {
    "collapsed": false
   },
   "outputs": [],
   "source": [
    "df = fo.df.merge(x, left_on='HomeTeam', right_on='HomeTeam')"
   ]
  },
  {
   "cell_type": "code",
   "execution_count": 131,
   "metadata": {
    "collapsed": false
   },
   "outputs": [
    {
     "name": "stdout",
     "output_type": "stream",
     "text": [
      "title - NFL\n",
      "details - US Football\n",
      "active - True\n",
      "key - americanfootball_nfl\n",
      "group - American Football\n",
      "title - NBA\n",
      "details - US Basketball\n",
      "active - True\n",
      "key - basketball_nba\n",
      "group - Basketball\n",
      "title - MMA\n",
      "details - Mixed Martial Arts\n",
      "active - True\n",
      "key - mma_mixed_martial_arts\n",
      "group - Mixed Martial Arts\n",
      "group - Soccer - Other\n",
      "title - Primera División - Argentina\n",
      "active - True\n",
      "key - soccer_argentina_primera_division\n",
      "details - Argentinian Soccer 🇦🇷\n",
      "title - A-League\n",
      "details - Aussie Soccer 🇦🇺\n",
      "active - True\n",
      "key - soccer_australia_aleague\n",
      "group - Soccer - Other\n",
      "title - Belgium First Div\n",
      "details - Belgium Soccer 🇧🇪\n",
      "active - True\n",
      "key - soccer_belgium_first_div\n",
      "group - Soccer - Europe\n",
      "title - Brazil Série A\n",
      "details - Campeonato Brasileiro 🇧🇷\n",
      "active - True\n",
      "key - soccer_brazil_campeonato\n",
      "group - Soccer - Other\n",
      "title - Denmark Superliga\n",
      "details - Danish Soccer 🇩🇰\n",
      "active - True\n",
      "key - soccer_denmark_superliga\n",
      "group - Soccer - Europe\n",
      "title - Championship\n",
      "details - EFL Championship 🇬🇧\n",
      "active - True\n",
      "key - soccer_efl_champ\n",
      "group - Soccer - UK\n",
      "title - League 1\n",
      "details - EFL League 1 🇬🇧\n",
      "active - True\n",
      "key - soccer_england_league1\n",
      "group - Soccer - UK\n",
      "title - League 2\n",
      "details - EFL League 2  🇬🇧\n",
      "active - True\n",
      "key - soccer_england_league2\n",
      "group - Soccer - UK\n",
      "title - EPL\n",
      "details - English Premier League 🇬🇧\n",
      "active - True\n",
      "key - soccer_epl\n",
      "group - Soccer - UK\n",
      "title - World Cup\n",
      "details - FIFA World Cup 🏆\n",
      "active - True\n",
      "key - soccer_fifa_world_cup\n",
      "group - Soccer - Other\n",
      "title - Veikkausliiga - Finland\n",
      "details - Finnish  Soccer 🇫🇮\n",
      "active - True\n",
      "key - soccer_finland_veikkausliiga\n",
      "group - Soccer - Europe\n",
      "title - Ligue 1 - France\n",
      "details - French Soccer 🇫🇷\n",
      "active - True\n",
      "key - soccer_france_ligue_one\n",
      "group - Soccer - Europe\n",
      "title - Bundesliga - Germany\n",
      "details - German Soccer 🇩🇪\n",
      "active - True\n",
      "key - soccer_germany_bundesliga\n",
      "group - Soccer - Europe\n",
      "title - Serie A - Italy\n",
      "details - Italian Soccer 🇮🇹\n",
      "active - True\n",
      "key - soccer_italy_serie_a\n",
      "group - Soccer - Europe\n",
      "title - J League\n",
      "details - Japan Soccer League 🇯🇵\n",
      "active - True\n",
      "key - soccer_japan_j_league\n",
      "group - Soccer - Other\n",
      "title - Dutch Eredivisie\n",
      "details - Dutch Soccer 🇳🇱\n",
      "active - True\n",
      "key - soccer_netherlands_eredivisie\n",
      "group - Soccer - Europe\n",
      "title - Eliteserien - Norway\n",
      "details - Norwegian Soccer 🇳🇴\n",
      "active - True\n",
      "key - soccer_norway_eliteserien\n",
      "group - Soccer - Europe\n",
      "title - Primeira Liga - Portugal\n",
      "details - Portugese Soccer 🇵🇹\n",
      "active - True\n",
      "key - soccer_portugal_primeira_liga\n",
      "group - Soccer - Europe\n",
      "title - Premier League - Russia\n",
      "details - Russian Soccer 🇷🇺\n",
      "active - True\n",
      "key - soccer_russia_premier_league\n",
      "group - Soccer - Europe\n",
      "title - La Liga - Spain\n",
      "details - Spanish Soccer 🇪🇸\n",
      "active - True\n",
      "key - soccer_spain_la_liga\n",
      "group - Soccer - Europe\n",
      "title - SPL\n",
      "details - Scottish Premier League 🇬🇧\n",
      "active - True\n",
      "key - soccer_spl\n",
      "group - Soccer - UK\n",
      "title - Allsvenskan - Sweden\n",
      "details - The All-Swedish 🇸🇪\n",
      "active - True\n",
      "key - soccer_sweden_allsvenskan\n",
      "group - Soccer - Europe\n",
      "title - Super League - Swiss\n",
      "details - Swiss Soccer 🇨🇭\n",
      "active - True\n",
      "key - soccer_switzerland_superleague\n",
      "group - Soccer - Europe\n",
      "title - UEFA Champions\n",
      "details - European Champions League 🇪🇺\n",
      "active - True\n",
      "key - soccer_uefa_champs_league\n",
      "group - Soccer - Europe\n",
      "title - UEFA Europa\n",
      "details - European Europa League 🇪🇺\n",
      "active - True\n",
      "key - soccer_uefa_europa_league\n",
      "group - Soccer - Europe\n",
      "title - MLS\n",
      "details - Major League Soccer 🇺🇸\n",
      "active - True\n",
      "key - soccer_usa_mls\n",
      "group - Soccer - Other\n",
      "group - Tennis\n",
      "title - ATP China Open\n",
      "active - True\n",
      "key - tennis_atp_china_open\n",
      "details - China Open, Beijing 🇨🇳\n",
      "group - Tennis\n",
      "title - ATP Japan Open\n",
      "active - True\n",
      "key - tennis_atp_japan_open\n",
      "details - Rakuten Japan Open, Tokyo 🇯🇵\n",
      "group - Tennis\n",
      "title - WTA China Open\n",
      "active - True\n",
      "key - tennis_wta_china_open\n",
      "details - China Open, Beijing 🇨🇳\n"
     ]
    }
   ],
   "source": [
    "#list of sports\n",
    "url='https://api.the-odds-api.com/v3/sports/?apiKey=fc3fa79ee130aa6427d2d86743b794fc'\n",
    "r = requests.get(url=url)\n",
    "json=r.json()\n",
    "for i in json['data']:\n",
    "    for key, val in i.items():\n",
    "        print (key, '-', val)"
   ]
  },
  {
   "cell_type": "code",
   "execution_count": null,
   "metadata": {
    "collapsed": true
   },
   "outputs": [],
   "source": [
    "fix_pred=FixturesOdds()\n",
    "fix_pred.fix_load('vwCSV_3','vwCSV_3.csv', False) # no reresh\n",
    "fix_pred.do_calcs()\n",
    "\n",
    "fix_pred.add_live_odds('skybet', int(leagueid))\n",
    "fix_pred.clean_predict()\n",
    "\n",
    "fix_pred.filter_by_col('FixtureDateAsDate', predictday).filter_by_col('leagueid', int(leagueid))\n",
    "X=fix_pred.X()\n",
    "\n",
    "c=FootballClf.FootballClf()\n",
    "clf=c.load_by_name('betting clf')\n",
    "pd.set_option('display.max_colwidth', 18)\n",
    "pd.set_option('colheader_justify', 'left')\n",
    "\n",
    "fix_pred.df['prediction']=clf.predict(X)\n",
    "print(fix_pred.df[['FixtureDateAsDate','HomeTeam', 'AwayTeam', 'prediction', 'HomeOdds', 'AwayOdds']])"
   ]
  },
  {
   "cell_type": "code",
   "execution_count": null,
   "metadata": {
    "collapsed": true
   },
   "outputs": [],
   "source": []
  }
 ],
 "metadata": {
  "kernelspec": {
   "display_name": "Python 3",
   "language": "python",
   "name": "python3"
  },
  "language_info": {
   "codemirror_mode": {
    "name": "ipython",
    "version": 3
   },
   "file_extension": ".py",
   "mimetype": "text/x-python",
   "name": "python",
   "nbconvert_exporter": "python",
   "pygments_lexer": "ipython3",
   "version": "3.5.1"
  }
 },
 "nbformat": 4,
 "nbformat_minor": 0
}
