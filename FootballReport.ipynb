{
 "cells": [
  {
   "cell_type": "code",
   "execution_count": 1,
   "metadata": {},
   "outputs": [],
   "source": [
    "%load_ext autoreload"
   ]
  },
  {
   "cell_type": "code",
   "execution_count": 2,
   "metadata": {},
   "outputs": [],
   "source": [
    "import pandas as pd\n",
    "import numpy as np\n",
    "import matplotlib.pyplot as plt"
   ]
  },
  {
   "cell_type": "code",
   "execution_count": 3,
   "metadata": {},
   "outputs": [],
   "source": [
    "import FootballClf\n",
    "from FixturesOdds import FixturesOdds"
   ]
  },
  {
   "cell_type": "code",
   "execution_count": 4,
   "metadata": {},
   "outputs": [],
   "source": [
    "fixture_cols=['FixtureDateAsDate','HomeTeam', 'AwayTeam']\n",
    "odds_cols=['HomeOdds', 'DrawOdds', 'AwayOdds']\n",
    "predict_cols=['prediction']\n",
    "result_cols=['HomeTeamResult']\n",
    "bet_results_cols=['stake', 'applic_odds', 'betprofit']\n",
    "derived_cols=['HTRecord', 'HTRecord', 'ExpectedResult', 'FTHG_3', 'FTAG_3']"
   ]
  },
  {
   "cell_type": "code",
   "execution_count": 5,
   "metadata": {},
   "outputs": [],
   "source": [
    "def summary(fix, agg_level):\n",
    "    grouper = fix.df.groupby(fix.df.FixtureDateAsDate.dt.to_period(agg_level).dt.start_time)\n",
    "    df = pd.DataFrame(grouper.betprofit.sum())\n",
    "    df['stake'] = grouper.stake.sum()\n",
    "    df['betting_account'] = df.betprofit.cumsum()\n",
    "    \n",
    "    return df"
   ]
  },
  {
   "cell_type": "code",
   "execution_count": 18,
   "metadata": {},
   "outputs": [
    {
     "data": {
      "text/plain": [
       "<FixturesOdds.FixturesOdds at 0x1131d2e48>"
      ]
     },
     "execution_count": 18,
     "metadata": {},
     "output_type": "execute_result"
    }
   ],
   "source": [
    "fix_pred=FixturesOdds()\n",
    "fix_pred.fix_load('vwCSV_3','vwCSV_3.csv', False) # no reresh\n",
    "fix_pred.do_calcs()\n",
    "fix_pred.clean_predict()"
   ]
  },
  {
   "cell_type": "code",
   "execution_count": 19,
   "metadata": {},
   "outputs": [
    {
     "data": {
      "text/plain": [
       "Index(['FixtureID', 'season', 'leagueid', 'fixDate', 'HomeTeamID', 'FTHG',\n",
       "       'AwayTeamID', 'FTAG', 'HomeELO_prev', 'AwayELO_prev', 'HomeTeamResult',\n",
       "       'AwayTeamResult', 'HomeTeam', 'AwayTeam', 'FTHG_3', 'FTAG_3', 'FTHG_5',\n",
       "       'FTAG_5', 'HomeOdds', 'DrawOdds', 'AwayOdds', 'FixtureDateAsDate',\n",
       "       'Target', 'HTRecord', 'ATRecord', 'ExpectedResult', 'FTG_3', 'FTG_5'],\n",
       "      dtype='object')"
      ]
     },
     "execution_count": 19,
     "metadata": {},
     "output_type": "execute_result"
    }
   ],
   "source": [
    "fix_pred.df.columns"
   ]
  },
  {
   "cell_type": "code",
   "execution_count": 20,
   "metadata": {},
   "outputs": [],
   "source": [
    "X=fix_pred.X()\n",
    "c=FootballClf.FootballClf()\n",
    "clf=c.load_by_name('betting clf_2.2')"
   ]
  },
  {
   "cell_type": "code",
   "execution_count": 21,
   "metadata": {},
   "outputs": [],
   "source": [
    "fix_pred.df['prediction'] = clf.predict(fix_pred.X())"
   ]
  },
  {
   "cell_type": "code",
   "execution_count": 22,
   "metadata": {},
   "outputs": [],
   "source": [
    "fix_pred.calc_bet_results(1)"
   ]
  },
  {
   "cell_type": "code",
   "execution_count": 12,
   "metadata": {},
   "outputs": [
    {
     "data": {
      "text/plain": [
       "9303"
      ]
     },
     "execution_count": 12,
     "metadata": {},
     "output_type": "execute_result"
    }
   ],
   "source": [
    "len(fix_pred.df)"
   ]
  },
  {
   "cell_type": "code",
   "execution_count": 23,
   "metadata": {},
   "outputs": [
    {
     "data": {
      "text/plain": [
       "<FixturesOdds.FixturesOdds at 0x1131d2e48>"
      ]
     },
     "execution_count": 23,
     "metadata": {},
     "output_type": "execute_result"
    }
   ],
   "source": [
    "fix_pred.filter_by_col('season',2018).filter_by_col('leagueid', [1])"
   ]
  },
  {
   "cell_type": "code",
   "execution_count": 14,
   "metadata": {},
   "outputs": [
    {
     "data": {
      "text/html": [
       "<div>\n",
       "<style scoped>\n",
       "    .dataframe tbody tr th:only-of-type {\n",
       "        vertical-align: middle;\n",
       "    }\n",
       "\n",
       "    .dataframe tbody tr th {\n",
       "        vertical-align: top;\n",
       "    }\n",
       "\n",
       "    .dataframe thead th {\n",
       "        text-align: right;\n",
       "    }\n",
       "</style>\n",
       "<table border=\"1\" class=\"dataframe\">\n",
       "  <thead>\n",
       "    <tr style=\"text-align: right;\">\n",
       "      <th></th>\n",
       "      <th>betprofit</th>\n",
       "      <th>stake</th>\n",
       "      <th>betting_account</th>\n",
       "    </tr>\n",
       "    <tr>\n",
       "      <th>FixtureDateAsDate</th>\n",
       "      <th></th>\n",
       "      <th></th>\n",
       "      <th></th>\n",
       "    </tr>\n",
       "  </thead>\n",
       "  <tbody>\n",
       "    <tr>\n",
       "      <th>2018-08-13</th>\n",
       "      <td>-0.96</td>\n",
       "      <td>-9</td>\n",
       "      <td>-0.96</td>\n",
       "    </tr>\n",
       "    <tr>\n",
       "      <th>2018-08-20</th>\n",
       "      <td>0.18</td>\n",
       "      <td>-10</td>\n",
       "      <td>-0.78</td>\n",
       "    </tr>\n",
       "    <tr>\n",
       "      <th>2018-08-27</th>\n",
       "      <td>-3.93</td>\n",
       "      <td>-11</td>\n",
       "      <td>-4.71</td>\n",
       "    </tr>\n",
       "    <tr>\n",
       "      <th>2018-09-10</th>\n",
       "      <td>5.95</td>\n",
       "      <td>-9</td>\n",
       "      <td>1.24</td>\n",
       "    </tr>\n",
       "    <tr>\n",
       "      <th>2018-09-17</th>\n",
       "      <td>-3.85</td>\n",
       "      <td>-11</td>\n",
       "      <td>-2.61</td>\n",
       "    </tr>\n",
       "    <tr>\n",
       "      <th>2018-09-24</th>\n",
       "      <td>-1.48</td>\n",
       "      <td>-9</td>\n",
       "      <td>-4.09</td>\n",
       "    </tr>\n",
       "    <tr>\n",
       "      <th>2018-10-01</th>\n",
       "      <td>2.38</td>\n",
       "      <td>-11</td>\n",
       "      <td>-1.71</td>\n",
       "    </tr>\n",
       "    <tr>\n",
       "      <th>2018-10-15</th>\n",
       "      <td>-2.93</td>\n",
       "      <td>-9</td>\n",
       "      <td>-4.64</td>\n",
       "    </tr>\n",
       "    <tr>\n",
       "      <th>2018-10-22</th>\n",
       "      <td>-0.28</td>\n",
       "      <td>-10</td>\n",
       "      <td>-4.92</td>\n",
       "    </tr>\n",
       "    <tr>\n",
       "      <th>2018-10-29</th>\n",
       "      <td>4.04</td>\n",
       "      <td>-10</td>\n",
       "      <td>-0.88</td>\n",
       "    </tr>\n",
       "    <tr>\n",
       "      <th>2018-11-05</th>\n",
       "      <td>-1.94</td>\n",
       "      <td>-11</td>\n",
       "      <td>-2.82</td>\n",
       "    </tr>\n",
       "    <tr>\n",
       "      <th>2018-11-19</th>\n",
       "      <td>-0.24</td>\n",
       "      <td>-9</td>\n",
       "      <td>-3.06</td>\n",
       "    </tr>\n",
       "    <tr>\n",
       "      <th>2018-11-26</th>\n",
       "      <td>-0.86</td>\n",
       "      <td>-11</td>\n",
       "      <td>-3.92</td>\n",
       "    </tr>\n",
       "    <tr>\n",
       "      <th>2018-12-03</th>\n",
       "      <td>4.78</td>\n",
       "      <td>-19</td>\n",
       "      <td>0.86</td>\n",
       "    </tr>\n",
       "  </tbody>\n",
       "</table>\n",
       "</div>"
      ],
      "text/plain": [
       "                   betprofit  stake  betting_account\n",
       "FixtureDateAsDate                                   \n",
       "2018-08-13             -0.96     -9            -0.96\n",
       "2018-08-20              0.18    -10            -0.78\n",
       "2018-08-27             -3.93    -11            -4.71\n",
       "2018-09-10              5.95     -9             1.24\n",
       "2018-09-17             -3.85    -11            -2.61\n",
       "2018-09-24             -1.48     -9            -4.09\n",
       "2018-10-01              2.38    -11            -1.71\n",
       "2018-10-15             -2.93     -9            -4.64\n",
       "2018-10-22             -0.28    -10            -4.92\n",
       "2018-10-29              4.04    -10            -0.88\n",
       "2018-11-05             -1.94    -11            -2.82\n",
       "2018-11-19             -0.24     -9            -3.06\n",
       "2018-11-26             -0.86    -11            -3.92\n",
       "2018-12-03              4.78    -19             0.86"
      ]
     },
     "execution_count": 14,
     "metadata": {},
     "output_type": "execute_result"
    }
   ],
   "source": [
    "summary(fix_pred, 'W')"
   ]
  },
  {
   "cell_type": "code",
   "execution_count": 15,
   "metadata": {},
   "outputs": [
    {
     "data": {
      "text/html": [
       "<div>\n",
       "<style scoped>\n",
       "    .dataframe tbody tr th:only-of-type {\n",
       "        vertical-align: middle;\n",
       "    }\n",
       "\n",
       "    .dataframe tbody tr th {\n",
       "        vertical-align: top;\n",
       "    }\n",
       "\n",
       "    .dataframe thead th {\n",
       "        text-align: right;\n",
       "    }\n",
       "</style>\n",
       "<table border=\"1\" class=\"dataframe\">\n",
       "  <thead>\n",
       "    <tr style=\"text-align: right;\">\n",
       "      <th></th>\n",
       "      <th>FixtureDateAsDate</th>\n",
       "      <th>HomeTeam</th>\n",
       "      <th>AwayTeam</th>\n",
       "      <th>HomeOdds</th>\n",
       "      <th>DrawOdds</th>\n",
       "      <th>AwayOdds</th>\n",
       "      <th>HTRecord</th>\n",
       "      <th>HTRecord</th>\n",
       "      <th>ExpectedResult</th>\n",
       "      <th>FTHG_3</th>\n",
       "      <th>FTAG_3</th>\n",
       "      <th>prediction</th>\n",
       "      <th>HomeTeamResult</th>\n",
       "      <th>stake</th>\n",
       "      <th>applic_odds</th>\n",
       "      <th>betprofit</th>\n",
       "    </tr>\n",
       "  </thead>\n",
       "  <tbody>\n",
       "    <tr>\n",
       "      <th>10162</th>\n",
       "      <td>2018-12-08</td>\n",
       "      <td>Chelsea</td>\n",
       "      <td>Manchester City</td>\n",
       "      <td>3.90</td>\n",
       "      <td>3.70</td>\n",
       "      <td>1.91</td>\n",
       "      <td>1.0</td>\n",
       "      <td>1.0</td>\n",
       "      <td>0.207730</td>\n",
       "      <td>1.666667</td>\n",
       "      <td>2.333333</td>\n",
       "      <td>L</td>\n",
       "      <td>W</td>\n",
       "      <td>-1</td>\n",
       "      <td>0.00</td>\n",
       "      <td>-1.00</td>\n",
       "    </tr>\n",
       "    <tr>\n",
       "      <th>10978</th>\n",
       "      <td>2018-12-08</td>\n",
       "      <td>Cardiff City</td>\n",
       "      <td>Southampton</td>\n",
       "      <td>2.80</td>\n",
       "      <td>3.20</td>\n",
       "      <td>2.60</td>\n",
       "      <td>1.0</td>\n",
       "      <td>1.0</td>\n",
       "      <td>0.446684</td>\n",
       "      <td>1.333333</td>\n",
       "      <td>1.333333</td>\n",
       "      <td>W</td>\n",
       "      <td>W</td>\n",
       "      <td>-1</td>\n",
       "      <td>2.80</td>\n",
       "      <td>1.80</td>\n",
       "    </tr>\n",
       "    <tr>\n",
       "      <th>10049</th>\n",
       "      <td>2018-12-08</td>\n",
       "      <td>AFC Bournemouth</td>\n",
       "      <td>Liverpool</td>\n",
       "      <td>5.50</td>\n",
       "      <td>4.33</td>\n",
       "      <td>1.57</td>\n",
       "      <td>0.0</td>\n",
       "      <td>0.0</td>\n",
       "      <td>0.340800</td>\n",
       "      <td>1.333333</td>\n",
       "      <td>2.333333</td>\n",
       "      <td>L</td>\n",
       "      <td>L</td>\n",
       "      <td>-1</td>\n",
       "      <td>1.57</td>\n",
       "      <td>0.57</td>\n",
       "    </tr>\n",
       "    <tr>\n",
       "      <th>9596</th>\n",
       "      <td>2018-12-08</td>\n",
       "      <td>Burnley</td>\n",
       "      <td>Brighton &amp; Hove Albion</td>\n",
       "      <td>2.85</td>\n",
       "      <td>3.10</td>\n",
       "      <td>2.65</td>\n",
       "      <td>1.0</td>\n",
       "      <td>1.0</td>\n",
       "      <td>0.901571</td>\n",
       "      <td>0.666667</td>\n",
       "      <td>1.333333</td>\n",
       "      <td>L</td>\n",
       "      <td>W</td>\n",
       "      <td>-1</td>\n",
       "      <td>0.00</td>\n",
       "      <td>-1.00</td>\n",
       "    </tr>\n",
       "    <tr>\n",
       "      <th>9561</th>\n",
       "      <td>2018-12-08</td>\n",
       "      <td>West Ham United</td>\n",
       "      <td>Crystal Palace</td>\n",
       "      <td>2.20</td>\n",
       "      <td>3.40</td>\n",
       "      <td>3.30</td>\n",
       "      <td>1.0</td>\n",
       "      <td>1.0</td>\n",
       "      <td>2.251645</td>\n",
       "      <td>2.333333</td>\n",
       "      <td>0.666667</td>\n",
       "      <td>W</td>\n",
       "      <td>W</td>\n",
       "      <td>-1</td>\n",
       "      <td>2.20</td>\n",
       "      <td>1.20</td>\n",
       "    </tr>\n",
       "    <tr>\n",
       "      <th>9816</th>\n",
       "      <td>2018-12-08</td>\n",
       "      <td>Arsenal</td>\n",
       "      <td>Huddersfield Town</td>\n",
       "      <td>1.28</td>\n",
       "      <td>5.75</td>\n",
       "      <td>10.50</td>\n",
       "      <td>1.0</td>\n",
       "      <td>1.0</td>\n",
       "      <td>1.757924</td>\n",
       "      <td>2.000000</td>\n",
       "      <td>1.000000</td>\n",
       "      <td>W</td>\n",
       "      <td>W</td>\n",
       "      <td>-1</td>\n",
       "      <td>1.28</td>\n",
       "      <td>0.28</td>\n",
       "    </tr>\n",
       "    <tr>\n",
       "      <th>1311</th>\n",
       "      <td>2018-12-08</td>\n",
       "      <td>Manchester United</td>\n",
       "      <td>Fulham</td>\n",
       "      <td>1.33</td>\n",
       "      <td>5.50</td>\n",
       "      <td>8.75</td>\n",
       "      <td>1.0</td>\n",
       "      <td>1.0</td>\n",
       "      <td>1.000000</td>\n",
       "      <td>1.333333</td>\n",
       "      <td>0.000000</td>\n",
       "      <td>W</td>\n",
       "      <td>W</td>\n",
       "      <td>-1</td>\n",
       "      <td>1.33</td>\n",
       "      <td>0.33</td>\n",
       "    </tr>\n",
       "    <tr>\n",
       "      <th>10396</th>\n",
       "      <td>2018-12-08</td>\n",
       "      <td>Leicester City</td>\n",
       "      <td>Tottenham Hotspur</td>\n",
       "      <td>3.90</td>\n",
       "      <td>3.50</td>\n",
       "      <td>1.95</td>\n",
       "      <td>0.0</td>\n",
       "      <td>0.0</td>\n",
       "      <td>0.851138</td>\n",
       "      <td>1.000000</td>\n",
       "      <td>2.000000</td>\n",
       "      <td>L</td>\n",
       "      <td>L</td>\n",
       "      <td>-1</td>\n",
       "      <td>1.95</td>\n",
       "      <td>0.95</td>\n",
       "    </tr>\n",
       "    <tr>\n",
       "      <th>3189</th>\n",
       "      <td>2018-12-09</td>\n",
       "      <td>Newcastle United</td>\n",
       "      <td>Wolverhampton Wanderers</td>\n",
       "      <td>2.85</td>\n",
       "      <td>3.10</td>\n",
       "      <td>2.65</td>\n",
       "      <td>0.0</td>\n",
       "      <td>0.0</td>\n",
       "      <td>1.688496</td>\n",
       "      <td>1.000000</td>\n",
       "      <td>0.666667</td>\n",
       "      <td>L</td>\n",
       "      <td>L</td>\n",
       "      <td>-1</td>\n",
       "      <td>2.65</td>\n",
       "      <td>1.65</td>\n",
       "    </tr>\n",
       "  </tbody>\n",
       "</table>\n",
       "</div>"
      ],
      "text/plain": [
       "      FixtureDateAsDate           HomeTeam                 AwayTeam  HomeOdds  \\\n",
       "10162        2018-12-08            Chelsea          Manchester City      3.90   \n",
       "10978        2018-12-08       Cardiff City              Southampton      2.80   \n",
       "10049        2018-12-08    AFC Bournemouth                Liverpool      5.50   \n",
       "9596         2018-12-08            Burnley   Brighton & Hove Albion      2.85   \n",
       "9561         2018-12-08    West Ham United           Crystal Palace      2.20   \n",
       "9816         2018-12-08            Arsenal        Huddersfield Town      1.28   \n",
       "1311         2018-12-08  Manchester United                   Fulham      1.33   \n",
       "10396        2018-12-08     Leicester City        Tottenham Hotspur      3.90   \n",
       "3189         2018-12-09   Newcastle United  Wolverhampton Wanderers      2.85   \n",
       "\n",
       "       DrawOdds  AwayOdds  HTRecord  HTRecord  ExpectedResult    FTHG_3  \\\n",
       "10162      3.70      1.91       1.0       1.0        0.207730  1.666667   \n",
       "10978      3.20      2.60       1.0       1.0        0.446684  1.333333   \n",
       "10049      4.33      1.57       0.0       0.0        0.340800  1.333333   \n",
       "9596       3.10      2.65       1.0       1.0        0.901571  0.666667   \n",
       "9561       3.40      3.30       1.0       1.0        2.251645  2.333333   \n",
       "9816       5.75     10.50       1.0       1.0        1.757924  2.000000   \n",
       "1311       5.50      8.75       1.0       1.0        1.000000  1.333333   \n",
       "10396      3.50      1.95       0.0       0.0        0.851138  1.000000   \n",
       "3189       3.10      2.65       0.0       0.0        1.688496  1.000000   \n",
       "\n",
       "         FTAG_3 prediction HomeTeamResult  stake  applic_odds  betprofit  \n",
       "10162  2.333333          L              W     -1         0.00      -1.00  \n",
       "10978  1.333333          W              W     -1         2.80       1.80  \n",
       "10049  2.333333          L              L     -1         1.57       0.57  \n",
       "9596   1.333333          L              W     -1         0.00      -1.00  \n",
       "9561   0.666667          W              W     -1         2.20       1.20  \n",
       "9816   1.000000          W              W     -1         1.28       0.28  \n",
       "1311   0.000000          W              W     -1         1.33       0.33  \n",
       "10396  2.000000          L              L     -1         1.95       0.95  \n",
       "3189   0.666667          L              L     -1         2.65       1.65  "
      ]
     },
     "execution_count": 15,
     "metadata": {},
     "output_type": "execute_result"
    }
   ],
   "source": [
    "fix_pred.filter_by_col('FixtureDateAsDate',['2018-12-08', '2018-12-09'])\n",
    "fix_pred.df[fixture_cols + odds_cols + derived_cols + predict_cols + result_cols + bet_results_cols]"
   ]
  },
  {
   "cell_type": "code",
   "execution_count": 16,
   "metadata": {},
   "outputs": [
    {
     "data": {
      "text/plain": [
       "4.779999999999999"
      ]
     },
     "execution_count": 16,
     "metadata": {},
     "output_type": "execute_result"
    }
   ],
   "source": [
    "fix_pred.df.betprofit.sum()"
   ]
  },
  {
   "cell_type": "code",
   "execution_count": 24,
   "metadata": {},
   "outputs": [
    {
     "data": {
      "image/png": "[encoded data removed]",
      "text/plain": [
       "<Figure size 432x288 with 1 Axes>"
      ]
     },
     "metadata": {
      "needs_background": "light"
     },
     "output_type": "display_data"
    }
   ],
   "source": [
    "df=summary(fix_pred,'M')\n",
    "df.plot(y='betting_account')\n",
    "plt.show()"
   ]
  },
  {
   "cell_type": "code",
   "execution_count": 25,
   "metadata": {},
   "outputs": [
    {
     "data": {
      "text/plain": [
       "<matplotlib.axes._subplots.AxesSubplot at 0x113567f28>"
      ]
     },
     "execution_count": 25,
     "metadata": {},
     "output_type": "execute_result"
    },
    {
     "data": {
      "image/png": "[encoded data removed]",
      "text/plain": [
       "<Figure size 432x288 with 1 Axes>"
      ]
     },
     "metadata": {
      "needs_background": "light"
     },
     "output_type": "display_data"
    }
   ],
   "source": [
    "summary(fix_pred,'M').plot()"
   ]
  },
  {
   "cell_type": "code",
   "execution_count": 180,
   "metadata": {},
   "outputs": [
    {
     "data": {
      "text/html": [
       "<div>\n",
       "<style scoped>\n",
       "    .dataframe tbody tr th:only-of-type {\n",
       "        vertical-align: middle;\n",
       "    }\n",
       "\n",
       "    .dataframe tbody tr th {\n",
       "        vertical-align: top;\n",
       "    }\n",
       "\n",
       "    .dataframe thead th {\n",
       "        text-align: right;\n",
       "    }\n",
       "</style>\n",
       "<table border=\"1\" class=\"dataframe\">\n",
       "  <thead>\n",
       "    <tr style=\"text-align: right;\">\n",
       "      <th></th>\n",
       "      <th>HomeTeamResult</th>\n",
       "      <th>D</th>\n",
       "      <th>L</th>\n",
       "      <th>W</th>\n",
       "      <th>All</th>\n",
       "    </tr>\n",
       "    <tr>\n",
       "      <th>leagueid</th>\n",
       "      <th>prediction</th>\n",
       "      <th></th>\n",
       "      <th></th>\n",
       "      <th></th>\n",
       "      <th></th>\n",
       "    </tr>\n",
       "  </thead>\n",
       "  <tbody>\n",
       "    <tr>\n",
       "      <th rowspan=\"2\" valign=\"top\">1</th>\n",
       "      <th>L</th>\n",
       "      <td>10</td>\n",
       "      <td>27</td>\n",
       "      <td>9</td>\n",
       "      <td>46</td>\n",
       "    </tr>\n",
       "    <tr>\n",
       "      <th>W</th>\n",
       "      <td>16</td>\n",
       "      <td>16</td>\n",
       "      <td>42</td>\n",
       "      <td>74</td>\n",
       "    </tr>\n",
       "    <tr>\n",
       "      <th rowspan=\"2\" valign=\"top\">2</th>\n",
       "      <th>L</th>\n",
       "      <td>21</td>\n",
       "      <td>24</td>\n",
       "      <td>21</td>\n",
       "      <td>66</td>\n",
       "    </tr>\n",
       "    <tr>\n",
       "      <th>W</th>\n",
       "      <td>42</td>\n",
       "      <td>28</td>\n",
       "      <td>68</td>\n",
       "      <td>138</td>\n",
       "    </tr>\n",
       "    <tr>\n",
       "      <th>All</th>\n",
       "      <th></th>\n",
       "      <td>89</td>\n",
       "      <td>95</td>\n",
       "      <td>140</td>\n",
       "      <td>324</td>\n",
       "    </tr>\n",
       "  </tbody>\n",
       "</table>\n",
       "</div>"
      ],
      "text/plain": [
       "HomeTeamResult        D   L    W  All\n",
       "leagueid prediction                  \n",
       "1        L           10  27    9   46\n",
       "         W           16  16   42   74\n",
       "2        L           21  24   21   66\n",
       "         W           42  28   68  138\n",
       "All                  89  95  140  324"
      ]
     },
     "execution_count": 180,
     "metadata": {},
     "output_type": "execute_result"
    }
   ],
   "source": [
    "pd.crosstab([fix_pred.df.leagueid, fix_pred.df.prediction], fix_pred.df.HomeTeamResult, margins=True)"
   ]
  },
  {
   "cell_type": "code",
   "execution_count": 184,
   "metadata": {},
   "outputs": [
    {
     "data": {
      "text/html": [
       "<div>\n",
       "<style scoped>\n",
       "    .dataframe tbody tr th:only-of-type {\n",
       "        vertical-align: middle;\n",
       "    }\n",
       "\n",
       "    .dataframe tbody tr th {\n",
       "        vertical-align: top;\n",
       "    }\n",
       "\n",
       "    .dataframe thead th {\n",
       "        text-align: right;\n",
       "    }\n",
       "</style>\n",
       "<table border=\"1\" class=\"dataframe\">\n",
       "  <thead>\n",
       "    <tr style=\"text-align: right;\">\n",
       "      <th></th>\n",
       "      <th>HomeTeamResult</th>\n",
       "      <th>D</th>\n",
       "      <th>L</th>\n",
       "      <th>W</th>\n",
       "    </tr>\n",
       "    <tr>\n",
       "      <th>leagueid</th>\n",
       "      <th>prediction</th>\n",
       "      <th></th>\n",
       "      <th></th>\n",
       "      <th></th>\n",
       "    </tr>\n",
       "  </thead>\n",
       "  <tbody>\n",
       "    <tr>\n",
       "      <th rowspan=\"2\" valign=\"top\">1</th>\n",
       "      <th>L</th>\n",
       "      <td>0.112360</td>\n",
       "      <td>0.284211</td>\n",
       "      <td>0.064286</td>\n",
       "    </tr>\n",
       "    <tr>\n",
       "      <th>W</th>\n",
       "      <td>0.179775</td>\n",
       "      <td>0.168421</td>\n",
       "      <td>0.300000</td>\n",
       "    </tr>\n",
       "    <tr>\n",
       "      <th rowspan=\"2\" valign=\"top\">2</th>\n",
       "      <th>L</th>\n",
       "      <td>0.235955</td>\n",
       "      <td>0.252632</td>\n",
       "      <td>0.150000</td>\n",
       "    </tr>\n",
       "    <tr>\n",
       "      <th>W</th>\n",
       "      <td>0.471910</td>\n",
       "      <td>0.294737</td>\n",
       "      <td>0.485714</td>\n",
       "    </tr>\n",
       "  </tbody>\n",
       "</table>\n",
       "</div>"
      ],
      "text/plain": [
       "HomeTeamResult              D         L         W\n",
       "leagueid prediction                              \n",
       "1        L           0.112360  0.284211  0.064286\n",
       "         W           0.179775  0.168421  0.300000\n",
       "2        L           0.235955  0.252632  0.150000\n",
       "         W           0.471910  0.294737  0.485714"
      ]
     },
     "execution_count": 184,
     "metadata": {},
     "output_type": "execute_result"
    }
   ],
   "source": [
    "pd.crosstab([fix_pred.df.leagueid, fix_pred.df.prediction], fix_pred.df.HomeTeamResult, normalize='columns')"
   ]
  },
  {
   "cell_type": "code",
   "execution_count": 181,
   "metadata": {},
   "outputs": [
    {
     "data": {
      "text/html": [
       "<div>\n",
       "<style scoped>\n",
       "    .dataframe tbody tr th:only-of-type {\n",
       "        vertical-align: middle;\n",
       "    }\n",
       "\n",
       "    .dataframe tbody tr th {\n",
       "        vertical-align: top;\n",
       "    }\n",
       "\n",
       "    .dataframe thead th {\n",
       "        text-align: right;\n",
       "    }\n",
       "</style>\n",
       "<table border=\"1\" class=\"dataframe\">\n",
       "  <thead>\n",
       "    <tr style=\"text-align: right;\">\n",
       "      <th></th>\n",
       "      <th>HomeTeamResult</th>\n",
       "      <th>D</th>\n",
       "      <th>L</th>\n",
       "      <th>W</th>\n",
       "      <th>All</th>\n",
       "    </tr>\n",
       "    <tr>\n",
       "      <th>leagueid</th>\n",
       "      <th>prediction</th>\n",
       "      <th></th>\n",
       "      <th></th>\n",
       "      <th></th>\n",
       "      <th></th>\n",
       "    </tr>\n",
       "  </thead>\n",
       "  <tbody>\n",
       "    <tr>\n",
       "      <th rowspan=\"2\" valign=\"top\">1</th>\n",
       "      <th>L</th>\n",
       "      <td>0.108696</td>\n",
       "      <td>0.293478</td>\n",
       "      <td>0.097826</td>\n",
       "      <td>0.5</td>\n",
       "    </tr>\n",
       "    <tr>\n",
       "      <th>W</th>\n",
       "      <td>0.108108</td>\n",
       "      <td>0.108108</td>\n",
       "      <td>0.283784</td>\n",
       "      <td>0.5</td>\n",
       "    </tr>\n",
       "    <tr>\n",
       "      <th rowspan=\"2\" valign=\"top\">2</th>\n",
       "      <th>L</th>\n",
       "      <td>0.159091</td>\n",
       "      <td>0.181818</td>\n",
       "      <td>0.159091</td>\n",
       "      <td>0.5</td>\n",
       "    </tr>\n",
       "    <tr>\n",
       "      <th>W</th>\n",
       "      <td>0.152174</td>\n",
       "      <td>0.101449</td>\n",
       "      <td>0.246377</td>\n",
       "      <td>0.5</td>\n",
       "    </tr>\n",
       "    <tr>\n",
       "      <th>All</th>\n",
       "      <th></th>\n",
       "      <td>0.137346</td>\n",
       "      <td>0.146605</td>\n",
       "      <td>0.216049</td>\n",
       "      <td>0.5</td>\n",
       "    </tr>\n",
       "  </tbody>\n",
       "</table>\n",
       "</div>"
      ],
      "text/plain": [
       "HomeTeamResult              D         L         W  All\n",
       "leagueid prediction                                   \n",
       "1        L           0.108696  0.293478  0.097826  0.5\n",
       "         W           0.108108  0.108108  0.283784  0.5\n",
       "2        L           0.159091  0.181818  0.159091  0.5\n",
       "         W           0.152174  0.101449  0.246377  0.5\n",
       "All                  0.137346  0.146605  0.216049  0.5"
      ]
     },
     "execution_count": 181,
     "metadata": {},
     "output_type": "execute_result"
    }
   ],
   "source": [
    "pd.crosstab([fix_pred.df.leagueid, fix_pred.df.prediction], fix_pred.df.HomeTeamResult, margins=True).apply(lambda r: r/r.sum(), axis=1)"
   ]
  },
  {
   "cell_type": "code",
   "execution_count": 185,
   "metadata": {},
   "outputs": [],
   "source": [
    "# how to decide if we are going to bet on two teams that are very similar?  Home advantage?"
   ]
  },
  {
   "cell_type": "code",
   "execution_count": 187,
   "metadata": {},
   "outputs": [
    {
     "data": {
      "text/plain": [
       "Index(['FixtureID', 'season', 'leagueid', 'fixDate', 'HomeTeamID', 'FTHG',\n",
       "       'AwayTeamID', 'FTAG', 'HomeELO_prev', 'AwayELO_prev', 'HomeTeamResult',\n",
       "       'AwayTeamResult', 'HomeTeam', 'AwayTeam', 'FTHG_3', 'FTAG_3', 'FTHG_5',\n",
       "       'FTAG_5', 'HomeOdds', 'DrawOdds', 'AwayOdds', 'FixtureDateAsDate',\n",
       "       'Target', 'HTRecord', 'ATRecord', 'ExpectedResult', 'FTG_3', 'FTG_5',\n",
       "       'prediction', 'stake', 'applic_odds', 'betprofit'],\n",
       "      dtype='object')"
      ]
     },
     "execution_count": 187,
     "metadata": {},
     "output_type": "execute_result"
    }
   ],
   "source": [
    "df_d = fix_pred.df[fix_pred.df.HomeTeamResult=='D']\n",
    "df_d.columns"
   ]
  },
  {
   "cell_type": "code",
   "execution_count": 190,
   "metadata": {},
   "outputs": [
    {
     "data": {
      "text/plain": [
       "<matplotlib.axes._subplots.AxesSubplot at 0x111cf47f0>"
      ]
     },
     "execution_count": 190,
     "metadata": {},
     "output_type": "execute_result"
    },
    {
     "data": {
      "image/png": "[encoded data removed]",
      "text/plain": [
       "<Figure size 432x288 with 1 Axes>"
      ]
     },
     "metadata": {
      "needs_background": "light"
     },
     "output_type": "display_data"
    }
   ],
   "source": [
    "df_d.ExpectedResult.plot.hist(bins=40,cumulative=True)"
   ]
  },
  {
   "cell_type": "code",
   "execution_count": 191,
   "metadata": {},
   "outputs": [
    {
     "data": {
      "text/plain": [
       "<matplotlib.axes._subplots.AxesSubplot at 0x111def748>"
      ]
     },
     "execution_count": 191,
     "metadata": {},
     "output_type": "execute_result"
    },
    {
     "data": {
      "image/png": "[encoded data removed]",
      "text/plain": [
       "<Figure size 432x288 with 1 Axes>"
      ]
     },
     "metadata": {
      "needs_background": "light"
     },
     "output_type": "display_data"
    }
   ],
   "source": [
    "fix_pred.df.ExpectedResult.plot.hist(bins=40,cumulative=True)"
   ]
  },
  {
   "cell_type": "code",
   "execution_count": null,
   "metadata": {},
   "outputs": [],
   "source": []
  }
 ],
 "metadata": {
  "kernelspec": {
   "display_name": "Python 3",
   "language": "python",
   "name": "python3"
  },
  "language_info": {
   "codemirror_mode": {
    "name": "ipython",
    "version": 3
   },
   "file_extension": ".py",
   "mimetype": "text/x-python",
   "name": "python",
   "nbconvert_exporter": "python",
   "pygments_lexer": "ipython3",
   "version": "3.7.1"
  }
 },
 "nbformat": 4,
 "nbformat_minor": 1
}
