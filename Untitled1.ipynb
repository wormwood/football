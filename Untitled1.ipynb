{
 "cells": [
  {
   "cell_type": "code",
   "execution_count": 37,
   "metadata": {
    "collapsed": false
   },
   "outputs": [],
   "source": [
    "import pandas as pd\n",
    "from FixturesOdds import FixturesOdds\n",
    "import numpy as np"
   ]
  },
  {
   "cell_type": "code",
   "execution_count": 38,
   "metadata": {
    "collapsed": false
   },
   "outputs": [
    {
     "name": "stdout",
     "output_type": "stream",
     "text": [
      "The autoreload extension is already loaded. To reload it, use:\n",
      "  %reload_ext autoreload\n"
     ]
    }
   ],
   "source": [
    "%load_ext autoreload \n",
    "%autoreload 2"
   ]
  },
  {
   "cell_type": "code",
   "execution_count": 39,
   "metadata": {
    "collapsed": true
   },
   "outputs": [],
   "source": [
    "filename = 'vwCSV_3.csv'"
   ]
  },
  {
   "cell_type": "code",
   "execution_count": 40,
   "metadata": {
    "collapsed": false
   },
   "outputs": [],
   "source": [
    "fix=FixturesOdds()\n",
    "fix.fix_load('vwCSV_3','vwCSV_3.csv', True) # no reresh\n",
    "fix.do_calcs()"
   ]
  },
  {
   "cell_type": "code",
   "execution_count": 41,
   "metadata": {
    "collapsed": false
   },
   "outputs": [
    {
     "ename": "AttributeError",
     "evalue": "'FixturesOdds' object has no attribute 'last_result_by_league'",
     "output_type": "error",
     "traceback": [
      "\u001b[0;31m---------------------------------------------------------------------------\u001b[0m",
      "\u001b[0;31mAttributeError\u001b[0m                            Traceback (most recent call last)",
      "\u001b[0;32m<ipython-input-41-c85b605eef12>\u001b[0m in \u001b[0;36m<module>\u001b[0;34m()\u001b[0m\n\u001b[0;32m----> 1\u001b[0;31m \u001b[0mfix\u001b[0m\u001b[0;34m.\u001b[0m\u001b[0mlast_result_by_league\u001b[0m\u001b[0;34m(\u001b[0m\u001b[0;34m)\u001b[0m\u001b[0;34m\u001b[0m\u001b[0m\n\u001b[0m",
      "\u001b[0;31mAttributeError\u001b[0m: 'FixturesOdds' object has no attribute 'last_result_by_league'"
     ]
    }
   ],
   "source": [
    "fix.last_result_by_league()"
   ]
  },
  {
   "cell_type": "code",
   "execution_count": 26,
   "metadata": {
    "collapsed": false
   },
   "outputs": [
    {
     "data": {
      "text/plain": [
       "leagueid\n",
       "1    2019-05-11 00:00:00.000\n",
       "2    2019-05-05 00:00:00.000\n",
       "3    2018-10-20 00:00:00.000\n",
       "4    2018-10-20 00:00:00.000\n",
       "5    2018-08-25 00:00:00.000\n",
       "Name: fixDate, dtype: object"
      ]
     },
     "execution_count": 26,
     "metadata": {},
     "output_type": "execute_result"
    }
   ],
   "source": [
    "#last fixture with a result by league\n",
    "df['fixDate'].groupby(df['leagueid']).max()"
   ]
  },
  {
   "cell_type": "code",
   "execution_count": 35,
   "metadata": {
    "collapsed": false
   },
   "outputs": [
    {
     "data": {
      "text/plain": [
       "leagueid\n",
       "1    2018-10-22 00:00:00.000\n",
       "2    2018-10-24 00:00:00.000\n",
       "3    2018-10-20 00:00:00.000\n",
       "4    2018-10-20 00:00:00.000\n",
       "Name: fixDate, dtype: object"
      ]
     },
     "execution_count": 35,
     "metadata": {},
     "output_type": "execute_result"
    }
   ],
   "source": [
    "df[df.FTHG.notnull()].fixDate.groupby(df['leagueid']).max()"
   ]
  },
  {
   "cell_type": "code",
   "execution_count": 42,
   "metadata": {
    "collapsed": true
   },
   "outputs": [],
   "source": [
    "# what are the returns if just bet on short odds\n",
    "fix=FixturesOdds()\n",
    "fix.fix_load('vwCSV_3','vwCSV_3.csv', True) # no reresh\n",
    "fix.do_calcs()"
   ]
  },
  {
   "cell_type": "code",
   "execution_count": 43,
   "metadata": {
    "collapsed": true
   },
   "outputs": [],
   "source": [
    "df=fix.df"
   ]
  },
  {
   "cell_type": "code",
   "execution_count": 93,
   "metadata": {
    "collapsed": true
   },
   "outputs": [],
   "source": [
    "oddslist=['HomeOdds','DrawOdds', 'AwayOdds']"
   ]
  },
  {
   "cell_type": "code",
   "execution_count": 47,
   "metadata": {
    "collapsed": false
   },
   "outputs": [
    {
     "data": {
      "text/plain": [
       "HomeOdds    2.470499\n",
       "DrawOdds    3.528682\n",
       "AwayOdds    3.713422\n",
       "dtype: float64"
      ]
     },
     "execution_count": 47,
     "metadata": {},
     "output_type": "execute_result"
    }
   ],
   "source": [
    "df[['HomeOdds','DrawOdds', 'AwayOdds']].mean()"
   ]
  },
  {
   "cell_type": "code",
   "execution_count": 110,
   "metadata": {
    "collapsed": false
   },
   "outputs": [
    {
     "data": {
      "text/html": [
       "<div>\n",
       "<style>\n",
       "    .dataframe thead tr:only-child th {\n",
       "        text-align: right;\n",
       "    }\n",
       "\n",
       "    .dataframe thead th {\n",
       "        text-align: left;\n",
       "    }\n",
       "\n",
       "    .dataframe tbody tr th {\n",
       "        vertical-align: top;\n",
       "    }\n",
       "</style>\n",
       "<table border=\"1\" class=\"dataframe\">\n",
       "  <thead>\n",
       "    <tr style=\"text-align: right;\">\n",
       "      <th></th>\n",
       "      <th>fixdate</th>\n",
       "      <th>HomeOdds</th>\n",
       "      <th>DrawOdds</th>\n",
       "      <th>AwayOdds</th>\n",
       "      <th>Result</th>\n",
       "      <th>prediction</th>\n",
       "      <th>min_odds</th>\n",
       "      <th>payoff</th>\n",
       "    </tr>\n",
       "  </thead>\n",
       "  <tbody>\n",
       "    <tr>\n",
       "      <th>0</th>\n",
       "      <td>2018-01-01</td>\n",
       "      <td>2.162668</td>\n",
       "      <td>3.522006</td>\n",
       "      <td>0.912308</td>\n",
       "      <td>L</td>\n",
       "      <td>L</td>\n",
       "      <td>0.912308</td>\n",
       "      <td>0.912308</td>\n",
       "    </tr>\n",
       "    <tr>\n",
       "      <th>1</th>\n",
       "      <td>2018-01-02</td>\n",
       "      <td>1.303807</td>\n",
       "      <td>2.981358</td>\n",
       "      <td>3.552371</td>\n",
       "      <td>W</td>\n",
       "      <td>W</td>\n",
       "      <td>1.303807</td>\n",
       "      <td>1.303807</td>\n",
       "    </tr>\n",
       "    <tr>\n",
       "      <th>2</th>\n",
       "      <td>2018-01-03</td>\n",
       "      <td>2.053227</td>\n",
       "      <td>3.066047</td>\n",
       "      <td>0.801882</td>\n",
       "      <td>D</td>\n",
       "      <td>L</td>\n",
       "      <td>0.801882</td>\n",
       "      <td>-1.000000</td>\n",
       "    </tr>\n",
       "    <tr>\n",
       "      <th>3</th>\n",
       "      <td>2018-01-04</td>\n",
       "      <td>1.544017</td>\n",
       "      <td>2.156094</td>\n",
       "      <td>2.477840</td>\n",
       "      <td>L</td>\n",
       "      <td>W</td>\n",
       "      <td>1.544017</td>\n",
       "      <td>-1.000000</td>\n",
       "    </tr>\n",
       "    <tr>\n",
       "      <th>4</th>\n",
       "      <td>2018-01-05</td>\n",
       "      <td>1.849123</td>\n",
       "      <td>2.538142</td>\n",
       "      <td>3.290917</td>\n",
       "      <td>L</td>\n",
       "      <td>W</td>\n",
       "      <td>1.849123</td>\n",
       "      <td>-1.000000</td>\n",
       "    </tr>\n",
       "    <tr>\n",
       "      <th>5</th>\n",
       "      <td>2018-01-06</td>\n",
       "      <td>1.798046</td>\n",
       "      <td>4.561103</td>\n",
       "      <td>2.428547</td>\n",
       "      <td>D</td>\n",
       "      <td>W</td>\n",
       "      <td>1.798046</td>\n",
       "      <td>-1.000000</td>\n",
       "    </tr>\n",
       "    <tr>\n",
       "      <th>6</th>\n",
       "      <td>2018-01-07</td>\n",
       "      <td>2.135899</td>\n",
       "      <td>2.130196</td>\n",
       "      <td>2.488489</td>\n",
       "      <td>D</td>\n",
       "      <td>D</td>\n",
       "      <td>2.130196</td>\n",
       "      <td>2.130196</td>\n",
       "    </tr>\n",
       "    <tr>\n",
       "      <th>7</th>\n",
       "      <td>2018-01-08</td>\n",
       "      <td>2.124429</td>\n",
       "      <td>3.910289</td>\n",
       "      <td>2.071522</td>\n",
       "      <td>D</td>\n",
       "      <td>L</td>\n",
       "      <td>2.071522</td>\n",
       "      <td>-1.000000</td>\n",
       "    </tr>\n",
       "    <tr>\n",
       "      <th>8</th>\n",
       "      <td>2018-01-09</td>\n",
       "      <td>2.385880</td>\n",
       "      <td>2.943683</td>\n",
       "      <td>2.925025</td>\n",
       "      <td>W</td>\n",
       "      <td>W</td>\n",
       "      <td>2.385880</td>\n",
       "      <td>2.385880</td>\n",
       "    </tr>\n",
       "    <tr>\n",
       "      <th>9</th>\n",
       "      <td>2018-01-10</td>\n",
       "      <td>0.793213</td>\n",
       "      <td>2.953858</td>\n",
       "      <td>1.853563</td>\n",
       "      <td>W</td>\n",
       "      <td>W</td>\n",
       "      <td>0.793213</td>\n",
       "      <td>0.793213</td>\n",
       "    </tr>\n",
       "  </tbody>\n",
       "</table>\n",
       "</div>"
      ],
      "text/plain": [
       "     fixdate  HomeOdds  DrawOdds  AwayOdds Result prediction  min_odds  \\\n",
       "0 2018-01-01  2.162668  3.522006  0.912308      L          L  0.912308   \n",
       "1 2018-01-02  1.303807  2.981358  3.552371      W          W  1.303807   \n",
       "2 2018-01-03  2.053227  3.066047  0.801882      D          L  0.801882   \n",
       "3 2018-01-04  1.544017  2.156094  2.477840      L          W  1.544017   \n",
       "4 2018-01-05  1.849123  2.538142  3.290917      L          W  1.849123   \n",
       "5 2018-01-06  1.798046  4.561103  2.428547      D          W  1.798046   \n",
       "6 2018-01-07  2.135899  2.130196  2.488489      D          D  2.130196   \n",
       "7 2018-01-08  2.124429  3.910289  2.071522      D          L  2.071522   \n",
       "8 2018-01-09  2.385880  2.943683  2.925025      W          W  2.385880   \n",
       "9 2018-01-10  0.793213  2.953858  1.853563      W          W  0.793213   \n",
       "\n",
       "     payoff  \n",
       "0  0.912308  \n",
       "1  1.303807  \n",
       "2 -1.000000  \n",
       "3 -1.000000  \n",
       "4 -1.000000  \n",
       "5 -1.000000  \n",
       "6  2.130196  \n",
       "7 -1.000000  \n",
       "8  2.385880  \n",
       "9  0.793213  "
      ]
     },
     "execution_count": 110,
     "metadata": {},
     "output_type": "execute_result"
    }
   ],
   "source": [
    "size=400\n",
    "df2=pd.DataFrame()\n",
    "df2['fixdate']=pd.date_range(start='1/1/2018', periods=size)\n",
    "df2['HomeOdds']=np.random.normal(1.8, 0.5,size=size)\n",
    "df2['DrawOdds']=np.random.normal(3.1, 0.6,size=size)\n",
    "df2['AwayOdds']=np.random.normal(2.2, 0.8,size=size)\n",
    "df2['Result']=np.random.choice(['W','D','L'], size)\n",
    "df2['prediction']=df2[oddslist].idxmin(axis=1).map({'HomeOdds':'W', 'DrawOdds':'D', 'AwayOdds':'L'})\n",
    "df2['min_odds']=df2[oddslist].min(axis=1)\n",
    "df2['payoff'] = np.where(df2['Result']==df2['prediction'],df2['min_odds'] , -1)\n",
    "df2.head(10)"
   ]
  },
  {
   "cell_type": "code",
   "execution_count": 111,
   "metadata": {
    "collapsed": false
   },
   "outputs": [
    {
     "data": {
      "text/plain": [
       "fixdate\n",
       "2018-01    0.346312\n",
       "2018-02    4.581864\n",
       "2018-03   -0.869049\n",
       "2018-04   -0.879119\n",
       "2018-05   -2.492804\n",
       "2018-06   -4.195418\n",
       "2018-07    0.910200\n",
       "2018-08   -3.951532\n",
       "2018-09   -0.837981\n",
       "2018-10   -2.735404\n",
       "2018-11   -1.624214\n",
       "2018-12   -2.202304\n",
       "2018-13    4.803001\n",
       "2018-14   -2.457463\n",
       "2018-15    4.231049\n",
       "2018-16   -2.272540\n",
       "2018-17   -1.085984\n",
       "2018-18   -4.084758\n",
       "2018-19   -4.871701\n",
       "2018-20    3.792220\n",
       "2018-21    4.285593\n",
       "2018-22   -7.000000\n",
       "2018-23   -4.548233\n",
       "2018-24    5.513872\n",
       "2018-25   -4.670341\n",
       "2018-26    4.119102\n",
       "2018-27   -0.982648\n",
       "2018-28    1.079463\n",
       "2018-29    5.792911\n",
       "2018-30    3.126353\n",
       "2018-31    1.170642\n",
       "2018-32    0.331710\n",
       "2018-33   -1.077831\n",
       "2018-34   -2.292138\n",
       "2018-35   -1.728006\n",
       "2018-36    0.384211\n",
       "2018-37   -4.312200\n",
       "2018-38   -4.037469\n",
       "2018-39    1.890280\n",
       "2018-40    0.077892\n",
       "2018-41    3.558145\n",
       "2018-42   -3.824316\n",
       "2018-43   -7.000000\n",
       "2018-44    3.605388\n",
       "2018-45   -1.080483\n",
       "2018-46    0.707447\n",
       "2018-47   -7.000000\n",
       "2018-48    2.131501\n",
       "2018-49   -0.044825\n",
       "2018-50    1.025906\n",
       "2018-51   -2.286406\n",
       "2018-52    1.814338\n",
       "2018-53    0.652922\n",
       "2019-00    1.509988\n",
       "2019-01   -2.233864\n",
       "2019-02    1.763772\n",
       "2019-03   -0.264749\n",
       "2019-04   -2.171357\n",
       "2019-05    1.451649\n",
       "Name: payoff, dtype: float64"
      ]
     },
     "execution_count": 111,
     "metadata": {},
     "output_type": "execute_result"
    }
   ],
   "source": [
    "df2.groupby(df2.fixdate.dt.strftime('%Y-%W')).payoff.sum()"
   ]
  },
  {
   "cell_type": "code",
   "execution_count": null,
   "metadata": {
    "collapsed": true
   },
   "outputs": [],
   "source": []
  }
 ],
 "metadata": {
  "kernelspec": {
   "display_name": "Python 3",
   "language": "python",
   "name": "python3"
  },
  "language_info": {
   "codemirror_mode": {
    "name": "ipython",
    "version": 3
   },
   "file_extension": ".py",
   "mimetype": "text/x-python",
   "name": "python",
   "nbconvert_exporter": "python",
   "pygments_lexer": "ipython3",
   "version": "3.5.1"
  }
 },
 "nbformat": 4,
 "nbformat_minor": 0
}
