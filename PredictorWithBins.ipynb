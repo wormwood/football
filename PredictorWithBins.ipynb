{
 "cells": [
  {
   "cell_type": "code",
   "execution_count": 1,
   "metadata": {},
   "outputs": [],
   "source": [
    "%load_ext autoreload"
   ]
  },
  {
   "cell_type": "code",
   "execution_count": 2,
   "metadata": {},
   "outputs": [],
   "source": [
    "import pandas as pd\n",
    "import numpy as np\n",
    "import matplotlib.pyplot as plt"
   ]
  },
  {
   "cell_type": "code",
   "execution_count": 3,
   "metadata": {},
   "outputs": [],
   "source": [
    "import FootballClf\n",
    "from FixturesOdds import FixturesOdds"
   ]
  },
  {
   "cell_type": "code",
   "execution_count": 4,
   "metadata": {},
   "outputs": [],
   "source": [
    "fixture_cols=['FixtureDateAsDate','HomeTeam', 'AwayTeam']\n",
    "odds_cols=['HomeOdds', 'DrawOdds', 'AwayOdds']\n",
    "predict_cols=['prediction']\n",
    "result_cols=['HomeTeamResult']\n",
    "bet_results_cols=['stake', 'applic_odds', 'betprofit']"
   ]
  },
  {
   "cell_type": "code",
   "execution_count": 5,
   "metadata": {},
   "outputs": [],
   "source": [
    "def summary(fix, agg_level):\n",
    "    grouper = fix.df.groupby(fix.df.FixtureDateAsDate.dt.to_period(agg_level).dt.start_time)\n",
    "    df = pd.DataFrame(grouper.betprofit.sum())\n",
    "    df['stake'] = grouper.stake.sum()\n",
    "    df['betting_account'] = df.betprofit.cumsum()\n",
    "    \n",
    "    return df"
   ]
  },
  {
   "cell_type": "code",
   "execution_count": 6,
   "metadata": {},
   "outputs": [],
   "source": [
    "def get_a_predictor(Refresh=False, clf_name='betting clf_2.2'):\n",
    "    fix_pred=FixturesOdds()\n",
    "    fix_pred.fix_load('vwCSV_3','vwCSV_3.csv', Refresh) # no reresh\n",
    "    fix_pred.do_calcs()\n",
    "    fix_pred.clean_predict()\n",
    "    X=fix_pred.X()\n",
    "    c=FootballClf.FootballClf()\n",
    "    clf=c.load_by_name(clf_name)\n",
    "    fix_pred.df['prediction'] = clf.predict(fix_pred.X())\n",
    "    fix_pred.calc_bet_results(1)\n",
    "    \n",
    "    return fix_pred"
   ]
  },
  {
   "cell_type": "code",
   "execution_count": 10,
   "metadata": {},
   "outputs": [],
   "source": [
    "def load_dataset(Refresh=False):\n",
    "    fix_pred=FixturesOdds()\n",
    "    fix_pred.fix_load('vwCSV_3','vwCSV_3.csv', Refresh) # no reresh\n",
    "    fix_pred.do_calcs()\n",
    "    return fix_pred"
   ]
  },
  {
   "cell_type": "code",
   "execution_count": 14,
   "metadata": {},
   "outputs": [
    {
     "data": {
      "text/plain": [
       "<bound method Fixtures.clean of <FixturesOdds.FixturesOdds object at 0x10e18ca20>>"
      ]
     },
     "execution_count": 14,
     "metadata": {},
     "output_type": "execute_result"
    }
   ],
   "source": [
    "fix_pred = load_dataset().clean_predict()\n",
    "fix_pred.clean"
   ]
  },
  {
   "cell_type": "code",
   "execution_count": 17,
   "metadata": {},
   "outputs": [
    {
     "data": {
      "text/plain": [
       "count    9214.000000\n",
       "mean        1.166664\n",
       "std         0.772933\n",
       "min         0.087599\n",
       "25%         0.676083\n",
       "50%         0.988553\n",
       "75%         1.437143\n",
       "max        10.777053\n",
       "Name: ExpectedResult, dtype: float64"
      ]
     },
     "execution_count": 17,
     "metadata": {},
     "output_type": "execute_result"
    }
   ],
   "source": [
    "fix_pred.df.ExpectedResult.describe()"
   ]
  },
  {
   "cell_type": "code",
   "execution_count": null,
   "metadata": {},
   "outputs": [],
   "source": [
    "est = KBinsDiscretizer(n_bins=3, encode='ordinal', strategy='uniform')\n"
   ]
  }
 ],
 "metadata": {
  "kernelspec": {
   "display_name": "Python 3",
   "language": "python",
   "name": "python3"
  },
  "language_info": {
   "codemirror_mode": {
    "name": "ipython",
    "version": 3
   },
   "file_extension": ".py",
   "mimetype": "text/x-python",
   "name": "python",
   "nbconvert_exporter": "python",
   "pygments_lexer": "ipython3",
   "version": "3.7.1"
  }
 },
 "nbformat": 4,
 "nbformat_minor": 2
}
