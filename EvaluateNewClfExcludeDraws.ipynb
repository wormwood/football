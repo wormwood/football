{
 "cells": [
  {
   "cell_type": "code",
   "execution_count": 44,
   "metadata": {},
   "outputs": [],
   "source": [
    "from sklearn.datasets import load_boston\n",
    "from sklearn.model_selection import KFold\n",
    "from sklearn.metrics import mean_squared_error\n",
    "from sklearn.model_selection import GridSearchCV\n",
    "from sklearn.ensemble import RandomForestRegressor\n",
    "from sklearn.ensemble import RandomForestClassifier\n",
    "from sklearn.svm import SVR\n",
    "import numpy as np\n",
    "from sklearn.model_selection import train_test_split\n",
    "from sklearn.metrics import classification_report\n",
    "from sklearn.metrics import precision_score"
   ]
  },
  {
   "cell_type": "code",
   "execution_count": 2,
   "metadata": {},
   "outputs": [],
   "source": [
    "from FixturesOdds import FixturesOdds\n",
    "import matplotlib.pyplot as plt"
   ]
  },
  {
   "cell_type": "code",
   "execution_count": 3,
   "metadata": {},
   "outputs": [],
   "source": [
    "import FootballClf"
   ]
  },
  {
   "cell_type": "code",
   "execution_count": 4,
   "metadata": {},
   "outputs": [],
   "source": [
    "import warnings\n",
    "warnings.simplefilter(\"ignore\")"
   ]
  },
  {
   "cell_type": "code",
   "execution_count": 5,
   "metadata": {},
   "outputs": [],
   "source": [
    "def filter_by_date_range(fix, start_date, end_date):\n",
    "    fix.df = fix.df[fix.df.FixtureDateAsDate >= start_date]\n",
    "    fix.df = fix.df[fix.df.FixtureDateAsDate < end_date]\n",
    "    return fix"
   ]
  },
  {
   "cell_type": "code",
   "execution_count": 6,
   "metadata": {},
   "outputs": [],
   "source": [
    "n_estimators = [int(x) for x in np.linspace(start=10, stop=100, num=5)]\n",
    "max_features = ['auto', 'sqrt']\n",
    "min_samples_leaf = [2,5,10,20]\n",
    "criterion = ['gini']\n",
    "min_samples_split=[200,400, 500,600,800]\n",
    "param_grid = [{'n_estimators' : n_estimators, 'max_features' : max_features, 'criterion' : criterion, \n",
    "                      'min_samples_split' : min_samples_split, 'min_samples_leaf' : min_samples_leaf}]"
   ]
  },
  {
   "cell_type": "code",
   "execution_count": 58,
   "metadata": {},
   "outputs": [],
   "source": [
    "start_date='2000-01-01'\n",
    "end_date = '2018-08-01'"
   ]
  },
  {
   "cell_type": "code",
   "execution_count": 32,
   "metadata": {},
   "outputs": [],
   "source": [
    "def get_fixs():\n",
    "    ftest=FixturesOdds().fix_load('vwCSV_3','vwCSV_3.csv', False)\n",
    "    ftest.do_calcs()\n",
    "    ftest.clean()\n",
    "    return ftest"
   ]
  },
  {
   "cell_type": "code",
   "execution_count": 18,
   "metadata": {},
   "outputs": [],
   "source": [
    "def best_estimator(fo):\n",
    "    clf =  RandomForestClassifier(random_state=0)\n",
    "    X,y=fo.X(),fo.y()\n",
    "    X_train, X_test, y_train, y_test = train_test_split(X, y, test_size=0.3, random_state=0)\n",
    "    gs=GridSearchCV(clf, param_grid, cv=5, scoring='precision_weighted')\n",
    "    gs.fit(X_train, y_train)\n",
    "    return gs.best_estimator_"
   ]
  },
  {
   "cell_type": "code",
   "execution_count": 79,
   "metadata": {},
   "outputs": [],
   "source": [
    "fo=FixturesOdds().fix_load('vwCSV_3','vwCSV_3.csv', False)\n",
    "fo.do_calcs()\n",
    "fo.clean()\n",
    "fo = filter_by_date_range(fo, '2000-01-01', '2018-08-01')"
   ]
  },
  {
   "cell_type": "code",
   "execution_count": 80,
   "metadata": {},
   "outputs": [],
   "source": [
    "clf = best_estimator(fo)"
   ]
  },
  {
   "cell_type": "code",
   "execution_count": 82,
   "metadata": {},
   "outputs": [
    {
     "name": "stdout",
     "output_type": "stream",
     "text": [
      "              precision    recall  f1-score   support\n",
      "\n",
      "           D       0.57      0.01      0.01      2277\n",
      "           L       0.46      0.54      0.49      2631\n",
      "           W       0.52      0.77      0.62      3736\n",
      "\n",
      "   micro avg       0.50      0.50      0.50      8644\n",
      "   macro avg       0.51      0.44      0.38      8644\n",
      "weighted avg       0.51      0.50      0.42      8644\n",
      "\n"
     ]
    }
   ],
   "source": [
    "X_test,y_test=fo.X(),fo.y()\n",
    "y_pred = clf.predict(X_test)\n",
    "print(classification_report(y_test, y_pred))"
   ]
  },
  {
   "cell_type": "code",
   "execution_count": 78,
   "metadata": {},
   "outputs": [
    {
     "name": "stdout",
     "output_type": "stream",
     "text": [
      "train classsififers dropping fixtures where the predicted result is less than limit\n",
      "limit  precsn fixtures\n",
      "0.00 : 0.20 : 0.46 :   575\n",
      "0.00 : 0.60 : 0.35 :   469\n",
      "0.00 : 1.00 : 0.67 :   262\n",
      "0.25 : 0.45 : 0.35 :   527\n",
      "0.25 : 0.85 : 0.35 :   350\n",
      "0.25 : 1.25 : 0.37 :   171\n",
      "0.50 : 0.70 : 0.35 :   427\n",
      "0.50 : 1.10 : 0.38 :   229\n",
      "0.50 : 1.50 : 0.36 :   111\n",
      "0.75 : 0.95 : 0.51 :   306\n",
      "0.75 : 1.35 : 0.39 :   147\n",
      "0.75 : 1.75 : 0.38 :    70\n",
      "1.00 : 1.20 : 0.40 :   197\n",
      "1.00 : 1.60 : 0.39 :    92\n",
      "1.00 : 2.00 : 0.46 :    54\n"
     ]
    }
   ],
   "source": [
    "print ('train classsififers dropping fixtures where the predicted result is less than limit')\n",
    "print ('limit  precsn fixtures')\n",
    "for l_lim in np.linspace(0, 1.0, 5) :\n",
    "    for  u_lim in np.linspace(0.2, 1.0, 3):\n",
    "        ftrain = get_fixs()\n",
    "        ftrain = filter_by_date_range(ftrain, start_date, end_date)\n",
    "        ftrain.df = ftrain.df[(ftrain.df.ExpectedResult > l_lim) & (ftrain.df.ExpectedResult > (l_lim+u_lim))]\n",
    "        clf = best_estimator(ftrain)\n",
    "\n",
    "        ftest = get_fixs()\n",
    "        ftest = filter_by_date_range(ftest, end_date, '2018-12-01')\n",
    "        ftest.df = ftest.df[(ftest.df.ExpectedResult > l_lim ) & (ftest.df.ExpectedResult> (l_lim+u_lim)) ]\n",
    "        X_test,y_test=ftest.X(),ftest.y()\n",
    "\n",
    "        if X_test.size > 0:\n",
    "            y_pred = clf.predict(X_test)\n",
    "            print(\"%4.2f : %4.2f : %4.2f : %5d\" %(l_lim, l_lim + u_lim, precision_score(y_test, y_pred, average='weighted'), len(ftest.df)) )\n",
    "        else:\n",
    "            print (\"%4.2f is empty\" % l_lim)"
   ]
  },
  {
   "cell_type": "code",
   "execution_count": 77,
   "metadata": {},
   "outputs": [
    {
     "name": "stdout",
     "output_type": "stream",
     "text": [
      "lower 0.00 upper 0.20\n",
      "lower 0.00 upper 0.60\n",
      "lower 0.00 upper 1.00\n",
      "lower 0.25 upper 0.45\n",
      "lower 0.25 upper 0.85\n",
      "lower 0.25 upper 1.25\n",
      "lower 0.50 upper 0.70\n",
      "lower 0.50 upper 1.10\n",
      "lower 0.50 upper 1.50\n",
      "lower 0.75 upper 0.95\n",
      "lower 0.75 upper 1.35\n",
      "lower 0.75 upper 1.75\n",
      "lower 1.00 upper 1.20\n",
      "lower 1.00 upper 1.60\n",
      "lower 1.00 upper 2.00\n"
     ]
    }
   ],
   "source": [
    "for l_lim in np.linspace(0, 1.0, 5) :\n",
    "  for  u_lim in np.linspace(0.2, 1.0, 3):\n",
    "    print (\"lower %4.2f upper %4.2f\" % (l_lim, l_lim +u_lim))"
   ]
  },
  {
   "cell_type": "code",
   "execution_count": 62,
   "metadata": {},
   "outputs": [
    {
     "name": "stdout",
     "output_type": "stream",
     "text": [
      "train classsififers dropping fixtures where the predicted result is less than limit\n",
      "limit  precsn fixtures\n",
      "0.00  :   577\n",
      "0.25  :   573\n",
      "0.50  :   509\n",
      "0.75  :   403\n",
      "1.00  :   262\n"
     ]
    }
   ],
   "source": [
    "print ('train classsififers dropping fixtures where the predicted result is less than limit')\n",
    "print ('limit  precsn fixtures')\n",
    "for lim in np.linspace(0, 1.0, 5) :\n",
    "    ftrain = get_fixs()\n",
    "    ftrain = filter_by_date_range(ftrain, start_date, end_date)\n",
    "    ftrain.df = ftrain.df[ftrain.df.ExpectedResult > lim]\n",
    "    \n",
    "    ftest = get_fixs()\n",
    "    ftest = filter_by_date_range(ftest, end_date, '2018-12-01')\n",
    "    ftest.df = ftest.df[ftest.df.ExpectedResult > lim]\n",
    "    X_test,y_test=ftest.X(),ftest.y()\n",
    "    \n",
    "    if X_test.size > 0:\n",
    "        print(\"%4.2f  : %5d\" %(lim, len(ftest.df)) )\n",
    "    else:\n",
    "        print (\"%4.2f is empty\" % lim)"
   ]
  },
  {
   "cell_type": "code",
   "execution_count": 7,
   "metadata": {},
   "outputs": [
    {
     "data": {
      "text/plain": [
       "<FixturesOdds.FixturesOdds at 0x111ed2d68>"
      ]
     },
     "execution_count": 7,
     "metadata": {},
     "output_type": "execute_result"
    }
   ],
   "source": [
    "fo=FixturesOdds()\n",
    "fo.fix_load('vwCSV_3','vwCSV_3.csv', False)\n",
    "fo.do_calcs()\n",
    "fo.clean()"
   ]
  },
  {
   "cell_type": "code",
   "execution_count": 8,
   "metadata": {},
   "outputs": [],
   "source": [
    "fo = filter_by_date_range(fo, '2000-01-01', '2018-08-01')"
   ]
  },
  {
   "cell_type": "code",
   "execution_count": 9,
   "metadata": {},
   "outputs": [],
   "source": [
    "clf =  RandomForestClassifier(random_state=0)\n",
    "X,y=fo.X(),fo.y()\n",
    "X_train, X_test, y_train, y_test = train_test_split(X, y, test_size=0.3, random_state=0)"
   ]
  },
  {
   "cell_type": "code",
   "execution_count": 10,
   "metadata": {},
   "outputs": [],
   "source": [
    "gs=GridSearchCV(clf, param_grid, cv=5, scoring='precision_weighted')\n",
    "gs.fit(X_train, y_train)\n",
    "y_pred = gs.best_estimator_.fit(X_train, y_train).predict(X_test)"
   ]
  },
  {
   "cell_type": "code",
   "execution_count": 11,
   "metadata": {},
   "outputs": [
    {
     "name": "stdout",
     "output_type": "stream",
     "text": [
      "              precision    recall  f1-score   support\n",
      "\n",
      "           D       0.43      0.00      0.01       699\n",
      "           L       0.44      0.51      0.47       812\n",
      "           W       0.49      0.75      0.59      1083\n",
      "\n",
      "   micro avg       0.47      0.47      0.47      2594\n",
      "   macro avg       0.45      0.42      0.36      2594\n",
      "weighted avg       0.46      0.47      0.40      2594\n",
      "\n"
     ]
    }
   ],
   "source": [
    "print(classification_report(y_test, y_pred))"
   ]
  },
  {
   "cell_type": "code",
   "execution_count": 12,
   "metadata": {},
   "outputs": [
    {
     "data": {
      "text/plain": [
       "{'bootstrap': True,\n",
       " 'class_weight': None,\n",
       " 'criterion': 'gini',\n",
       " 'max_depth': None,\n",
       " 'max_features': 'auto',\n",
       " 'max_leaf_nodes': None,\n",
       " 'min_impurity_decrease': 0.0,\n",
       " 'min_impurity_split': None,\n",
       " 'min_samples_leaf': 10,\n",
       " 'min_samples_split': 200,\n",
       " 'min_weight_fraction_leaf': 0.0,\n",
       " 'n_estimators': 32,\n",
       " 'n_jobs': None,\n",
       " 'oob_score': False,\n",
       " 'random_state': 0,\n",
       " 'verbose': 0,\n",
       " 'warm_start': False}"
      ]
     },
     "execution_count": 12,
     "metadata": {},
     "output_type": "execute_result"
    }
   ],
   "source": [
    "gs.best_estimator_.get_params()"
   ]
  },
  {
   "cell_type": "code",
   "execution_count": 15,
   "metadata": {},
   "outputs": [
    {
     "data": {
      "text/plain": [
       "<FixturesOdds.FixturesOdds at 0x1123eefd0>"
      ]
     },
     "execution_count": 15,
     "metadata": {},
     "output_type": "execute_result"
    }
   ],
   "source": [
    "fix_pred=FixturesOdds()\n",
    "fix_pred.fix_load('vwCSV_3','vwCSV_3.csv', False) # no reresh\n",
    "fix_pred.do_calcs()\n",
    "fix_pred.clean_predict()"
   ]
  },
  {
   "cell_type": "code",
   "execution_count": 16,
   "metadata": {},
   "outputs": [
    {
     "data": {
      "text/plain": [
       "<FixturesOdds.FixturesOdds at 0x1123eefd0>"
      ]
     },
     "execution_count": 16,
     "metadata": {},
     "output_type": "execute_result"
    }
   ],
   "source": [
    "#see how we would have done in the 2018 season\n",
    "fix_pred = filter_by_date_range(fix_pred, '2018-08-02', '2018-11-15')\n",
    "fix_pred.filter_by_col('leagueid', int(1))"
   ]
  },
  {
   "cell_type": "code",
   "execution_count": 17,
   "metadata": {},
   "outputs": [],
   "source": [
    "X_pred=fix_pred.X()\n",
    "y_pred=fix_pred.y()"
   ]
  },
  {
   "cell_type": "code",
   "execution_count": 18,
   "metadata": {},
   "outputs": [],
   "source": [
    "y_test = gs.best_estimator_.predict(X_pred)"
   ]
  },
  {
   "cell_type": "code",
   "execution_count": 19,
   "metadata": {},
   "outputs": [
    {
     "name": "stdout",
     "output_type": "stream",
     "text": [
      "              precision    recall  f1-score   support\n",
      "\n",
      "           D       0.00      0.00      0.00         0\n",
      "           L       0.63      0.59      0.61        41\n",
      "           W       0.83      0.58      0.68        69\n",
      "\n",
      "   micro avg       0.58      0.58      0.58       110\n",
      "   macro avg       0.49      0.39      0.43       110\n",
      "weighted avg       0.76      0.58      0.66       110\n",
      "\n"
     ]
    }
   ],
   "source": [
    "print(classification_report(y_test, y_pred))"
   ]
  },
  {
   "cell_type": "code",
   "execution_count": 21,
   "metadata": {},
   "outputs": [],
   "source": [
    "from sklearn.metrics import confusion_matrix"
   ]
  },
  {
   "cell_type": "code",
   "execution_count": 23,
   "metadata": {},
   "outputs": [
    {
     "data": {
      "text/plain": [
       "array([[ 0,  0,  0],\n",
       "       [ 9, 24,  8],\n",
       "       [15, 14, 40]])"
      ]
     },
     "execution_count": 23,
     "metadata": {},
     "output_type": "execute_result"
    }
   ],
   "source": [
    "cm = confusion_matrix(y_test, y_pred)\n",
    "cm"
   ]
  },
  {
   "cell_type": "code",
   "execution_count": 24,
   "metadata": {},
   "outputs": [
    {
     "data": {
      "text/plain": [
       "array([[       nan, 0.        , 0.        ],\n",
       "       [       inf, 0.58536585, 0.11594203],\n",
       "       [       inf, 0.34146341, 0.57971014]])"
      ]
     },
     "execution_count": 24,
     "metadata": {},
     "output_type": "execute_result"
    }
   ],
   "source": [
    "cm/cm.astype(np.float).sum(axis=1)"
   ]
  },
  {
   "cell_type": "code",
   "execution_count": 25,
   "metadata": {},
   "outputs": [],
   "source": [
    "from sklearn.metrics import precision_recall_fscore_support\n",
    "_, recall, _, _ = precision_recall_fscore_support(y_test, y_pred)"
   ]
  },
  {
   "cell_type": "code",
   "execution_count": 26,
   "metadata": {},
   "outputs": [
    {
     "data": {
      "text/plain": [
       "array([0.        , 0.58536585, 0.57971014])"
      ]
     },
     "execution_count": 26,
     "metadata": {},
     "output_type": "execute_result"
    }
   ],
   "source": [
    "recall"
   ]
  },
  {
   "cell_type": "code",
   "execution_count": 28,
   "metadata": {},
   "outputs": [],
   "source": [
    "c=FootballClf.FootballClf()\n",
    "c.save(gs.best_estimator_, 'betting clf_2.2', 1, 'fixed AVG goal records (again)', 'odds_clf_dev2', ['ExpectedResult', 'FTG_3', 'FTG_5', 'HomeOdds', 'DrawOdds', 'AwayOdds'])\n"
   ]
  },
  {
   "cell_type": "code",
   "execution_count": 133,
   "metadata": {
    "collapsed": true
   },
   "outputs": [],
   "source": [
    "import pandas as pd"
   ]
  },
  {
   "cell_type": "code",
   "execution_count": 138,
   "metadata": {
    "collapsed": true
   },
   "outputs": [],
   "source": [
    "predictday='2018-11-24'\n",
    "leagueid=1\n",
    "refresh=False"
   ]
  },
  {
   "cell_type": "code",
   "execution_count": 134,
   "metadata": {},
   "outputs": [],
   "source": [
    "pd.set_option('display.max_colwidth', 18)\n",
    "pd.set_option('colheader_justify', 'left')\n",
    "pd.set_option('display.expand_frame_repr', False)"
   ]
  },
  {
   "cell_type": "code",
   "execution_count": 181,
   "metadata": {},
   "outputs": [],
   "source": [
    "fix_pred=FixturesOdds()\n",
    "fix_pred.fix_load('vwCSV_3','vwCSV_3.csv', refresh) # no reresh\n",
    "fix_pred.do_calcs()\n",
    "\n",
    "fix_pred.add_live_odds('skybet', int(leagueid),predictday)\n",
    "fix_pred.clean_predict()\n",
    "\n",
    "fix_pred.filter_by_col('FixtureDateAsDate', predictday).filter_by_col('leagueid', int(leagueid))\n",
    "X=fix_pred.X()"
   ]
  },
  {
   "cell_type": "code",
   "execution_count": 176,
   "metadata": {},
   "outputs": [],
   "source": [
    "clf=gs.best_estimator_"
   ]
  },
  {
   "cell_type": "code",
   "execution_count": 182,
   "metadata": {
    "collapsed": true
   },
   "outputs": [],
   "source": [
    "c=FootballClf.FootballClf()\n",
    "clf=c.load_by_name('betting clf_2.1')"
   ]
  },
  {
   "cell_type": "code",
   "execution_count": 183,
   "metadata": {},
   "outputs": [
    {
     "name": "stdout",
     "output_type": "stream",
     "text": [
      "    FixtureDateAsDate HomeTeam           AwayTeam         prediction  HomeOdds  DrawOdds  AwayOdds\n",
      "116 2018-11-24         Brighton & Hov...   Leicester City  L           2.90     3.20      2.50    \n",
      "467 2018-11-24                   Everton     Cardiff City  W           1.44     4.33      7.00    \n",
      "597 2018-11-24                    Fulham      Southampton  L           2.50     3.40      2.70    \n",
      "825 2018-11-24         Manchester United   Crystal Palace  W           1.40     4.50      8.00    \n",
      "710 2018-11-24         Tottenham Hotspur          Chelsea  L           2.70     3.40      2.50    \n",
      "239 2018-11-24                   Watford        Liverpool  L           6.00     4.20      1.53    \n",
      "353 2018-11-24           West Ham United  Manchester City  L          11.00     6.00      1.25    \n"
     ]
    }
   ],
   "source": [
    "fix_pred.df['prediction']=clf.predict(X)\n",
    "fix_pred.df.sort_values('HomeTeam', inplace=True)\n",
    "\n",
    "print(fix_pred.df[['FixtureDateAsDate','HomeTeam', 'AwayTeam', 'prediction', 'HomeOdds', 'DrawOdds', 'AwayOdds']])"
   ]
  },
  {
   "cell_type": "code",
   "execution_count": 178,
   "metadata": {
    "collapsed": true
   },
   "outputs": [],
   "source": [
    "#existing classifier\n",
    "c=FootballClf.FootballClf()\n",
    "clf=c.load_by_name('betting clf_1.1')"
   ]
  },
  {
   "cell_type": "code",
   "execution_count": 179,
   "metadata": {},
   "outputs": [
    {
     "name": "stdout",
     "output_type": "stream",
     "text": [
      "    FixtureDateAsDate HomeTeam           AwayTeam         prediction  HomeOdds  DrawOdds  AwayOdds\n",
      "116 2018-11-24         Brighton & Hov...   Leicester City  W           2.90     3.20      2.50    \n",
      "598 2018-11-24                   Everton     Cardiff City  L           1.44     4.33      7.00    \n",
      "483 2018-11-24                    Fulham      Southampton  L           2.50     3.40      2.70    \n",
      "825 2018-11-24         Manchester United   Crystal Palace  W           1.40     4.50      8.00    \n",
      "710 2018-11-24         Tottenham Hotspur          Chelsea  W           2.70     3.40      2.50    \n",
      "239 2018-11-24                   Watford        Liverpool  L           6.00     4.20      1.53    \n",
      "353 2018-11-24           West Ham United  Manchester City  W          11.00     6.00      1.25    \n"
     ]
    }
   ],
   "source": [
    "fix_pred.df['prediction']=clf.predict(X)\n",
    "fix_pred.df.sort_values('HomeTeam', inplace=True)\n",
    "\n",
    "print(fix_pred.df[['FixtureDateAsDate','HomeTeam', 'AwayTeam', 'prediction', 'HomeOdds', 'DrawOdds', 'AwayOdds']])"
   ]
  },
  {
   "cell_type": "code",
   "execution_count": null,
   "metadata": {
    "collapsed": true
   },
   "outputs": [],
   "source": []
  }
 ],
 "metadata": {
  "kernelspec": {
   "display_name": "Python 3",
   "language": "python",
   "name": "python3"
  },
  "language_info": {
   "codemirror_mode": {
    "name": "ipython",
    "version": 3
   },
   "file_extension": ".py",
   "mimetype": "text/x-python",
   "name": "python",
   "nbconvert_exporter": "python",
   "pygments_lexer": "ipython3",
   "version": "3.7.1"
  }
 },
 "nbformat": 4,
 "nbformat_minor": 1
}
