{
 "cells": [
  {
   "cell_type": "code",
   "execution_count": 31,
   "metadata": {
    "collapsed": true
   },
   "outputs": [],
   "source": [
    "from FixturesOdds import FixturesOdds"
   ]
  },
  {
   "cell_type": "code",
   "execution_count": 32,
   "metadata": {
    "collapsed": false
   },
   "outputs": [
    {
     "name": "stdout",
     "output_type": "stream",
     "text": [
      "The autoreload extension is already loaded. To reload it, use:\n",
      "  %reload_ext autoreload\n"
     ]
    }
   ],
   "source": [
    "%load_ext autoreload \n",
    "%autoreload 2"
   ]
  },
  {
   "cell_type": "code",
   "execution_count": 33,
   "metadata": {
    "collapsed": false
   },
   "outputs": [],
   "source": [
    "fix_pred=FixturesOdds()\n",
    "fix_pred.fix_load('vwCSV_3','vwCSV_3.csv', False) # no reresh\n",
    "fix_pred.do_calcs()"
   ]
  },
  {
   "cell_type": "code",
   "execution_count": 34,
   "metadata": {
    "collapsed": false
   },
   "outputs": [],
   "source": [
    "bets=fix_pred.get_odds('skybet', 1)"
   ]
  },
  {
   "cell_type": "code",
   "execution_count": 26,
   "metadata": {
    "collapsed": false
   },
   "outputs": [
    {
     "data": {
      "text/plain": [
       "1746     2013-08-02\n",
       "7925     2013-08-03\n",
       "6641     2013-08-03\n",
       "3770     2013-08-03\n",
       "6297     2013-08-03\n",
       "8913     2013-08-03\n",
       "2682     2013-08-03\n",
       "535      2013-08-03\n",
       "2817     2013-08-03\n",
       "137      2013-08-03\n",
       "7584     2013-08-03\n",
       "8713     2013-08-03\n",
       "5634     2013-08-03\n",
       "4063     2013-08-03\n",
       "940      2013-08-03\n",
       "9250     2013-08-03\n",
       "3205     2013-08-03\n",
       "9708     2013-08-03\n",
       "4299     2013-08-03\n",
       "9599     2013-08-03\n",
       "5537     2013-08-03\n",
       "3296     2013-08-03\n",
       "1257     2013-08-03\n",
       "749      2013-08-03\n",
       "5457     2013-08-03\n",
       "772      2013-08-03\n",
       "3013     2013-08-03\n",
       "9370     2013-08-03\n",
       "3704     2013-08-03\n",
       "1376     2013-08-04\n",
       "            ...    \n",
       "7413     2019-05-03\n",
       "10403    2019-05-03\n",
       "7032     2019-05-03\n",
       "771      2019-05-03\n",
       "6854     2019-05-03\n",
       "10171    2019-05-03\n",
       "2612     2019-05-03\n",
       "9943     2019-05-03\n",
       "10635    2019-05-05\n",
       "4401     2019-05-05\n",
       "136      2019-05-05\n",
       "4829     2019-05-05\n",
       "3012     2019-05-05\n",
       "2184     2019-05-05\n",
       "4171     2019-05-05\n",
       "534      2019-05-05\n",
       "2422     2019-05-05\n",
       "1675     2019-05-05\n",
       "7583     2019-05-05\n",
       "2681     2019-05-05\n",
       "7561     2019-05-11\n",
       "10057    2019-05-11\n",
       "8263     2019-05-11\n",
       "10285    2019-05-11\n",
       "7767     2019-05-11\n",
       "7195     2019-05-11\n",
       "10517    2019-05-11\n",
       "8475     2019-05-11\n",
       "1960     2019-05-11\n",
       "9829     2019-05-11\n",
       "Name: FixtureDateAsDate, Length: 10750, dtype: object"
      ]
     },
     "execution_count": 26,
     "metadata": {},
     "output_type": "execute_result"
    }
   ],
   "source": [
    "fix_pred.filter_by_col"
   ]
  },
  {
   "cell_type": "code",
   "execution_count": null,
   "metadata": {
    "collapsed": true
   },
   "outputs": [],
   "source": []
  }
 ],
 "metadata": {
  "kernelspec": {
   "display_name": "Python 3",
   "language": "python",
   "name": "python3"
  },
  "language_info": {
   "codemirror_mode": {
    "name": "ipython",
    "version": 3
   },
   "file_extension": ".py",
   "mimetype": "text/x-python",
   "name": "python",
   "nbconvert_exporter": "python",
   "pygments_lexer": "ipython3",
   "version": "3.5.1"
  }
 },
 "nbformat": 4,
 "nbformat_minor": 0
}
