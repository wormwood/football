{
 "cells": [
  {
   "cell_type": "code",
   "execution_count": 10,
   "metadata": {
    "collapsed": true
   },
   "outputs": [],
   "source": [
    "import csv\n",
    "import urllib.request\n",
    "import datetime\n",
    "\n",
    "\n",
    "import json\n",
    "from dateutil import parser"
   ]
  },
  {
   "cell_type": "code",
   "execution_count": 2,
   "metadata": {
    "collapsed": true
   },
   "outputs": [],
   "source": [
    "def get_matches(competition_id):\n",
    "    # my api token\n",
    "    headers={'X-Auth-Token': 'eaa1239b82654c72bd9d2541b8a042fc'}\n",
    "\n",
    "    req = urllib.request.Request('http://api.football-data.org/v2/competitions/' + competition_id + '/matches', headers=headers)\n",
    "    r = urllib.request.urlopen(req).read()\n",
    "\n",
    "    #parse json into an array of matches\n",
    "    matches=json.loads(r.decode('utf-8'))\n",
    "    return matches"
   ]
  },
  {
   "cell_type": "code",
   "execution_count": 3,
   "metadata": {
    "collapsed": true
   },
   "outputs": [],
   "source": [
    "matches = get_matches('2021')"
   ]
  },
  {
   "cell_type": "code",
   "execution_count": 11,
   "metadata": {
    "collapsed": false
   },
   "outputs": [],
   "source": [
    "all_fixtures=[]\n",
    "for m in matches['matches']:\n",
    "    matchtime = parser.parse(m['utcDate']).strftime(\"%H:%M\")\n",
    "    matchdate = parser.parse(m['utcDate']).strftime(\"%Y-%m-%d\")\n",
    "    if m['score']['fullTime']['homeTeam'] is not None:\n",
    "        all_fixtures.append ([matchdate,matches['competition']['name'], '2', m['homeTeam']['name'], m['awayTeam']['name'], \n",
    "        m['score']['fullTime']['homeTeam'], m['score']['fullTime']['awayTeam']])\n",
    "    else:\n",
    "        all_fixtures.append ([matchdate,matches['competition']['name'], '1', m['homeTeam']['name'], m['awayTeam']['name'], \n",
    "        matchtime, 'N/A'])"
   ]
  },
  {
   "cell_type": "code",
   "execution_count": 12,
   "metadata": {
    "collapsed": false
   },
   "outputs": [
    {
     "data": {
      "text/plain": [
       "['2018-08-10',\n",
       " 'Premier League',\n",
       " '2',\n",
       " 'Manchester United FC',\n",
       " 'Leicester City FC',\n",
       " 2,\n",
       " 1]"
      ]
     },
     "execution_count": 12,
     "metadata": {},
     "output_type": "execute_result"
    }
   ],
   "source": [
    "all_fixtures[0]"
   ]
  },
  {
   "cell_type": "code",
   "execution_count": 15,
   "metadata": {
    "collapsed": false
   },
   "outputs": [
    {
     "data": {
      "text/plain": [
       "[['2018-10-28',\n",
       "  'Premier League',\n",
       "  '1',\n",
       "  'Burnley FC',\n",
       "  'Chelsea FC',\n",
       "  '13:30',\n",
       "  'N/A'],\n",
       " ['2018-10-28',\n",
       "  'Premier League',\n",
       "  '1',\n",
       "  'Crystal Palace FC',\n",
       "  'Arsenal FC',\n",
       "  '13:30',\n",
       "  'N/A'],\n",
       " ['2018-10-28',\n",
       "  'Premier League',\n",
       "  '1',\n",
       "  'Manchester United FC',\n",
       "  'Everton FC',\n",
       "  '16:00',\n",
       "  'N/A']]"
      ]
     },
     "execution_count": 15,
     "metadata": {},
     "output_type": "execute_result"
    }
   ],
   "source": [
    "[f for f in all_fixtures if f[0] == '2018-10-28']"
   ]
  },
  {
   "cell_type": "code",
   "execution_count": null,
   "metadata": {
    "collapsed": true
   },
   "outputs": [],
   "source": []
  }
 ],
 "metadata": {
  "kernelspec": {
   "display_name": "Python 3",
   "language": "python",
   "name": "python3"
  },
  "language_info": {
   "codemirror_mode": {
    "name": "ipython",
    "version": 3
   },
   "file_extension": ".py",
   "mimetype": "text/x-python",
   "name": "python",
   "nbconvert_exporter": "python",
   "pygments_lexer": "ipython3",
   "version": "3.5.1"
  }
 },
 "nbformat": 4,
 "nbformat_minor": 0
}
