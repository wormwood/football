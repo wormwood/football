{
 "cells": [
  {
   "cell_type": "code",
   "execution_count": 5,
   "metadata": {
    "collapsed": false
   },
   "outputs": [],
   "source": [
    "import pandas as pd\n",
    "from FixturesOdds import FixturesOdds\n",
    "import numpy as np\n",
    "import matplotlib.pyplot as plt"
   ]
  },
  {
   "cell_type": "code",
   "execution_count": 6,
   "metadata": {
    "collapsed": true
   },
   "outputs": [],
   "source": [
    "import FootballClf"
   ]
  },
  {
   "cell_type": "code",
   "execution_count": 7,
   "metadata": {
    "collapsed": false
   },
   "outputs": [
    {
     "name": "stdout",
     "output_type": "stream",
     "text": [
      "The autoreload extension is already loaded. To reload it, use:\n",
      "  %reload_ext autoreload\n"
     ]
    }
   ],
   "source": [
    "%load_ext autoreload \n",
    "%autoreload 2"
   ]
  },
  {
   "cell_type": "code",
   "execution_count": 8,
   "metadata": {
    "collapsed": false
   },
   "outputs": [],
   "source": [
    "%matplotlib inline"
   ]
  },
  {
   "cell_type": "code",
   "execution_count": 9,
   "metadata": {
    "collapsed": true
   },
   "outputs": [],
   "source": [
    "def applic_odds(row):\n",
    "    \n",
    "    if row['prediction'] != row['HomeTeamResult']:\n",
    "        return 0\n",
    "    elif row['HomeTeamResult'] == 'W' :\n",
    "        return row['HomeOdds']\n",
    "    elif row['HomeTeamResult'] =='D':\n",
    "        return row['DrawOdds']\n",
    "    else:\n",
    "        return row['AwayOdds']\n",
    "\n",
    "def gen_report(fix):\n",
    "\n",
    "    grouper = fix.df.groupby(fix.df.FixtureDateAsDate.dt.strftime('%Y-%W'))\n",
    "    df = pd.DataFrame(grouper.applic_odds.sum())\n",
    "    df['stake'] = grouper.stake.sum()\n",
    "    df['weeklyprofit']=df.applic_odds + df.stake\n",
    "    df['betting_account'] = df.weeklyprofit.cumsum()\n",
    "    return df\n",
    "\n"
   ]
  },
  {
   "cell_type": "code",
   "execution_count": 10,
   "metadata": {
    "collapsed": true
   },
   "outputs": [],
   "source": [
    "disp_cols=['FixtureDateAsDate','HomeTeam', 'AwayTeam', 'prediction', 'HomeOdds', \n",
    "           'DrawOdds', 'AwayOdds', 'HomeTeamResult', 'stake', 'applic_odds', 'weeklyprofit']"
   ]
  },
  {
   "cell_type": "code",
   "execution_count": 11,
   "metadata": {
    "collapsed": false
   },
   "outputs": [
    {
     "data": {
      "text/plain": [
       "<FixturesOdds.FixturesOdds at 0x11f9df208>"
      ]
     },
     "execution_count": 11,
     "metadata": {},
     "output_type": "execute_result"
    }
   ],
   "source": [
    "fix_pred=FixturesOdds()\n",
    "fix_pred.fix_load('vwCSV_3','vwCSV_3.csv', False) # no reresh\n",
    "fix_pred.do_calcs()\n",
    "fix_pred.clean_predict()"
   ]
  },
  {
   "cell_type": "code",
   "execution_count": 12,
   "metadata": {
    "collapsed": false
   },
   "outputs": [
    {
     "data": {
      "text/plain": [
       "<FixturesOdds.FixturesOdds at 0x11f9df208>"
      ]
     },
     "execution_count": 12,
     "metadata": {},
     "output_type": "execute_result"
    }
   ],
   "source": [
    "#which fixtures are we going to model?\n",
    "fix_pred.filter_by_col('season',2018).filter_by_col('leagueid',1)"
   ]
  },
  {
   "cell_type": "code",
   "execution_count": 18,
   "metadata": {
    "collapsed": false
   },
   "outputs": [],
   "source": [
    "X=fix_pred.X()\n",
    "c=FootballClf.FootballClf()\n",
    "clf=c.load_by_name('betting clf')"
   ]
  },
  {
   "cell_type": "code",
   "execution_count": 16,
   "metadata": {
    "collapsed": false
   },
   "outputs": [
    {
     "data": {
      "text/plain": [
       "RandomForestClassifier(bootstrap=True, class_weight=None, criterion='gini',\n",
       "            max_depth=10, max_features='auto', max_leaf_nodes=None,\n",
       "            min_impurity_decrease=0.0, min_impurity_split=None,\n",
       "            min_samples_leaf=10, min_samples_split=2,\n",
       "            min_weight_fraction_leaf=0.0, n_estimators=60, n_jobs=None,\n",
       "            oob_score=False, random_state=0, verbose=0, warm_start=False)"
      ]
     },
     "execution_count": 16,
     "metadata": {},
     "output_type": "execute_result"
    }
   ],
   "source": [
    "c.load_by_name('betting clf_1.1')"
   ]
  },
  {
   "cell_type": "code",
   "execution_count": 19,
   "metadata": {
    "collapsed": false
   },
   "outputs": [],
   "source": [
    "fix_pred.df['prediction'] = clf.predict(X)"
   ]
  },
  {
   "cell_type": "code",
   "execution_count": 20,
   "metadata": {
    "collapsed": false
   },
   "outputs": [],
   "source": [
    "\n",
    "fix_pred.df['stake']=-1\n",
    "fix_pred.df['applic_odds'] = fix_pred.df.apply(applic_odds, axis=1) #decide on payout\n",
    "fix_pred.df['weeklyprofit']=fix_pred.df.applic_odds + fix_pred.df.stake"
   ]
  },
  {
   "cell_type": "code",
   "execution_count": 45,
   "metadata": {
    "collapsed": false
   },
   "outputs": [
    {
     "data": {
      "text/plain": [
       "<matplotlib.axes._subplots.AxesSubplot at 0x1251cf160>"
      ]
     },
     "execution_count": 45,
     "metadata": {},
     "output_type": "execute_result"
    },
    {
     "data": {
      "image/png": "[encoded data removed]",
      "text/plain": [
       "<Figure size 600x400 with 1 Axes>"
      ]
     },
     "metadata": {},
     "output_type": "display_data"
    }
   ],
   "source": [
    "gen_report(fix_pred).betting_account.plot(title='Account Balance Change %s' % fix_pred.df.FixtureDateAsDate.dt.year.min())"
   ]
  },
  {
   "cell_type": "code",
   "execution_count": 25,
   "metadata": {
    "collapsed": false
   },
   "outputs": [
    {
     "data": {
      "text/html": [
       "<div>\n",
       "<style scoped>\n",
       "    .dataframe tbody tr th:only-of-type {\n",
       "        vertical-align: middle;\n",
       "    }\n",
       "\n",
       "    .dataframe tbody tr th {\n",
       "        vertical-align: top;\n",
       "    }\n",
       "\n",
       "    .dataframe thead th {\n",
       "        text-align: right;\n",
       "    }\n",
       "</style>\n",
       "<table border=\"1\" class=\"dataframe\">\n",
       "  <thead>\n",
       "    <tr style=\"text-align: right;\">\n",
       "      <th></th>\n",
       "      <th>applic_odds</th>\n",
       "      <th>stake</th>\n",
       "      <th>weeklyprofit</th>\n",
       "      <th>betting_account</th>\n",
       "      <th>pct_return</th>\n",
       "    </tr>\n",
       "    <tr>\n",
       "      <th>FixtureDateAsDate</th>\n",
       "      <th></th>\n",
       "      <th></th>\n",
       "      <th></th>\n",
       "      <th></th>\n",
       "      <th></th>\n",
       "    </tr>\n",
       "  </thead>\n",
       "  <tbody>\n",
       "    <tr>\n",
       "      <th>2018-33</th>\n",
       "      <td>8.07</td>\n",
       "      <td>-9</td>\n",
       "      <td>-0.93</td>\n",
       "      <td>-0.93</td>\n",
       "      <td>-0.103333</td>\n",
       "    </tr>\n",
       "    <tr>\n",
       "      <th>2018-34</th>\n",
       "      <td>10.11</td>\n",
       "      <td>-10</td>\n",
       "      <td>0.11</td>\n",
       "      <td>-0.82</td>\n",
       "      <td>0.011000</td>\n",
       "    </tr>\n",
       "    <tr>\n",
       "      <th>2018-35</th>\n",
       "      <td>9.78</td>\n",
       "      <td>-11</td>\n",
       "      <td>-1.22</td>\n",
       "      <td>-2.04</td>\n",
       "      <td>-0.110909</td>\n",
       "    </tr>\n",
       "    <tr>\n",
       "      <th>2018-37</th>\n",
       "      <td>14.88</td>\n",
       "      <td>-9</td>\n",
       "      <td>5.88</td>\n",
       "      <td>3.84</td>\n",
       "      <td>0.653333</td>\n",
       "    </tr>\n",
       "    <tr>\n",
       "      <th>2018-38</th>\n",
       "      <td>12.70</td>\n",
       "      <td>-11</td>\n",
       "      <td>1.70</td>\n",
       "      <td>5.54</td>\n",
       "      <td>0.154545</td>\n",
       "    </tr>\n",
       "    <tr>\n",
       "      <th>2018-39</th>\n",
       "      <td>10.46</td>\n",
       "      <td>-9</td>\n",
       "      <td>1.46</td>\n",
       "      <td>7.00</td>\n",
       "      <td>0.162222</td>\n",
       "    </tr>\n",
       "    <tr>\n",
       "      <th>2018-40</th>\n",
       "      <td>13.97</td>\n",
       "      <td>-11</td>\n",
       "      <td>2.97</td>\n",
       "      <td>9.97</td>\n",
       "      <td>0.270000</td>\n",
       "    </tr>\n",
       "    <tr>\n",
       "      <th>2018-42</th>\n",
       "      <td>8.51</td>\n",
       "      <td>-9</td>\n",
       "      <td>-0.49</td>\n",
       "      <td>9.48</td>\n",
       "      <td>-0.054444</td>\n",
       "    </tr>\n",
       "    <tr>\n",
       "      <th>2018-43</th>\n",
       "      <td>1.53</td>\n",
       "      <td>-1</td>\n",
       "      <td>0.53</td>\n",
       "      <td>10.01</td>\n",
       "      <td>0.530000</td>\n",
       "    </tr>\n",
       "  </tbody>\n",
       "</table>\n",
       "</div>"
      ],
      "text/plain": [
       "                   applic_odds  stake  weeklyprofit  betting_account  \\\n",
       "FixtureDateAsDate                                                      \n",
       "2018-33                   8.07     -9         -0.93            -0.93   \n",
       "2018-34                  10.11    -10          0.11            -0.82   \n",
       "2018-35                   9.78    -11         -1.22            -2.04   \n",
       "2018-37                  14.88     -9          5.88             3.84   \n",
       "2018-38                  12.70    -11          1.70             5.54   \n",
       "2018-39                  10.46     -9          1.46             7.00   \n",
       "2018-40                  13.97    -11          2.97             9.97   \n",
       "2018-42                   8.51     -9         -0.49             9.48   \n",
       "2018-43                   1.53     -1          0.53            10.01   \n",
       "\n",
       "                   pct_return  \n",
       "FixtureDateAsDate              \n",
       "2018-33             -0.103333  \n",
       "2018-34              0.011000  \n",
       "2018-35             -0.110909  \n",
       "2018-37              0.653333  \n",
       "2018-38              0.154545  \n",
       "2018-39              0.162222  \n",
       "2018-40              0.270000  \n",
       "2018-42             -0.054444  \n",
       "2018-43              0.530000  "
      ]
     },
     "execution_count": 25,
     "metadata": {},
     "output_type": "execute_result"
    }
   ],
   "source": [
    "df=gen_report(fix_pred)\n",
    "df['pct_return']=-df.weeklyprofit/df.stake\n",
    "df"
   ]
  },
  {
   "cell_type": "code",
   "execution_count": 26,
   "metadata": {
    "collapsed": false
   },
   "outputs": [
    {
     "data": {
      "text/plain": [
       "0.16804601571268238"
      ]
     },
     "execution_count": 26,
     "metadata": {},
     "output_type": "execute_result"
    }
   ],
   "source": [
    "df.pct_return.mean()"
   ]
  },
  {
   "cell_type": "code",
   "execution_count": 28,
   "metadata": {
    "collapsed": true
   },
   "outputs": [],
   "source": [
    "\n",
    "def color_negative_red(val):\n",
    "    \"\"\"\n",
    "    Takes a scalar and returns a string with\n",
    "    the css property `'color: red'` for negative\n",
    "    strings, black otherwise.\n",
    "    \"\"\"\n",
    "    color = 'red' if val < 0 else 'black'\n",
    "    return 'color: %s' % color"
   ]
  },
  {
   "cell_type": "code",
   "execution_count": 40,
   "metadata": {
    "collapsed": false
   },
   "outputs": [
    {
     "data": {
      "text/html": [
       "<style  type=\"text/css\" >\n",
       "</style>  \n",
       "<table id=\"T_5f9fe4b8_ddd7_11e8_a73c_4a0003a728c0\" > \n",
       "<thead>    <tr> \n",
       "        <th class=\"blank level0\" ></th> \n",
       "        <th class=\"col_heading level0 col0\" >applic_odds</th> \n",
       "        <th class=\"col_heading level0 col1\" >stake</th> \n",
       "        <th class=\"col_heading level0 col2\" >weeklyprofit</th> \n",
       "        <th class=\"col_heading level0 col3\" >betting_account</th> \n",
       "        <th class=\"col_heading level0 col4\" >pct_return</th> \n",
       "    </tr>    <tr> \n",
       "        <th class=\"index_name level0\" >FixtureDateAsDate</th> \n",
       "        <th class=\"blank\" ></th> \n",
       "        <th class=\"blank\" ></th> \n",
       "        <th class=\"blank\" ></th> \n",
       "        <th class=\"blank\" ></th> \n",
       "        <th class=\"blank\" ></th> \n",
       "    </tr></thead> \n",
       "<tbody>    <tr> \n",
       "        <th id=\"T_5f9fe4b8_ddd7_11e8_a73c_4a0003a728c0level0_row0\" class=\"row_heading level0 row0\" >2018-33</th> \n",
       "        <td id=\"T_5f9fe4b8_ddd7_11e8_a73c_4a0003a728c0row0_col0\" class=\"data row0 col0\" >8.07</td> \n",
       "        <td id=\"T_5f9fe4b8_ddd7_11e8_a73c_4a0003a728c0row0_col1\" class=\"data row0 col1\" >-9</td> \n",
       "        <td id=\"T_5f9fe4b8_ddd7_11e8_a73c_4a0003a728c0row0_col2\" class=\"data row0 col2\" >-0.93</td> \n",
       "        <td id=\"T_5f9fe4b8_ddd7_11e8_a73c_4a0003a728c0row0_col3\" class=\"data row0 col3\" >-0.93</td> \n",
       "        <td id=\"T_5f9fe4b8_ddd7_11e8_a73c_4a0003a728c0row0_col4\" class=\"data row0 col4\" >-10%</td> \n",
       "    </tr>    <tr> \n",
       "        <th id=\"T_5f9fe4b8_ddd7_11e8_a73c_4a0003a728c0level0_row1\" class=\"row_heading level0 row1\" >2018-34</th> \n",
       "        <td id=\"T_5f9fe4b8_ddd7_11e8_a73c_4a0003a728c0row1_col0\" class=\"data row1 col0\" >10.11</td> \n",
       "        <td id=\"T_5f9fe4b8_ddd7_11e8_a73c_4a0003a728c0row1_col1\" class=\"data row1 col1\" >-10</td> \n",
       "        <td id=\"T_5f9fe4b8_ddd7_11e8_a73c_4a0003a728c0row1_col2\" class=\"data row1 col2\" >0.11</td> \n",
       "        <td id=\"T_5f9fe4b8_ddd7_11e8_a73c_4a0003a728c0row1_col3\" class=\"data row1 col3\" >-0.82</td> \n",
       "        <td id=\"T_5f9fe4b8_ddd7_11e8_a73c_4a0003a728c0row1_col4\" class=\"data row1 col4\" >1%</td> \n",
       "    </tr>    <tr> \n",
       "        <th id=\"T_5f9fe4b8_ddd7_11e8_a73c_4a0003a728c0level0_row2\" class=\"row_heading level0 row2\" >2018-35</th> \n",
       "        <td id=\"T_5f9fe4b8_ddd7_11e8_a73c_4a0003a728c0row2_col0\" class=\"data row2 col0\" >9.78</td> \n",
       "        <td id=\"T_5f9fe4b8_ddd7_11e8_a73c_4a0003a728c0row2_col1\" class=\"data row2 col1\" >-11</td> \n",
       "        <td id=\"T_5f9fe4b8_ddd7_11e8_a73c_4a0003a728c0row2_col2\" class=\"data row2 col2\" >-1.22</td> \n",
       "        <td id=\"T_5f9fe4b8_ddd7_11e8_a73c_4a0003a728c0row2_col3\" class=\"data row2 col3\" >-2.04</td> \n",
       "        <td id=\"T_5f9fe4b8_ddd7_11e8_a73c_4a0003a728c0row2_col4\" class=\"data row2 col4\" >-11%</td> \n",
       "    </tr>    <tr> \n",
       "        <th id=\"T_5f9fe4b8_ddd7_11e8_a73c_4a0003a728c0level0_row3\" class=\"row_heading level0 row3\" >2018-37</th> \n",
       "        <td id=\"T_5f9fe4b8_ddd7_11e8_a73c_4a0003a728c0row3_col0\" class=\"data row3 col0\" >14.88</td> \n",
       "        <td id=\"T_5f9fe4b8_ddd7_11e8_a73c_4a0003a728c0row3_col1\" class=\"data row3 col1\" >-9</td> \n",
       "        <td id=\"T_5f9fe4b8_ddd7_11e8_a73c_4a0003a728c0row3_col2\" class=\"data row3 col2\" >5.88</td> \n",
       "        <td id=\"T_5f9fe4b8_ddd7_11e8_a73c_4a0003a728c0row3_col3\" class=\"data row3 col3\" >3.84</td> \n",
       "        <td id=\"T_5f9fe4b8_ddd7_11e8_a73c_4a0003a728c0row3_col4\" class=\"data row3 col4\" >65%</td> \n",
       "    </tr>    <tr> \n",
       "        <th id=\"T_5f9fe4b8_ddd7_11e8_a73c_4a0003a728c0level0_row4\" class=\"row_heading level0 row4\" >2018-38</th> \n",
       "        <td id=\"T_5f9fe4b8_ddd7_11e8_a73c_4a0003a728c0row4_col0\" class=\"data row4 col0\" >12.7</td> \n",
       "        <td id=\"T_5f9fe4b8_ddd7_11e8_a73c_4a0003a728c0row4_col1\" class=\"data row4 col1\" >-11</td> \n",
       "        <td id=\"T_5f9fe4b8_ddd7_11e8_a73c_4a0003a728c0row4_col2\" class=\"data row4 col2\" >1.7</td> \n",
       "        <td id=\"T_5f9fe4b8_ddd7_11e8_a73c_4a0003a728c0row4_col3\" class=\"data row4 col3\" >5.54</td> \n",
       "        <td id=\"T_5f9fe4b8_ddd7_11e8_a73c_4a0003a728c0row4_col4\" class=\"data row4 col4\" >15%</td> \n",
       "    </tr>    <tr> \n",
       "        <th id=\"T_5f9fe4b8_ddd7_11e8_a73c_4a0003a728c0level0_row5\" class=\"row_heading level0 row5\" >2018-39</th> \n",
       "        <td id=\"T_5f9fe4b8_ddd7_11e8_a73c_4a0003a728c0row5_col0\" class=\"data row5 col0\" >10.46</td> \n",
       "        <td id=\"T_5f9fe4b8_ddd7_11e8_a73c_4a0003a728c0row5_col1\" class=\"data row5 col1\" >-9</td> \n",
       "        <td id=\"T_5f9fe4b8_ddd7_11e8_a73c_4a0003a728c0row5_col2\" class=\"data row5 col2\" >1.46</td> \n",
       "        <td id=\"T_5f9fe4b8_ddd7_11e8_a73c_4a0003a728c0row5_col3\" class=\"data row5 col3\" >7</td> \n",
       "        <td id=\"T_5f9fe4b8_ddd7_11e8_a73c_4a0003a728c0row5_col4\" class=\"data row5 col4\" >16%</td> \n",
       "    </tr>    <tr> \n",
       "        <th id=\"T_5f9fe4b8_ddd7_11e8_a73c_4a0003a728c0level0_row6\" class=\"row_heading level0 row6\" >2018-40</th> \n",
       "        <td id=\"T_5f9fe4b8_ddd7_11e8_a73c_4a0003a728c0row6_col0\" class=\"data row6 col0\" >13.97</td> \n",
       "        <td id=\"T_5f9fe4b8_ddd7_11e8_a73c_4a0003a728c0row6_col1\" class=\"data row6 col1\" >-11</td> \n",
       "        <td id=\"T_5f9fe4b8_ddd7_11e8_a73c_4a0003a728c0row6_col2\" class=\"data row6 col2\" >2.97</td> \n",
       "        <td id=\"T_5f9fe4b8_ddd7_11e8_a73c_4a0003a728c0row6_col3\" class=\"data row6 col3\" >9.97</td> \n",
       "        <td id=\"T_5f9fe4b8_ddd7_11e8_a73c_4a0003a728c0row6_col4\" class=\"data row6 col4\" >27%</td> \n",
       "    </tr>    <tr> \n",
       "        <th id=\"T_5f9fe4b8_ddd7_11e8_a73c_4a0003a728c0level0_row7\" class=\"row_heading level0 row7\" >2018-42</th> \n",
       "        <td id=\"T_5f9fe4b8_ddd7_11e8_a73c_4a0003a728c0row7_col0\" class=\"data row7 col0\" >8.51</td> \n",
       "        <td id=\"T_5f9fe4b8_ddd7_11e8_a73c_4a0003a728c0row7_col1\" class=\"data row7 col1\" >-9</td> \n",
       "        <td id=\"T_5f9fe4b8_ddd7_11e8_a73c_4a0003a728c0row7_col2\" class=\"data row7 col2\" >-0.49</td> \n",
       "        <td id=\"T_5f9fe4b8_ddd7_11e8_a73c_4a0003a728c0row7_col3\" class=\"data row7 col3\" >9.48</td> \n",
       "        <td id=\"T_5f9fe4b8_ddd7_11e8_a73c_4a0003a728c0row7_col4\" class=\"data row7 col4\" >-5%</td> \n",
       "    </tr>    <tr> \n",
       "        <th id=\"T_5f9fe4b8_ddd7_11e8_a73c_4a0003a728c0level0_row8\" class=\"row_heading level0 row8\" >2018-43</th> \n",
       "        <td id=\"T_5f9fe4b8_ddd7_11e8_a73c_4a0003a728c0row8_col0\" class=\"data row8 col0\" >1.53</td> \n",
       "        <td id=\"T_5f9fe4b8_ddd7_11e8_a73c_4a0003a728c0row8_col1\" class=\"data row8 col1\" >-1</td> \n",
       "        <td id=\"T_5f9fe4b8_ddd7_11e8_a73c_4a0003a728c0row8_col2\" class=\"data row8 col2\" >0.53</td> \n",
       "        <td id=\"T_5f9fe4b8_ddd7_11e8_a73c_4a0003a728c0row8_col3\" class=\"data row8 col3\" >10.01</td> \n",
       "        <td id=\"T_5f9fe4b8_ddd7_11e8_a73c_4a0003a728c0row8_col4\" class=\"data row8 col4\" >53%</td> \n",
       "    </tr></tbody> \n",
       "</table> "
      ],
      "text/plain": [
       "<pandas.io.formats.style.Styler at 0x1250e80b8>"
      ]
     },
     "execution_count": 40,
     "metadata": {},
     "output_type": "execute_result"
    }
   ],
   "source": [
    "\n",
    "s = df.style.applymap(color_negative_red)\n",
    "df.style.format({\"pct_return\":\"{:.0%}\"})"
   ]
  },
  {
   "cell_type": "code",
   "execution_count": 44,
   "metadata": {
    "collapsed": false
   },
   "outputs": [
    {
     "data": {
      "text/plain": [
       "0.125125"
      ]
     },
     "execution_count": 44,
     "metadata": {},
     "output_type": "execute_result"
    }
   ],
   "source": [
    "df.weeklyprofit.mean()/(-1.0*df.stake.mean())"
   ]
  },
  {
   "cell_type": "code",
   "execution_count": 381,
   "metadata": {
    "collapsed": false
   },
   "outputs": [
    {
     "data": {
      "text/html": [
       "<div>\n",
       "<style>\n",
       "    .dataframe thead tr:only-child th {\n",
       "        text-align: right;\n",
       "    }\n",
       "\n",
       "    .dataframe thead th {\n",
       "        text-align: left;\n",
       "    }\n",
       "\n",
       "    .dataframe tbody tr th {\n",
       "        vertical-align: top;\n",
       "    }\n",
       "</style>\n",
       "<table border=\"1\" class=\"dataframe\">\n",
       "  <thead>\n",
       "    <tr style=\"text-align: right;\">\n",
       "      <th></th>\n",
       "      <th>FixtureDateAsDate</th>\n",
       "      <th>HomeTeam</th>\n",
       "      <th>AwayTeam</th>\n",
       "      <th>prediction</th>\n",
       "      <th>HomeOdds</th>\n",
       "      <th>DrawOdds</th>\n",
       "      <th>AwayOdds</th>\n",
       "      <th>HomeTeamResult</th>\n",
       "      <th>stake</th>\n",
       "      <th>applic_odds</th>\n",
       "      <th>weeklyprofit</th>\n",
       "    </tr>\n",
       "  </thead>\n",
       "  <tbody>\n",
       "    <tr>\n",
       "      <th>6240</th>\n",
       "      <td>2018-10-06</td>\n",
       "      <td>Leicester City</td>\n",
       "      <td>Everton</td>\n",
       "      <td>W</td>\n",
       "      <td>2.15</td>\n",
       "      <td>3.40</td>\n",
       "      <td>3.30</td>\n",
       "      <td>L</td>\n",
       "      <td>-1</td>\n",
       "      <td>0.00</td>\n",
       "      <td>-1.00</td>\n",
       "    </tr>\n",
       "    <tr>\n",
       "      <th>10247</th>\n",
       "      <td>2018-10-06</td>\n",
       "      <td>Manchester United</td>\n",
       "      <td>Newcastle United</td>\n",
       "      <td>W</td>\n",
       "      <td>1.44</td>\n",
       "      <td>4.20</td>\n",
       "      <td>7.50</td>\n",
       "      <td>W</td>\n",
       "      <td>-1</td>\n",
       "      <td>1.44</td>\n",
       "      <td>0.44</td>\n",
       "    </tr>\n",
       "    <tr>\n",
       "      <th>6354</th>\n",
       "      <td>2018-10-07</td>\n",
       "      <td>Liverpool</td>\n",
       "      <td>Manchester City</td>\n",
       "      <td>W</td>\n",
       "      <td>2.45</td>\n",
       "      <td>3.50</td>\n",
       "      <td>2.70</td>\n",
       "      <td>D</td>\n",
       "      <td>-1</td>\n",
       "      <td>0.00</td>\n",
       "      <td>-1.00</td>\n",
       "    </tr>\n",
       "    <tr>\n",
       "      <th>2096</th>\n",
       "      <td>2018-10-07</td>\n",
       "      <td>Fulham</td>\n",
       "      <td>Arsenal</td>\n",
       "      <td>L</td>\n",
       "      <td>4.75</td>\n",
       "      <td>4.20</td>\n",
       "      <td>1.61</td>\n",
       "      <td>L</td>\n",
       "      <td>-1</td>\n",
       "      <td>1.61</td>\n",
       "      <td>0.61</td>\n",
       "    </tr>\n",
       "    <tr>\n",
       "      <th>10479</th>\n",
       "      <td>2018-10-07</td>\n",
       "      <td>Southampton</td>\n",
       "      <td>Chelsea</td>\n",
       "      <td>L</td>\n",
       "      <td>5.50</td>\n",
       "      <td>3.90</td>\n",
       "      <td>1.60</td>\n",
       "      <td>L</td>\n",
       "      <td>-1</td>\n",
       "      <td>1.60</td>\n",
       "      <td>0.60</td>\n",
       "    </tr>\n",
       "    <tr>\n",
       "      <th>2341</th>\n",
       "      <td>2018-10-20</td>\n",
       "      <td>Wolverhampton Wanderers</td>\n",
       "      <td>Watford</td>\n",
       "      <td>W</td>\n",
       "      <td>1.72</td>\n",
       "      <td>3.50</td>\n",
       "      <td>5.00</td>\n",
       "      <td>L</td>\n",
       "      <td>-1</td>\n",
       "      <td>0.00</td>\n",
       "      <td>-1.00</td>\n",
       "    </tr>\n",
       "    <tr>\n",
       "      <th>6469</th>\n",
       "      <td>2018-10-20</td>\n",
       "      <td>Manchester City</td>\n",
       "      <td>Burnley</td>\n",
       "      <td>W</td>\n",
       "      <td>1.07</td>\n",
       "      <td>13.00</td>\n",
       "      <td>34.00</td>\n",
       "      <td>W</td>\n",
       "      <td>-1</td>\n",
       "      <td>1.07</td>\n",
       "      <td>0.07</td>\n",
       "    </tr>\n",
       "    <tr>\n",
       "      <th>6123</th>\n",
       "      <td>2018-10-20</td>\n",
       "      <td>Huddersfield Town</td>\n",
       "      <td>Liverpool</td>\n",
       "      <td>L</td>\n",
       "      <td>12.00</td>\n",
       "      <td>5.00</td>\n",
       "      <td>1.30</td>\n",
       "      <td>L</td>\n",
       "      <td>-1</td>\n",
       "      <td>1.30</td>\n",
       "      <td>0.30</td>\n",
       "    </tr>\n",
       "    <tr>\n",
       "      <th>10712</th>\n",
       "      <td>2018-10-20</td>\n",
       "      <td>West Ham United</td>\n",
       "      <td>Tottenham Hotspur</td>\n",
       "      <td>L</td>\n",
       "      <td>3.80</td>\n",
       "      <td>3.70</td>\n",
       "      <td>1.86</td>\n",
       "      <td>L</td>\n",
       "      <td>-1</td>\n",
       "      <td>1.86</td>\n",
       "      <td>0.86</td>\n",
       "    </tr>\n",
       "    <tr>\n",
       "      <th>10366</th>\n",
       "      <td>2018-10-20</td>\n",
       "      <td>Newcastle United</td>\n",
       "      <td>Brighton &amp; Hove Albion</td>\n",
       "      <td>W</td>\n",
       "      <td>2.15</td>\n",
       "      <td>3.10</td>\n",
       "      <td>3.60</td>\n",
       "      <td>L</td>\n",
       "      <td>-1</td>\n",
       "      <td>0.00</td>\n",
       "      <td>-1.00</td>\n",
       "    </tr>\n",
       "    <tr>\n",
       "      <th>9906</th>\n",
       "      <td>2018-10-20</td>\n",
       "      <td>Chelsea</td>\n",
       "      <td>Manchester United</td>\n",
       "      <td>W</td>\n",
       "      <td>1.70</td>\n",
       "      <td>3.75</td>\n",
       "      <td>4.80</td>\n",
       "      <td>D</td>\n",
       "      <td>-1</td>\n",
       "      <td>0.00</td>\n",
       "      <td>-1.00</td>\n",
       "    </tr>\n",
       "    <tr>\n",
       "      <th>5749</th>\n",
       "      <td>2018-10-20</td>\n",
       "      <td>AFC Bournemouth</td>\n",
       "      <td>Southampton</td>\n",
       "      <td>W</td>\n",
       "      <td>2.00</td>\n",
       "      <td>3.50</td>\n",
       "      <td>3.60</td>\n",
       "      <td>D</td>\n",
       "      <td>-1</td>\n",
       "      <td>0.00</td>\n",
       "      <td>-1.00</td>\n",
       "    </tr>\n",
       "    <tr>\n",
       "      <th>909</th>\n",
       "      <td>2018-10-20</td>\n",
       "      <td>Cardiff City</td>\n",
       "      <td>Fulham</td>\n",
       "      <td>W</td>\n",
       "      <td>2.45</td>\n",
       "      <td>3.30</td>\n",
       "      <td>2.80</td>\n",
       "      <td>W</td>\n",
       "      <td>-1</td>\n",
       "      <td>2.45</td>\n",
       "      <td>1.45</td>\n",
       "    </tr>\n",
       "    <tr>\n",
       "      <th>10134</th>\n",
       "      <td>2018-10-21</td>\n",
       "      <td>Everton</td>\n",
       "      <td>Crystal Palace</td>\n",
       "      <td>W</td>\n",
       "      <td>1.83</td>\n",
       "      <td>3.50</td>\n",
       "      <td>4.33</td>\n",
       "      <td>W</td>\n",
       "      <td>-1</td>\n",
       "      <td>1.83</td>\n",
       "      <td>0.83</td>\n",
       "    </tr>\n",
       "    <tr>\n",
       "      <th>5863</th>\n",
       "      <td>2018-10-22</td>\n",
       "      <td>Arsenal</td>\n",
       "      <td>Leicester City</td>\n",
       "      <td>W</td>\n",
       "      <td>1.53</td>\n",
       "      <td>4.33</td>\n",
       "      <td>5.75</td>\n",
       "      <td>W</td>\n",
       "      <td>-1</td>\n",
       "      <td>1.53</td>\n",
       "      <td>0.53</td>\n",
       "    </tr>\n",
       "  </tbody>\n",
       "</table>\n",
       "</div>"
      ],
      "text/plain": [
       "      FixtureDateAsDate                 HomeTeam                AwayTeam  \\\n",
       "6240         2018-10-06           Leicester City                 Everton   \n",
       "10247        2018-10-06        Manchester United        Newcastle United   \n",
       "6354         2018-10-07                Liverpool         Manchester City   \n",
       "2096         2018-10-07                   Fulham                 Arsenal   \n",
       "10479        2018-10-07              Southampton                 Chelsea   \n",
       "2341         2018-10-20  Wolverhampton Wanderers                 Watford   \n",
       "6469         2018-10-20          Manchester City                 Burnley   \n",
       "6123         2018-10-20        Huddersfield Town               Liverpool   \n",
       "10712        2018-10-20          West Ham United       Tottenham Hotspur   \n",
       "10366        2018-10-20         Newcastle United  Brighton & Hove Albion   \n",
       "9906         2018-10-20                  Chelsea       Manchester United   \n",
       "5749         2018-10-20          AFC Bournemouth             Southampton   \n",
       "909          2018-10-20             Cardiff City                  Fulham   \n",
       "10134        2018-10-21                  Everton          Crystal Palace   \n",
       "5863         2018-10-22                  Arsenal          Leicester City   \n",
       "\n",
       "      prediction  HomeOdds  DrawOdds  AwayOdds HomeTeamResult  stake  \\\n",
       "6240           W      2.15      3.40      3.30              L     -1   \n",
       "10247          W      1.44      4.20      7.50              W     -1   \n",
       "6354           W      2.45      3.50      2.70              D     -1   \n",
       "2096           L      4.75      4.20      1.61              L     -1   \n",
       "10479          L      5.50      3.90      1.60              L     -1   \n",
       "2341           W      1.72      3.50      5.00              L     -1   \n",
       "6469           W      1.07     13.00     34.00              W     -1   \n",
       "6123           L     12.00      5.00      1.30              L     -1   \n",
       "10712          L      3.80      3.70      1.86              L     -1   \n",
       "10366          W      2.15      3.10      3.60              L     -1   \n",
       "9906           W      1.70      3.75      4.80              D     -1   \n",
       "5749           W      2.00      3.50      3.60              D     -1   \n",
       "909            W      2.45      3.30      2.80              W     -1   \n",
       "10134          W      1.83      3.50      4.33              W     -1   \n",
       "5863           W      1.53      4.33      5.75              W     -1   \n",
       "\n",
       "       applic_odds  weeklyprofit  \n",
       "6240          0.00         -1.00  \n",
       "10247         1.44          0.44  \n",
       "6354          0.00         -1.00  \n",
       "2096          1.61          0.61  \n",
       "10479         1.60          0.60  \n",
       "2341          0.00         -1.00  \n",
       "6469          1.07          0.07  \n",
       "6123          1.30          0.30  \n",
       "10712         1.86          0.86  \n",
       "10366         0.00         -1.00  \n",
       "9906          0.00         -1.00  \n",
       "5749          0.00         -1.00  \n",
       "909           2.45          1.45  \n",
       "10134         1.83          0.83  \n",
       "5863          1.53          0.53  "
      ]
     },
     "execution_count": 381,
     "metadata": {},
     "output_type": "execute_result"
    }
   ],
   "source": [
    "fix_pred.df[disp_cols].tail(15)"
   ]
  },
  {
   "cell_type": "code",
   "execution_count": null,
   "metadata": {
    "collapsed": true
   },
   "outputs": [],
   "source": [
    "#extra stuff"
   ]
  },
  {
   "cell_type": "code",
   "execution_count": 282,
   "metadata": {
    "collapsed": false
   },
   "outputs": [
    {
     "data": {
      "text/plain": [
       "HomeOdds    2.470499\n",
       "DrawOdds    3.528682\n",
       "AwayOdds    3.713422\n",
       "dtype: float64"
      ]
     },
     "execution_count": 282,
     "metadata": {},
     "output_type": "execute_result"
    }
   ],
   "source": [
    "oddslist=['HomeOdds','DrawOdds', 'AwayOdds']\n",
    "fix.df[oddslist].mean()"
   ]
  },
  {
   "cell_type": "code",
   "execution_count": 114,
   "metadata": {
    "collapsed": false
   },
   "outputs": [
    {
     "data": {
      "text/html": [
       "<div>\n",
       "<style>\n",
       "    .dataframe thead tr:only-child th {\n",
       "        text-align: right;\n",
       "    }\n",
       "\n",
       "    .dataframe thead th {\n",
       "        text-align: left;\n",
       "    }\n",
       "\n",
       "    .dataframe tbody tr th {\n",
       "        vertical-align: top;\n",
       "    }\n",
       "</style>\n",
       "<table border=\"1\" class=\"dataframe\">\n",
       "  <thead>\n",
       "    <tr style=\"text-align: right;\">\n",
       "      <th></th>\n",
       "      <th>fixdate</th>\n",
       "      <th>HomeOdds</th>\n",
       "      <th>DrawOdds</th>\n",
       "      <th>AwayOdds</th>\n",
       "      <th>Result</th>\n",
       "      <th>prediction</th>\n",
       "      <th>min_odds</th>\n",
       "      <th>stake</th>\n",
       "      <th>payoff</th>\n",
       "    </tr>\n",
       "  </thead>\n",
       "  <tbody>\n",
       "    <tr>\n",
       "      <th>0</th>\n",
       "      <td>2018-01-01</td>\n",
       "      <td>1.538369</td>\n",
       "      <td>2.366103</td>\n",
       "      <td>2.297300</td>\n",
       "      <td>L</td>\n",
       "      <td>W</td>\n",
       "      <td>1.538369</td>\n",
       "      <td>-1</td>\n",
       "      <td>0.000000</td>\n",
       "    </tr>\n",
       "    <tr>\n",
       "      <th>1</th>\n",
       "      <td>2018-01-02</td>\n",
       "      <td>1.593540</td>\n",
       "      <td>4.062548</td>\n",
       "      <td>2.403764</td>\n",
       "      <td>L</td>\n",
       "      <td>W</td>\n",
       "      <td>1.593540</td>\n",
       "      <td>-1</td>\n",
       "      <td>0.000000</td>\n",
       "    </tr>\n",
       "    <tr>\n",
       "      <th>2</th>\n",
       "      <td>2018-01-03</td>\n",
       "      <td>1.989621</td>\n",
       "      <td>3.613715</td>\n",
       "      <td>2.228707</td>\n",
       "      <td>W</td>\n",
       "      <td>W</td>\n",
       "      <td>1.989621</td>\n",
       "      <td>-1</td>\n",
       "      <td>1.989621</td>\n",
       "    </tr>\n",
       "    <tr>\n",
       "      <th>3</th>\n",
       "      <td>2018-01-04</td>\n",
       "      <td>1.475949</td>\n",
       "      <td>2.623604</td>\n",
       "      <td>3.107861</td>\n",
       "      <td>L</td>\n",
       "      <td>W</td>\n",
       "      <td>1.475949</td>\n",
       "      <td>-1</td>\n",
       "      <td>0.000000</td>\n",
       "    </tr>\n",
       "    <tr>\n",
       "      <th>4</th>\n",
       "      <td>2018-01-05</td>\n",
       "      <td>1.786615</td>\n",
       "      <td>2.139673</td>\n",
       "      <td>2.420279</td>\n",
       "      <td>D</td>\n",
       "      <td>W</td>\n",
       "      <td>1.786615</td>\n",
       "      <td>-1</td>\n",
       "      <td>0.000000</td>\n",
       "    </tr>\n",
       "    <tr>\n",
       "      <th>5</th>\n",
       "      <td>2018-01-06</td>\n",
       "      <td>1.858807</td>\n",
       "      <td>3.493159</td>\n",
       "      <td>2.403025</td>\n",
       "      <td>D</td>\n",
       "      <td>W</td>\n",
       "      <td>1.858807</td>\n",
       "      <td>-1</td>\n",
       "      <td>0.000000</td>\n",
       "    </tr>\n",
       "    <tr>\n",
       "      <th>6</th>\n",
       "      <td>2018-01-07</td>\n",
       "      <td>1.616708</td>\n",
       "      <td>2.846147</td>\n",
       "      <td>4.231335</td>\n",
       "      <td>W</td>\n",
       "      <td>W</td>\n",
       "      <td>1.616708</td>\n",
       "      <td>-1</td>\n",
       "      <td>1.616708</td>\n",
       "    </tr>\n",
       "    <tr>\n",
       "      <th>7</th>\n",
       "      <td>2018-01-08</td>\n",
       "      <td>1.522520</td>\n",
       "      <td>2.848603</td>\n",
       "      <td>2.365399</td>\n",
       "      <td>W</td>\n",
       "      <td>W</td>\n",
       "      <td>1.522520</td>\n",
       "      <td>-1</td>\n",
       "      <td>1.522520</td>\n",
       "    </tr>\n",
       "    <tr>\n",
       "      <th>8</th>\n",
       "      <td>2018-01-09</td>\n",
       "      <td>1.735599</td>\n",
       "      <td>3.015244</td>\n",
       "      <td>1.713221</td>\n",
       "      <td>L</td>\n",
       "      <td>L</td>\n",
       "      <td>1.713221</td>\n",
       "      <td>-1</td>\n",
       "      <td>1.713221</td>\n",
       "    </tr>\n",
       "    <tr>\n",
       "      <th>9</th>\n",
       "      <td>2018-01-10</td>\n",
       "      <td>2.092888</td>\n",
       "      <td>3.722471</td>\n",
       "      <td>1.076603</td>\n",
       "      <td>L</td>\n",
       "      <td>L</td>\n",
       "      <td>1.076603</td>\n",
       "      <td>-1</td>\n",
       "      <td>1.076603</td>\n",
       "    </tr>\n",
       "  </tbody>\n",
       "</table>\n",
       "</div>"
      ],
      "text/plain": [
       "     fixdate  HomeOdds  DrawOdds  AwayOdds Result prediction  min_odds  stake  \\\n",
       "0 2018-01-01  1.538369  2.366103  2.297300      L          W  1.538369     -1   \n",
       "1 2018-01-02  1.593540  4.062548  2.403764      L          W  1.593540     -1   \n",
       "2 2018-01-03  1.989621  3.613715  2.228707      W          W  1.989621     -1   \n",
       "3 2018-01-04  1.475949  2.623604  3.107861      L          W  1.475949     -1   \n",
       "4 2018-01-05  1.786615  2.139673  2.420279      D          W  1.786615     -1   \n",
       "5 2018-01-06  1.858807  3.493159  2.403025      D          W  1.858807     -1   \n",
       "6 2018-01-07  1.616708  2.846147  4.231335      W          W  1.616708     -1   \n",
       "7 2018-01-08  1.522520  2.848603  2.365399      W          W  1.522520     -1   \n",
       "8 2018-01-09  1.735599  3.015244  1.713221      L          L  1.713221     -1   \n",
       "9 2018-01-10  2.092888  3.722471  1.076603      L          L  1.076603     -1   \n",
       "\n",
       "     payoff  \n",
       "0  0.000000  \n",
       "1  0.000000  \n",
       "2  1.989621  \n",
       "3  0.000000  \n",
       "4  0.000000  \n",
       "5  0.000000  \n",
       "6  1.616708  \n",
       "7  1.522520  \n",
       "8  1.713221  \n",
       "9  1.076603  "
      ]
     },
     "execution_count": 114,
     "metadata": {},
     "output_type": "execute_result"
    }
   ],
   "source": [
    "size=400\n",
    "df2=pd.DataFrame()\n",
    "df2['fixdate']=pd.date_range(start='1/1/2018', periods=size)\n",
    "df2['HomeOdds']=np.random.normal(1.8, 0.3,size=size)\n",
    "df2['DrawOdds']=np.random.normal(3.1, 0.6,size=size)\n",
    "df2['AwayOdds']=np.random.normal(2.2, 0.8,size=size)\n",
    "df2['Result']=np.random.choice(['W','D','L'], size)\n",
    "df2['prediction']=df2[oddslist].idxmin(axis=1).map({'HomeOdds':'W', 'DrawOdds':'D', 'AwayOdds':'L'})\n",
    "\n",
    "df2['min_odds']=df2[oddslist].min(axis=1)\n",
    "df2['stake']=-1\n",
    "df2['payoff'] = np.where(df2['Result']==df2['prediction'],df2['min_odds'] , 0)\n",
    "df2.head(10)"
   ]
  },
  {
   "cell_type": "code",
   "execution_count": 310,
   "metadata": {
    "collapsed": true
   },
   "outputs": [],
   "source": [
    "from sklearn.base import BaseEstimator, ClassifierMixin\n",
    "\n",
    "class MeanClassifier(BaseEstimator, ClassifierMixin):  \n",
    "    \"\"\"An example of classifier\"\"\"\n",
    "\n",
    "    def __init__(self, intValue=0, stringParam=\"defaultValue\", otherParam=None):\n",
    "        \"\"\"\n",
    "        Called when initializing the classifier\n",
    "        \"\"\"\n",
    "        self.intValue = intValue\n",
    "        self.stringParam = stringParam\n",
    "\n",
    "        # THIS IS WRONG! Parameters should have same name as attributes\n",
    "        self.differentParam = otherParam \n",
    "\n",
    "\n",
    "    def fit(self, X, y=None):\n",
    "        \"\"\"\n",
    "        This should fit classifier. All the \"work\" should be done here.\n",
    "\n",
    "        Note: assert is not a good choice here and you should rather\n",
    "        use try/except blog with exceptions. This is just for short syntax.\n",
    "        \"\"\"\n",
    "\n",
    "        assert (type(self.intValue) == int), \"intValue parameter must be integer\"\n",
    "        assert (type(self.stringParam) == str), \"stringValue parameter must be string\"\n",
    "        assert (len(X) == 20), \"X must be list with numerical values.\"\n",
    "\n",
    "        self.treshold_ = (sum(X)/len(X)) + self.intValue  # mean + intValue\n",
    "\n",
    "        return self\n",
    "\n",
    "    def _meaning(self, x):\n",
    "        # returns True/False according to fitted classifier\n",
    "        # notice underscore on the beginning\n",
    "        return( True if x >= self.treshold_ else False )\n",
    "\n",
    "    def predict(self, X, y=None):\n",
    "        try:\n",
    "            getattr(self, \"treshold_\")\n",
    "        except AttributeError:\n",
    "            raise RuntimeError(\"You must train classifer before predicting data!\")\n",
    "\n",
    "        return([self._meaning(x) for x in X])\n",
    "\n",
    "    def score(self, X, y=None):\n",
    "        # counts number of values bigger than mean\n",
    "        return(sum(self.predict(X))) "
   ]
  },
  {
   "cell_type": "code",
   "execution_count": 316,
   "metadata": {
    "collapsed": false
   },
   "outputs": [
    {
     "data": {
      "text/plain": [
       "MeanClassifier(intValue=0, otherParam=None, stringParam='defaultValue')"
      ]
     },
     "execution_count": 316,
     "metadata": {},
     "output_type": "execute_result"
    }
   ],
   "source": [
    "mc=MeanClassifier()\n",
    "mc.fit(X_train,y=[1 for i in range(21)] )"
   ]
  },
  {
   "cell_type": "code",
   "execution_count": 317,
   "metadata": {
    "collapsed": false
   },
   "outputs": [
    {
     "data": {
      "text/plain": [
       "[False]"
      ]
     },
     "execution_count": 317,
     "metadata": {},
     "output_type": "execute_result"
    }
   ],
   "source": [
    "mc.predict([8])"
   ]
  },
  {
   "cell_type": "code",
   "execution_count": 311,
   "metadata": {
    "collapsed": false
   },
   "outputs": [
    {
     "ename": "AssertionError",
     "evalue": "X must be list with numerical values.",
     "output_type": "error",
     "traceback": [
      "\u001b[0;31m---------------------------------------------------------------------------\u001b[0m",
      "\u001b[0;31mAssertionError\u001b[0m                            Traceback (most recent call last)",
      "\u001b[0;32m<ipython-input-311-a18aedf931d8>\u001b[0m in \u001b[0;36m<module>\u001b[0;34m()\u001b[0m\n\u001b[1;32m      9\u001b[0m \u001b[0;31m# for some reason I have to pass y with same shape\u001b[0m\u001b[0;34m\u001b[0m\u001b[0;34m\u001b[0m\u001b[0m\n\u001b[1;32m     10\u001b[0m \u001b[0;31m# otherwise gridsearch throws an error. Not sure why.\u001b[0m\u001b[0;34m\u001b[0m\u001b[0;34m\u001b[0m\u001b[0m\n\u001b[0;32m---> 11\u001b[0;31m \u001b[0mgs\u001b[0m\u001b[0;34m.\u001b[0m\u001b[0mfit\u001b[0m\u001b[0;34m(\u001b[0m\u001b[0mX_test\u001b[0m\u001b[0;34m,\u001b[0m \u001b[0my\u001b[0m\u001b[0;34m=\u001b[0m\u001b[0;34m[\u001b[0m\u001b[0;36m1\u001b[0m \u001b[0;32mfor\u001b[0m \u001b[0mi\u001b[0m \u001b[0;32min\u001b[0m \u001b[0mrange\u001b[0m\u001b[0;34m(\u001b[0m\u001b[0;36m20\u001b[0m\u001b[0;34m)\u001b[0m\u001b[0;34m]\u001b[0m\u001b[0;34m)\u001b[0m\u001b[0;34m\u001b[0m\u001b[0m\n\u001b[0m\u001b[1;32m     12\u001b[0m \u001b[0;34m\u001b[0m\u001b[0m\n\u001b[1;32m     13\u001b[0m \u001b[0mgs\u001b[0m\u001b[0;34m.\u001b[0m\u001b[0mbest_params_\u001b[0m \u001b[0;31m# {'intValue': -10} # and that is what we expect :)\u001b[0m\u001b[0;34m\u001b[0m\u001b[0m\n",
      "\u001b[0;32m/Library/Frameworks/Python.framework/Versions/3.5/lib/python3.5/site-packages/sklearn/grid_search.py\u001b[0m in \u001b[0;36mfit\u001b[0;34m(self, X, y)\u001b[0m\n\u001b[1;32m    802\u001b[0m \u001b[0;34m\u001b[0m\u001b[0m\n\u001b[1;32m    803\u001b[0m         \"\"\"\n\u001b[0;32m--> 804\u001b[0;31m         \u001b[0;32mreturn\u001b[0m \u001b[0mself\u001b[0m\u001b[0;34m.\u001b[0m\u001b[0m_fit\u001b[0m\u001b[0;34m(\u001b[0m\u001b[0mX\u001b[0m\u001b[0;34m,\u001b[0m \u001b[0my\u001b[0m\u001b[0;34m,\u001b[0m \u001b[0mParameterGrid\u001b[0m\u001b[0;34m(\u001b[0m\u001b[0mself\u001b[0m\u001b[0;34m.\u001b[0m\u001b[0mparam_grid\u001b[0m\u001b[0;34m)\u001b[0m\u001b[0;34m)\u001b[0m\u001b[0;34m\u001b[0m\u001b[0m\n\u001b[0m\u001b[1;32m    805\u001b[0m \u001b[0;34m\u001b[0m\u001b[0m\n\u001b[1;32m    806\u001b[0m \u001b[0;34m\u001b[0m\u001b[0m\n",
      "\u001b[0;32m/Library/Frameworks/Python.framework/Versions/3.5/lib/python3.5/site-packages/sklearn/grid_search.py\u001b[0m in \u001b[0;36m_fit\u001b[0;34m(self, X, y, parameter_iterable)\u001b[0m\n\u001b[1;32m    551\u001b[0m                                     \u001b[0mself\u001b[0m\u001b[0;34m.\u001b[0m\u001b[0mfit_params\u001b[0m\u001b[0;34m,\u001b[0m \u001b[0mreturn_parameters\u001b[0m\u001b[0;34m=\u001b[0m\u001b[0;32mTrue\u001b[0m\u001b[0;34m,\u001b[0m\u001b[0;34m\u001b[0m\u001b[0m\n\u001b[1;32m    552\u001b[0m                                     error_score=self.error_score)\n\u001b[0;32m--> 553\u001b[0;31m                 \u001b[0;32mfor\u001b[0m \u001b[0mparameters\u001b[0m \u001b[0;32min\u001b[0m \u001b[0mparameter_iterable\u001b[0m\u001b[0;34m\u001b[0m\u001b[0m\n\u001b[0m\u001b[1;32m    554\u001b[0m                 for train, test in cv)\n\u001b[1;32m    555\u001b[0m \u001b[0;34m\u001b[0m\u001b[0m\n",
      "\u001b[0;32m/Library/Frameworks/Python.framework/Versions/3.5/lib/python3.5/site-packages/sklearn/externals/joblib/parallel.py\u001b[0m in \u001b[0;36m__call__\u001b[0;34m(self, iterable)\u001b[0m\n\u001b[1;32m    798\u001b[0m             \u001b[0;31m# was dispatched. In particular this covers the edge\u001b[0m\u001b[0;34m\u001b[0m\u001b[0;34m\u001b[0m\u001b[0m\n\u001b[1;32m    799\u001b[0m             \u001b[0;31m# case of Parallel used with an exhausted iterator.\u001b[0m\u001b[0;34m\u001b[0m\u001b[0;34m\u001b[0m\u001b[0m\n\u001b[0;32m--> 800\u001b[0;31m             \u001b[0;32mwhile\u001b[0m \u001b[0mself\u001b[0m\u001b[0;34m.\u001b[0m\u001b[0mdispatch_one_batch\u001b[0m\u001b[0;34m(\u001b[0m\u001b[0miterator\u001b[0m\u001b[0;34m)\u001b[0m\u001b[0;34m:\u001b[0m\u001b[0;34m\u001b[0m\u001b[0m\n\u001b[0m\u001b[1;32m    801\u001b[0m                 \u001b[0mself\u001b[0m\u001b[0;34m.\u001b[0m\u001b[0m_iterating\u001b[0m \u001b[0;34m=\u001b[0m \u001b[0;32mTrue\u001b[0m\u001b[0;34m\u001b[0m\u001b[0m\n\u001b[1;32m    802\u001b[0m             \u001b[0;32melse\u001b[0m\u001b[0;34m:\u001b[0m\u001b[0;34m\u001b[0m\u001b[0m\n",
      "\u001b[0;32m/Library/Frameworks/Python.framework/Versions/3.5/lib/python3.5/site-packages/sklearn/externals/joblib/parallel.py\u001b[0m in \u001b[0;36mdispatch_one_batch\u001b[0;34m(self, iterator)\u001b[0m\n\u001b[1;32m    656\u001b[0m                 \u001b[0;32mreturn\u001b[0m \u001b[0;32mFalse\u001b[0m\u001b[0;34m\u001b[0m\u001b[0m\n\u001b[1;32m    657\u001b[0m             \u001b[0;32melse\u001b[0m\u001b[0;34m:\u001b[0m\u001b[0;34m\u001b[0m\u001b[0m\n\u001b[0;32m--> 658\u001b[0;31m                 \u001b[0mself\u001b[0m\u001b[0;34m.\u001b[0m\u001b[0m_dispatch\u001b[0m\u001b[0;34m(\u001b[0m\u001b[0mtasks\u001b[0m\u001b[0;34m)\u001b[0m\u001b[0;34m\u001b[0m\u001b[0m\n\u001b[0m\u001b[1;32m    659\u001b[0m                 \u001b[0;32mreturn\u001b[0m \u001b[0;32mTrue\u001b[0m\u001b[0;34m\u001b[0m\u001b[0m\n\u001b[1;32m    660\u001b[0m \u001b[0;34m\u001b[0m\u001b[0m\n",
      "\u001b[0;32m/Library/Frameworks/Python.framework/Versions/3.5/lib/python3.5/site-packages/sklearn/externals/joblib/parallel.py\u001b[0m in \u001b[0;36m_dispatch\u001b[0;34m(self, batch)\u001b[0m\n\u001b[1;32m    564\u001b[0m \u001b[0;34m\u001b[0m\u001b[0m\n\u001b[1;32m    565\u001b[0m         \u001b[0;32mif\u001b[0m \u001b[0mself\u001b[0m\u001b[0;34m.\u001b[0m\u001b[0m_pool\u001b[0m \u001b[0;32mis\u001b[0m \u001b[0;32mNone\u001b[0m\u001b[0;34m:\u001b[0m\u001b[0;34m\u001b[0m\u001b[0m\n\u001b[0;32m--> 566\u001b[0;31m             \u001b[0mjob\u001b[0m \u001b[0;34m=\u001b[0m \u001b[0mImmediateComputeBatch\u001b[0m\u001b[0;34m(\u001b[0m\u001b[0mbatch\u001b[0m\u001b[0;34m)\u001b[0m\u001b[0;34m\u001b[0m\u001b[0m\n\u001b[0m\u001b[1;32m    567\u001b[0m             \u001b[0mself\u001b[0m\u001b[0;34m.\u001b[0m\u001b[0m_jobs\u001b[0m\u001b[0;34m.\u001b[0m\u001b[0mappend\u001b[0m\u001b[0;34m(\u001b[0m\u001b[0mjob\u001b[0m\u001b[0;34m)\u001b[0m\u001b[0;34m\u001b[0m\u001b[0m\n\u001b[1;32m    568\u001b[0m             \u001b[0mself\u001b[0m\u001b[0;34m.\u001b[0m\u001b[0mn_dispatched_batches\u001b[0m \u001b[0;34m+=\u001b[0m \u001b[0;36m1\u001b[0m\u001b[0;34m\u001b[0m\u001b[0m\n",
      "\u001b[0;32m/Library/Frameworks/Python.framework/Versions/3.5/lib/python3.5/site-packages/sklearn/externals/joblib/parallel.py\u001b[0m in \u001b[0;36m__init__\u001b[0;34m(self, batch)\u001b[0m\n\u001b[1;32m    178\u001b[0m         \u001b[0;31m# Don't delay the application, to avoid keeping the input\u001b[0m\u001b[0;34m\u001b[0m\u001b[0;34m\u001b[0m\u001b[0m\n\u001b[1;32m    179\u001b[0m         \u001b[0;31m# arguments in memory\u001b[0m\u001b[0;34m\u001b[0m\u001b[0;34m\u001b[0m\u001b[0m\n\u001b[0;32m--> 180\u001b[0;31m         \u001b[0mself\u001b[0m\u001b[0;34m.\u001b[0m\u001b[0mresults\u001b[0m \u001b[0;34m=\u001b[0m \u001b[0mbatch\u001b[0m\u001b[0;34m(\u001b[0m\u001b[0;34m)\u001b[0m\u001b[0;34m\u001b[0m\u001b[0m\n\u001b[0m\u001b[1;32m    181\u001b[0m \u001b[0;34m\u001b[0m\u001b[0m\n\u001b[1;32m    182\u001b[0m     \u001b[0;32mdef\u001b[0m \u001b[0mget\u001b[0m\u001b[0;34m(\u001b[0m\u001b[0mself\u001b[0m\u001b[0;34m)\u001b[0m\u001b[0;34m:\u001b[0m\u001b[0;34m\u001b[0m\u001b[0m\n",
      "\u001b[0;32m/Library/Frameworks/Python.framework/Versions/3.5/lib/python3.5/site-packages/sklearn/externals/joblib/parallel.py\u001b[0m in \u001b[0;36m__call__\u001b[0;34m(self)\u001b[0m\n\u001b[1;32m     70\u001b[0m \u001b[0;34m\u001b[0m\u001b[0m\n\u001b[1;32m     71\u001b[0m     \u001b[0;32mdef\u001b[0m \u001b[0m__call__\u001b[0m\u001b[0;34m(\u001b[0m\u001b[0mself\u001b[0m\u001b[0;34m)\u001b[0m\u001b[0;34m:\u001b[0m\u001b[0;34m\u001b[0m\u001b[0m\n\u001b[0;32m---> 72\u001b[0;31m         \u001b[0;32mreturn\u001b[0m \u001b[0;34m[\u001b[0m\u001b[0mfunc\u001b[0m\u001b[0;34m(\u001b[0m\u001b[0;34m*\u001b[0m\u001b[0margs\u001b[0m\u001b[0;34m,\u001b[0m \u001b[0;34m**\u001b[0m\u001b[0mkwargs\u001b[0m\u001b[0;34m)\u001b[0m \u001b[0;32mfor\u001b[0m \u001b[0mfunc\u001b[0m\u001b[0;34m,\u001b[0m \u001b[0margs\u001b[0m\u001b[0;34m,\u001b[0m \u001b[0mkwargs\u001b[0m \u001b[0;32min\u001b[0m \u001b[0mself\u001b[0m\u001b[0;34m.\u001b[0m\u001b[0mitems\u001b[0m\u001b[0;34m]\u001b[0m\u001b[0;34m\u001b[0m\u001b[0m\n\u001b[0m\u001b[1;32m     73\u001b[0m \u001b[0;34m\u001b[0m\u001b[0m\n\u001b[1;32m     74\u001b[0m     \u001b[0;32mdef\u001b[0m \u001b[0m__len__\u001b[0m\u001b[0;34m(\u001b[0m\u001b[0mself\u001b[0m\u001b[0;34m)\u001b[0m\u001b[0;34m:\u001b[0m\u001b[0;34m\u001b[0m\u001b[0m\n",
      "\u001b[0;32m/Library/Frameworks/Python.framework/Versions/3.5/lib/python3.5/site-packages/sklearn/externals/joblib/parallel.py\u001b[0m in \u001b[0;36m<listcomp>\u001b[0;34m(.0)\u001b[0m\n\u001b[1;32m     70\u001b[0m \u001b[0;34m\u001b[0m\u001b[0m\n\u001b[1;32m     71\u001b[0m     \u001b[0;32mdef\u001b[0m \u001b[0m__call__\u001b[0m\u001b[0;34m(\u001b[0m\u001b[0mself\u001b[0m\u001b[0;34m)\u001b[0m\u001b[0;34m:\u001b[0m\u001b[0;34m\u001b[0m\u001b[0m\n\u001b[0;32m---> 72\u001b[0;31m         \u001b[0;32mreturn\u001b[0m \u001b[0;34m[\u001b[0m\u001b[0mfunc\u001b[0m\u001b[0;34m(\u001b[0m\u001b[0;34m*\u001b[0m\u001b[0margs\u001b[0m\u001b[0;34m,\u001b[0m \u001b[0;34m**\u001b[0m\u001b[0mkwargs\u001b[0m\u001b[0;34m)\u001b[0m \u001b[0;32mfor\u001b[0m \u001b[0mfunc\u001b[0m\u001b[0;34m,\u001b[0m \u001b[0margs\u001b[0m\u001b[0;34m,\u001b[0m \u001b[0mkwargs\u001b[0m \u001b[0;32min\u001b[0m \u001b[0mself\u001b[0m\u001b[0;34m.\u001b[0m\u001b[0mitems\u001b[0m\u001b[0;34m]\u001b[0m\u001b[0;34m\u001b[0m\u001b[0m\n\u001b[0m\u001b[1;32m     73\u001b[0m \u001b[0;34m\u001b[0m\u001b[0m\n\u001b[1;32m     74\u001b[0m     \u001b[0;32mdef\u001b[0m \u001b[0m__len__\u001b[0m\u001b[0;34m(\u001b[0m\u001b[0mself\u001b[0m\u001b[0;34m)\u001b[0m\u001b[0;34m:\u001b[0m\u001b[0;34m\u001b[0m\u001b[0m\n",
      "\u001b[0;32m/Library/Frameworks/Python.framework/Versions/3.5/lib/python3.5/site-packages/sklearn/cross_validation.py\u001b[0m in \u001b[0;36m_fit_and_score\u001b[0;34m(estimator, X, y, scorer, train, test, verbose, parameters, fit_params, return_train_score, return_parameters, error_score)\u001b[0m\n\u001b[1;32m   1529\u001b[0m             \u001b[0mestimator\u001b[0m\u001b[0;34m.\u001b[0m\u001b[0mfit\u001b[0m\u001b[0;34m(\u001b[0m\u001b[0mX_train\u001b[0m\u001b[0;34m,\u001b[0m \u001b[0;34m**\u001b[0m\u001b[0mfit_params\u001b[0m\u001b[0;34m)\u001b[0m\u001b[0;34m\u001b[0m\u001b[0m\n\u001b[1;32m   1530\u001b[0m         \u001b[0;32melse\u001b[0m\u001b[0;34m:\u001b[0m\u001b[0;34m\u001b[0m\u001b[0m\n\u001b[0;32m-> 1531\u001b[0;31m             \u001b[0mestimator\u001b[0m\u001b[0;34m.\u001b[0m\u001b[0mfit\u001b[0m\u001b[0;34m(\u001b[0m\u001b[0mX_train\u001b[0m\u001b[0;34m,\u001b[0m \u001b[0my_train\u001b[0m\u001b[0;34m,\u001b[0m \u001b[0;34m**\u001b[0m\u001b[0mfit_params\u001b[0m\u001b[0;34m)\u001b[0m\u001b[0;34m\u001b[0m\u001b[0m\n\u001b[0m\u001b[1;32m   1532\u001b[0m \u001b[0;34m\u001b[0m\u001b[0m\n\u001b[1;32m   1533\u001b[0m     \u001b[0;32mexcept\u001b[0m \u001b[0mException\u001b[0m \u001b[0;32mas\u001b[0m \u001b[0me\u001b[0m\u001b[0;34m:\u001b[0m\u001b[0;34m\u001b[0m\u001b[0m\n",
      "\u001b[0;32m<ipython-input-310-8c5b43e3ff9d>\u001b[0m in \u001b[0;36mfit\u001b[0;34m(self, X, y)\u001b[0m\n\u001b[1;32m     25\u001b[0m         \u001b[0;32massert\u001b[0m \u001b[0;34m(\u001b[0m\u001b[0mtype\u001b[0m\u001b[0;34m(\u001b[0m\u001b[0mself\u001b[0m\u001b[0;34m.\u001b[0m\u001b[0mintValue\u001b[0m\u001b[0;34m)\u001b[0m \u001b[0;34m==\u001b[0m \u001b[0mint\u001b[0m\u001b[0;34m)\u001b[0m\u001b[0;34m,\u001b[0m \u001b[0;34m\"intValue parameter must be integer\"\u001b[0m\u001b[0;34m\u001b[0m\u001b[0m\n\u001b[1;32m     26\u001b[0m         \u001b[0;32massert\u001b[0m \u001b[0;34m(\u001b[0m\u001b[0mtype\u001b[0m\u001b[0;34m(\u001b[0m\u001b[0mself\u001b[0m\u001b[0;34m.\u001b[0m\u001b[0mstringParam\u001b[0m\u001b[0;34m)\u001b[0m \u001b[0;34m==\u001b[0m \u001b[0mstr\u001b[0m\u001b[0;34m)\u001b[0m\u001b[0;34m,\u001b[0m \u001b[0;34m\"stringValue parameter must be string\"\u001b[0m\u001b[0;34m\u001b[0m\u001b[0m\n\u001b[0;32m---> 27\u001b[0;31m         \u001b[0;32massert\u001b[0m \u001b[0;34m(\u001b[0m\u001b[0mlen\u001b[0m\u001b[0;34m(\u001b[0m\u001b[0mX\u001b[0m\u001b[0;34m)\u001b[0m \u001b[0;34m==\u001b[0m \u001b[0;36m20\u001b[0m\u001b[0;34m)\u001b[0m\u001b[0;34m,\u001b[0m \u001b[0;34m\"X must be list with numerical values.\"\u001b[0m\u001b[0;34m\u001b[0m\u001b[0m\n\u001b[0m\u001b[1;32m     28\u001b[0m \u001b[0;34m\u001b[0m\u001b[0m\n\u001b[1;32m     29\u001b[0m         \u001b[0mself\u001b[0m\u001b[0;34m.\u001b[0m\u001b[0mtreshold_\u001b[0m \u001b[0;34m=\u001b[0m \u001b[0;34m(\u001b[0m\u001b[0msum\u001b[0m\u001b[0;34m(\u001b[0m\u001b[0mX\u001b[0m\u001b[0;34m)\u001b[0m\u001b[0;34m/\u001b[0m\u001b[0mlen\u001b[0m\u001b[0;34m(\u001b[0m\u001b[0mX\u001b[0m\u001b[0;34m)\u001b[0m\u001b[0;34m)\u001b[0m \u001b[0;34m+\u001b[0m \u001b[0mself\u001b[0m\u001b[0;34m.\u001b[0m\u001b[0mintValue\u001b[0m  \u001b[0;31m# mean + intValue\u001b[0m\u001b[0;34m\u001b[0m\u001b[0m\n",
      "\u001b[0;31mAssertionError\u001b[0m: X must be list with numerical values."
     ]
    }
   ],
   "source": [
    "from sklearn.grid_search import GridSearchCV\n",
    "\n",
    "X_train = [i for i in range(0, 100, 5)]  \n",
    "X_test = [i + 3 for i in range(-5, 95, 5)]  \n",
    "tuned_params = {\"intValue\" : [-10,-1,0,1,10]}\n",
    "\n",
    "gs = GridSearchCV(MeanClassifier(), tuned_params)\n",
    "\n",
    "# for some reason I have to pass y with same shape\n",
    "# otherwise gridsearch throws an error. Not sure why.\n",
    "gs.fit(X_test, y=[1 for i in range(20)])\n",
    "\n",
    "gs.best_params_ # {'intValue': -10} # and that is what we expect :)  "
   ]
  },
  {
   "cell_type": "code",
   "execution_count": 397,
   "metadata": {
    "collapsed": false
   },
   "outputs": [
    {
     "data": {
      "text/plain": [
       "<FixturesOdds.FixturesOdds at 0x11224fa20>"
      ]
     },
     "execution_count": 397,
     "metadata": {},
     "output_type": "execute_result"
    }
   ],
   "source": [
    "fix_pred=FixturesOdds()\n",
    "fix_pred.fix_load('vwCSV_3','vwCSV_3.csv', False) # no reresh\n",
    "#fix_pred.do_calcs()\n",
    "#fix_pred.clean_predict()"
   ]
  },
  {
   "cell_type": "code",
   "execution_count": 404,
   "metadata": {
    "collapsed": false
   },
   "outputs": [
    {
     "ename": "KeyError",
     "evalue": "\"['prediction' 'stake' 'applic_odds' 'weeklyprofit'] not in index\"",
     "output_type": "error",
     "traceback": [
      "\u001b[0;31m---------------------------------------------------------------------------\u001b[0m",
      "\u001b[0;31mKeyError\u001b[0m                                  Traceback (most recent call last)",
      "\u001b[0;32m<ipython-input-404-282a15253339>\u001b[0m in \u001b[0;36m<module>\u001b[0;34m()\u001b[0m\n\u001b[0;32m----> 1\u001b[0;31m \u001b[0mfix_pred\u001b[0m\u001b[0;34m.\u001b[0m\u001b[0mfilter_by_col\u001b[0m\u001b[0;34m(\u001b[0m\u001b[0;34m'HomeTeamID'\u001b[0m\u001b[0;34m,\u001b[0m \u001b[0;36m75\u001b[0m\u001b[0;34m)\u001b[0m\u001b[0;34m.\u001b[0m\u001b[0mfilter_by_col\u001b[0m\u001b[0;34m(\u001b[0m\u001b[0;34m'season'\u001b[0m\u001b[0;34m,\u001b[0m\u001b[0;36m2018\u001b[0m\u001b[0;34m)\u001b[0m\u001b[0;34m.\u001b[0m\u001b[0mdf\u001b[0m\u001b[0;34m[\u001b[0m\u001b[0mdisp_cols\u001b[0m\u001b[0;34m]\u001b[0m\u001b[0;34m\u001b[0m\u001b[0m\n\u001b[0m",
      "\u001b[0;32m/Library/Frameworks/Python.framework/Versions/3.5/lib/python3.5/site-packages/pandas/core/frame.py\u001b[0m in \u001b[0;36m__getitem__\u001b[0;34m(self, key)\u001b[0m\n\u001b[1;32m   1956\u001b[0m         \u001b[0;32mif\u001b[0m \u001b[0misinstance\u001b[0m\u001b[0;34m(\u001b[0m\u001b[0mkey\u001b[0m\u001b[0;34m,\u001b[0m \u001b[0;34m(\u001b[0m\u001b[0mSeries\u001b[0m\u001b[0;34m,\u001b[0m \u001b[0mnp\u001b[0m\u001b[0;34m.\u001b[0m\u001b[0mndarray\u001b[0m\u001b[0;34m,\u001b[0m \u001b[0mIndex\u001b[0m\u001b[0;34m,\u001b[0m \u001b[0mlist\u001b[0m\u001b[0;34m)\u001b[0m\u001b[0;34m)\u001b[0m\u001b[0;34m:\u001b[0m\u001b[0;34m\u001b[0m\u001b[0m\n\u001b[1;32m   1957\u001b[0m             \u001b[0;31m# either boolean or fancy integer index\u001b[0m\u001b[0;34m\u001b[0m\u001b[0;34m\u001b[0m\u001b[0m\n\u001b[0;32m-> 1958\u001b[0;31m             \u001b[0;32mreturn\u001b[0m \u001b[0mself\u001b[0m\u001b[0;34m.\u001b[0m\u001b[0m_getitem_array\u001b[0m\u001b[0;34m(\u001b[0m\u001b[0mkey\u001b[0m\u001b[0;34m)\u001b[0m\u001b[0;34m\u001b[0m\u001b[0m\n\u001b[0m\u001b[1;32m   1959\u001b[0m         \u001b[0;32melif\u001b[0m \u001b[0misinstance\u001b[0m\u001b[0;34m(\u001b[0m\u001b[0mkey\u001b[0m\u001b[0;34m,\u001b[0m \u001b[0mDataFrame\u001b[0m\u001b[0;34m)\u001b[0m\u001b[0;34m:\u001b[0m\u001b[0;34m\u001b[0m\u001b[0m\n\u001b[1;32m   1960\u001b[0m             \u001b[0;32mreturn\u001b[0m \u001b[0mself\u001b[0m\u001b[0;34m.\u001b[0m\u001b[0m_getitem_frame\u001b[0m\u001b[0;34m(\u001b[0m\u001b[0mkey\u001b[0m\u001b[0;34m)\u001b[0m\u001b[0;34m\u001b[0m\u001b[0m\n",
      "\u001b[0;32m/Library/Frameworks/Python.framework/Versions/3.5/lib/python3.5/site-packages/pandas/core/frame.py\u001b[0m in \u001b[0;36m_getitem_array\u001b[0;34m(self, key)\u001b[0m\n\u001b[1;32m   2000\u001b[0m             \u001b[0;32mreturn\u001b[0m \u001b[0mself\u001b[0m\u001b[0;34m.\u001b[0m\u001b[0mtake\u001b[0m\u001b[0;34m(\u001b[0m\u001b[0mindexer\u001b[0m\u001b[0;34m,\u001b[0m \u001b[0maxis\u001b[0m\u001b[0;34m=\u001b[0m\u001b[0;36m0\u001b[0m\u001b[0;34m,\u001b[0m \u001b[0mconvert\u001b[0m\u001b[0;34m=\u001b[0m\u001b[0;32mFalse\u001b[0m\u001b[0;34m)\u001b[0m\u001b[0;34m\u001b[0m\u001b[0m\n\u001b[1;32m   2001\u001b[0m         \u001b[0;32melse\u001b[0m\u001b[0;34m:\u001b[0m\u001b[0;34m\u001b[0m\u001b[0m\n\u001b[0;32m-> 2002\u001b[0;31m             \u001b[0mindexer\u001b[0m \u001b[0;34m=\u001b[0m \u001b[0mself\u001b[0m\u001b[0;34m.\u001b[0m\u001b[0mloc\u001b[0m\u001b[0;34m.\u001b[0m\u001b[0m_convert_to_indexer\u001b[0m\u001b[0;34m(\u001b[0m\u001b[0mkey\u001b[0m\u001b[0;34m,\u001b[0m \u001b[0maxis\u001b[0m\u001b[0;34m=\u001b[0m\u001b[0;36m1\u001b[0m\u001b[0;34m)\u001b[0m\u001b[0;34m\u001b[0m\u001b[0m\n\u001b[0m\u001b[1;32m   2003\u001b[0m             \u001b[0;32mreturn\u001b[0m \u001b[0mself\u001b[0m\u001b[0;34m.\u001b[0m\u001b[0mtake\u001b[0m\u001b[0;34m(\u001b[0m\u001b[0mindexer\u001b[0m\u001b[0;34m,\u001b[0m \u001b[0maxis\u001b[0m\u001b[0;34m=\u001b[0m\u001b[0;36m1\u001b[0m\u001b[0;34m,\u001b[0m \u001b[0mconvert\u001b[0m\u001b[0;34m=\u001b[0m\u001b[0;32mTrue\u001b[0m\u001b[0;34m)\u001b[0m\u001b[0;34m\u001b[0m\u001b[0m\n\u001b[1;32m   2004\u001b[0m \u001b[0;34m\u001b[0m\u001b[0m\n",
      "\u001b[0;32m/Library/Frameworks/Python.framework/Versions/3.5/lib/python3.5/site-packages/pandas/core/indexing.py\u001b[0m in \u001b[0;36m_convert_to_indexer\u001b[0;34m(self, obj, axis, is_setter)\u001b[0m\n\u001b[1;32m   1229\u001b[0m                 \u001b[0mmask\u001b[0m \u001b[0;34m=\u001b[0m \u001b[0mcheck\u001b[0m \u001b[0;34m==\u001b[0m \u001b[0;34m-\u001b[0m\u001b[0;36m1\u001b[0m\u001b[0;34m\u001b[0m\u001b[0m\n\u001b[1;32m   1230\u001b[0m                 \u001b[0;32mif\u001b[0m \u001b[0mmask\u001b[0m\u001b[0;34m.\u001b[0m\u001b[0many\u001b[0m\u001b[0;34m(\u001b[0m\u001b[0;34m)\u001b[0m\u001b[0;34m:\u001b[0m\u001b[0;34m\u001b[0m\u001b[0m\n\u001b[0;32m-> 1231\u001b[0;31m                     \u001b[0;32mraise\u001b[0m \u001b[0mKeyError\u001b[0m\u001b[0;34m(\u001b[0m\u001b[0;34m'%s not in index'\u001b[0m \u001b[0;34m%\u001b[0m \u001b[0mobjarr\u001b[0m\u001b[0;34m[\u001b[0m\u001b[0mmask\u001b[0m\u001b[0;34m]\u001b[0m\u001b[0;34m)\u001b[0m\u001b[0;34m\u001b[0m\u001b[0m\n\u001b[0m\u001b[1;32m   1232\u001b[0m \u001b[0;34m\u001b[0m\u001b[0m\n\u001b[1;32m   1233\u001b[0m                 \u001b[0;32mreturn\u001b[0m \u001b[0m_values_from_object\u001b[0m\u001b[0;34m(\u001b[0m\u001b[0mindexer\u001b[0m\u001b[0;34m)\u001b[0m\u001b[0;34m\u001b[0m\u001b[0m\n",
      "\u001b[0;31mKeyError\u001b[0m: \"['prediction' 'stake' 'applic_odds' 'weeklyprofit'] not in index\""
     ]
    }
   ],
   "source": [
    "fix_pred.filter_by_col('HomeTeamID', 75).filter_by_col('season',2018).df[disp_cols]"
   ]
  },
  {
   "cell_type": "code",
   "execution_count": 406,
   "metadata": {
    "collapsed": false
   },
   "outputs": [
    {
     "data": {
      "text/plain": [
       "6798    Brighton & Hove Albion\n",
       "Name: HomeTeam, dtype: object"
      ]
     },
     "execution_count": 406,
     "metadata": {},
     "output_type": "execute_result"
    }
   ],
   "source": [
    "fix_pred.df[fix_pred.df.FixtureID==9631]['HomeTeam']"
   ]
  },
  {
   "cell_type": "code",
   "execution_count": 405,
   "metadata": {
    "collapsed": false
   },
   "outputs": [
    {
     "data": {
      "text/html": [
       "<div>\n",
       "<style>\n",
       "    .dataframe thead tr:only-child th {\n",
       "        text-align: right;\n",
       "    }\n",
       "\n",
       "    .dataframe thead th {\n",
       "        text-align: left;\n",
       "    }\n",
       "\n",
       "    .dataframe tbody tr th {\n",
       "        vertical-align: top;\n",
       "    }\n",
       "</style>\n",
       "<table border=\"1\" class=\"dataframe\">\n",
       "  <thead>\n",
       "    <tr style=\"text-align: right;\">\n",
       "      <th></th>\n",
       "      <th>HomeTeam</th>\n",
       "      <th>HomeOdds</th>\n",
       "      <th>DrawOdds</th>\n",
       "      <th>AwayOdds</th>\n",
       "    </tr>\n",
       "  </thead>\n",
       "  <tbody>\n",
       "    <tr>\n",
       "      <th>0</th>\n",
       "      <td>Southampton</td>\n",
       "      <td>2.00</td>\n",
       "      <td>3.25</td>\n",
       "      <td>4.00</td>\n",
       "    </tr>\n",
       "    <tr>\n",
       "      <th>1</th>\n",
       "      <td>Liverpool</td>\n",
       "      <td>1.11</td>\n",
       "      <td>10.00</td>\n",
       "      <td>23.00</td>\n",
       "    </tr>\n",
       "    <tr>\n",
       "      <th>2</th>\n",
       "      <td>Fulham</td>\n",
       "      <td>2.80</td>\n",
       "      <td>3.60</td>\n",
       "      <td>2.38</td>\n",
       "    </tr>\n",
       "    <tr>\n",
       "      <th>3</th>\n",
       "      <td>Brighton and Hove Albion</td>\n",
       "      <td>3.40</td>\n",
       "      <td>3.00</td>\n",
       "      <td>2.30</td>\n",
       "    </tr>\n",
       "    <tr>\n",
       "      <th>4</th>\n",
       "      <td>Watford</td>\n",
       "      <td>1.73</td>\n",
       "      <td>3.40</td>\n",
       "      <td>5.50</td>\n",
       "    </tr>\n",
       "    <tr>\n",
       "      <th>5</th>\n",
       "      <td>Leicester City</td>\n",
       "      <td>2.10</td>\n",
       "      <td>3.30</td>\n",
       "      <td>3.50</td>\n",
       "    </tr>\n",
       "    <tr>\n",
       "      <th>6</th>\n",
       "      <td>Crystal Palace</td>\n",
       "      <td>4.33</td>\n",
       "      <td>3.90</td>\n",
       "      <td>1.75</td>\n",
       "    </tr>\n",
       "    <tr>\n",
       "      <th>7</th>\n",
       "      <td>Burnley</td>\n",
       "      <td>9.50</td>\n",
       "      <td>4.75</td>\n",
       "      <td>1.36</td>\n",
       "    </tr>\n",
       "    <tr>\n",
       "      <th>8</th>\n",
       "      <td>Manchester United</td>\n",
       "      <td>1.73</td>\n",
       "      <td>3.70</td>\n",
       "      <td>4.60</td>\n",
       "    </tr>\n",
       "    <tr>\n",
       "      <th>9</th>\n",
       "      <td>Tottenham Hotspur</td>\n",
       "      <td>4.60</td>\n",
       "      <td>3.90</td>\n",
       "      <td>1.70</td>\n",
       "    </tr>\n",
       "  </tbody>\n",
       "</table>\n",
       "</div>"
      ],
      "text/plain": [
       "                   HomeTeam  HomeOdds  DrawOdds  AwayOdds\n",
       "0               Southampton      2.00      3.25      4.00\n",
       "1                 Liverpool      1.11     10.00     23.00\n",
       "2                    Fulham      2.80      3.60      2.38\n",
       "3  Brighton and Hove Albion      3.40      3.00      2.30\n",
       "4                   Watford      1.73      3.40      5.50\n",
       "5            Leicester City      2.10      3.30      3.50\n",
       "6            Crystal Palace      4.33      3.90      1.75\n",
       "7                   Burnley      9.50      4.75      1.36\n",
       "8         Manchester United      1.73      3.70      4.60\n",
       "9         Tottenham Hotspur      4.60      3.90      1.70"
      ]
     },
     "execution_count": 405,
     "metadata": {},
     "output_type": "execute_result"
    }
   ],
   "source": [
    "fix_pred.get_odds('ladbrokes',1)"
   ]
  },
  {
   "cell_type": "code",
   "execution_count": null,
   "metadata": {
    "collapsed": true
   },
   "outputs": [],
   "source": []
  }
 ],
 "metadata": {
  "kernelspec": {
   "display_name": "Python 3",
   "language": "python",
   "name": "python3"
  },
  "language_info": {
   "codemirror_mode": {
    "name": "ipython",
    "version": 3
   },
   "file_extension": ".py",
   "mimetype": "text/x-python",
   "name": "python",
   "nbconvert_exporter": "python",
   "pygments_lexer": "ipython3",
   "version": "3.5.1"
  }
 },
 "nbformat": 4,
 "nbformat_minor": 0
}
